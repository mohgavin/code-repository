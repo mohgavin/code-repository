{
 "cells": [
  {
   "cell_type": "code",
   "execution_count": null,
   "metadata": {},
   "outputs": [],
   "source": [
    "import pandas as pd\n",
    "import geopandas as gpd"
   ]
  },
  {
   "cell_type": "code",
   "execution_count": null,
   "metadata": {},
   "outputs": [],
   "source": [
    "throughput_pol = pd.read_csv('result/throughput-dl-l1800-5x5.csv/0.part')\n",
    "# kecamatan = pd.read_csv('csv_polygon/Kecamatan_Jabotabek.csv')"
   ]
  },
  {
   "cell_type": "code",
   "execution_count": null,
   "metadata": {},
   "outputs": [],
   "source": [
    "throughput_pol.set_index('geometry_polygon', inplace=True)\n",
    "throughput_pol.rename(columns={'UE_Throughput-L1800':'UE_Throughput-L1800-DL-avg'}, inplace=True)"
   ]
  },
  {
   "cell_type": "code",
   "execution_count": null,
   "metadata": {},
   "outputs": [],
   "source": [
    "throughput_pop = pd.read_csv('result/throughput-dl-l1800-5x5-pop.csv/0.part')"
   ]
  },
  {
   "cell_type": "code",
   "execution_count": null,
   "metadata": {},
   "outputs": [],
   "source": [
    "throughput_pop.set_index('geometry_polygon', inplace=True)\n",
    "throughput_pop.rename(columns={'UE_Throughput-L1800':'UE_Throughput-L1800-pop'}, inplace=True)"
   ]
  },
  {
   "cell_type": "code",
   "execution_count": null,
   "metadata": {},
   "outputs": [],
   "source": [
    "throughput_pol = pd.concat([throughput_pol, throughput_pop], axis=1)"
   ]
  },
  {
   "cell_type": "code",
   "execution_count": null,
   "metadata": {},
   "outputs": [],
   "source": [
    "throughput_pol.reset_index(inplace=True)"
   ]
  },
  {
   "cell_type": "code",
   "execution_count": null,
   "metadata": {},
   "outputs": [],
   "source": [
    "throughput_pol  = gpd.GeoDataFrame(throughput_pol, geometry=gpd.GeoSeries.from_wkt(throughput_pol['geometry_polygon']), crs=4326)"
   ]
  },
  {
   "cell_type": "code",
   "execution_count": null,
   "metadata": {},
   "outputs": [],
   "source": [
    "throughput_pol.to_file('result/coverage_map/throughput_dl_l1800-polygon-5x5.tab', driver='MapInfo File')"
   ]
  }
 ],
 "metadata": {
  "kernelspec": {
   "display_name": ".python-3.10",
   "language": "python",
   "name": "python3"
  },
  "language_info": {
   "codemirror_mode": {
    "name": "ipython",
    "version": 3
   },
   "file_extension": ".py",
   "mimetype": "text/x-python",
   "name": "python",
   "nbconvert_exporter": "python",
   "pygments_lexer": "ipython3",
   "version": "3.10.11"
  },
  "orig_nbformat": 4
 },
 "nbformat": 4,
 "nbformat_minor": 2
}
