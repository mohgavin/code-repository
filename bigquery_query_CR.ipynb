{
 "cells": [
  {
   "cell_type": "code",
   "execution_count": 1,
   "metadata": {},
   "outputs": [
    {
     "name": "stderr",
     "output_type": "stream",
     "text": [
      "/home/nivag/2023-Linux/.python-3.10/lib/python3.10/site-packages/google/auth/_default.py:78: UserWarning: Your application has authenticated using end user credentials from Google Cloud SDK without a quota project. You might receive a \"quota exceeded\" or \"API not enabled\" error. See the following page for troubleshooting: https://cloud.google.com/docs/authentication/adc-troubleshooting/user-creds. \n",
      "  warnings.warn(_CLOUD_SDK_CREDENTIALS_WARNING)\n"
     ]
    }
   ],
   "source": [
    "from google.cloud import bigquery\n",
    "import os\n",
    "import pandas as pd\n",
    "from sqlite3 import connect\n",
    "from datetime import datetime\n",
    "import geopandas as gpd\n",
    "\n",
    "os.environ[\"GCLOUD_PROJECT\"] = \"ericsson-304409\"\n",
    "\n",
    "client = bigquery.Client()"
   ]
  },
  {
   "cell_type": "code",
   "execution_count": 2,
   "metadata": {},
   "outputs": [],
   "source": [
    "## For query Video Benchmark\n",
    "\n",
    "# Query = (\n",
    "#     'SELECT mobile_operator, created_date, latitude, longitude, province, kabupaten, video_source, video_time_to_start,video_rebuffering_count, video_rebuffering_time,video_initial_buffering_time, in_stream_failure, video_quality_time_1080p, video_quality_time_720p, video_quality_time_480p FROM `ericsson-304409.user_experience.video`' \n",
    "\n",
    "#     ### For Date, please note that if you want to take date 16th for the end date, you have to put the date in 17th.\n",
    "    \n",
    "#     'WHERE (created_date between \"2023-03-01\" and \"2023-04-01\") and (mobile_operator = \"XL Axiata\" or mobile_operator = \"Smartfren\" or mobile_operator=\"3\" or mobile_operator = \"Indosat Ooredoo\" or mobile_operator = \"PT Telekomunikasi Indonesia\" or mobile_operator=\"Telkomsel\") and (province=\"Dki Jakarta\" or province=\"Jawa Barat\" or province=\"Banten\")'\n",
    "#         )\n",
    "\n",
    "# Query = (\n",
    "#     'SELECT * FROM `ericsson-304409.user_experience.video`' \n",
    "\n",
    "#     ### For Date, please note that if you want to take date 16th for the end date, you have to put the date in 17th.\n",
    "    \n",
    "#     'WHERE (created_date between \"2023-03-01\" and \"2023-04-01\") and (mobile_operator = \"XL Axiata\" or mobile_operator = \"Smartfren\" or mobile_operator=\"3\" or mobile_operator = \"Indosat Ooredoo\" or mobile_operator = \"PT Telekomunikasi Indonesia\" or mobile_operator=\"Telkomsel\") and (province=\"Dki Jakarta\" or province=\"Jawa Barat\" or province=\"Banten\")'\n",
    "#         )\n",
    "\n",
    "    ## Option for province of XL-EID Area : Jawa Tengah, Daerah Istimewa Yogyakarta, Dki Jakarta, Jawa Barat, Banten"
   ]
  },
  {
   "cell_type": "code",
   "execution_count": 3,
   "metadata": {},
   "outputs": [],
   "source": [
    "## For query Throughput and RSRP \n",
    "\n",
    "# Query = (\n",
    "#          'SELECT mobile_operator, created_date, latitude, longitude, province, kabupaten, reference_signal_received_power, dl_throughput FROM `ericsson-304409.user_experience.throughput_latency`'\n",
    "         \n",
    "#          ### For Date, please note that if you want to take date 16th for the end date, you have to put the date in 17th.\n",
    "\n",
    "#          'WHERE (created_date between \"2023-05-01\" and \"2023-06-01\") and (mobile_operator = \"XL Axiata\" or mobile_operator = \"Smartfren\" or mobile_operator=\"3\" or mobile_operator = \"Indosat Ooredoo\" or mobile_operator = \"PT Telekomunikasi Indonesia\" or mobile_operator=\"Telkomsel\") and (province=\"Dki Jakarta\" or province=\"Jawa Barat\" or province=\"Banten\")'\n",
    "#         )\n",
    "\n",
    "# #         ### Option for province of XL-EID Area : Jawa Tengah, Daerah Istimewa Yogyakarta, Dki Jakarta, Jawa Barat, Banten\n",
    "\n",
    "Query = (\n",
    "         'SELECT * FROM `ericsson-304409.user_experience.throughput_latency`'\n",
    "         \n",
    "         ### For Date, please note that if you want to take date 16th for the end date, you have to put the date in 17th.\n",
    "\n",
    "         'WHERE (created_date between \"2023-05-01\" and \"2023-06-01\") and (mobile_operator = \"XL Axiata\" or mobile_operator = \"Smartfren\" or mobile_operator=\"3\" or mobile_operator = \"Indosat Ooredoo\" or mobile_operator = \"PT Telekomunikasi Indonesia\" or mobile_operator=\"Telkomsel\") and (province=\"Dki Jakarta\" or province=\"Jawa Barat\" or province=\"Banten\")'\n",
    "        )\n",
    "\n",
    "#         ### Option for province of XL-EID Area : Jawa Tengah, Daerah Istimewa Yogyakarta, Dki Jakarta, Jawa Barat, Banten"
   ]
  },
  {
   "cell_type": "code",
   "execution_count": 4,
   "metadata": {},
   "outputs": [],
   "source": [
    "query_job = client.query(Query)"
   ]
  },
  {
   "cell_type": "code",
   "execution_count": null,
   "metadata": {},
   "outputs": [],
   "source": [
    "rows = query_job.result()"
   ]
  },
  {
   "cell_type": "code",
   "execution_count": null,
   "metadata": {},
   "outputs": [],
   "source": [
    "for dataframe in rows.to_dataframe_iterable():\n",
    "\n",
    "    now = datetime.now()\n",
    "    current_time = now.strftime(\"%H-%M-%S\")\n",
    "    df = pd.DataFrame(dataframe)\n",
    "    df.to_csv(f'cellrebel/cellrebel-{current_time}.csv')"
   ]
  }
 ],
 "metadata": {
  "kernelspec": {
   "display_name": ".venv",
   "language": "python",
   "name": "python3"
  },
  "language_info": {
   "codemirror_mode": {
    "name": "ipython",
    "version": 3
   },
   "file_extension": ".py",
   "mimetype": "text/x-python",
   "name": "python",
   "nbconvert_exporter": "python",
   "pygments_lexer": "ipython3",
   "version": "3.10.11"
  },
  "orig_nbformat": 4
 },
 "nbformat": 4,
 "nbformat_minor": 2
}
