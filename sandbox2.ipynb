{
 "cells": [
  {
   "cell_type": "code",
   "execution_count": 1,
   "metadata": {},
   "outputs": [],
   "source": [
    "import pandas as pd"
   ]
  },
  {
   "cell_type": "code",
   "execution_count": 2,
   "metadata": {},
   "outputs": [],
   "source": [
    "test = pd.read_csv('Compile-MDT/mdt_result_8007_20230502_07.csv')"
   ]
  },
  {
   "cell_type": "code",
   "execution_count": 15,
   "metadata": {},
   "outputs": [
    {
     "data": {
      "text/plain": [
       "Index(['date', 'hour', 'site', 'enodebid', 'ci', 'mmes1apid', 'longitude',\n",
       "       'latitude', 'altitude', 'rsrp_serving', 'rsrq_serving', 'earfcn_neigh',\n",
       "       'pci_1', 'rsrp_1', 'rsrq_1', 'pci_2', 'rsrp_2', 'rsrq_2', 'pci_3',\n",
       "       'rsrp_3', 'rsrq_3', 'pci_4', 'rsrp_4', 'rsrq_4', 'support_L900_FDD',\n",
       "       'support_L1800_FDD', 'support_L2600_TDD', 'CA_capable',\n",
       "       'CA_3CC_capable', 'MIMO4x4', 'ENDC', 'NR_SA'],\n",
       "      dtype='object')"
      ]
     },
     "execution_count": 15,
     "metadata": {},
     "output_type": "execute_result"
    }
   ],
   "source": [
    "test.columns"
   ]
  }
 ],
 "metadata": {
  "kernelspec": {
   "display_name": ".python-3.10-1",
   "language": "python",
   "name": "python3"
  },
  "language_info": {
   "codemirror_mode": {
    "name": "ipython",
    "version": 3
   },
   "file_extension": ".py",
   "mimetype": "text/x-python",
   "name": "python",
   "nbconvert_exporter": "python",
   "pygments_lexer": "ipython3",
   "version": "3.10.11"
  },
  "orig_nbformat": 4
 },
 "nbformat": 4,
 "nbformat_minor": 2
}
