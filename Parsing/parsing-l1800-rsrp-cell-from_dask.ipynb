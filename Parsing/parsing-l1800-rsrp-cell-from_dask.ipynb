{
 "cells": [
  {
   "cell_type": "code",
   "execution_count": null,
   "metadata": {},
   "outputs": [],
   "source": [
    "import pandas as pd\n",
    "import geopandas as gpd"
   ]
  },
  {
   "cell_type": "code",
   "execution_count": null,
   "metadata": {},
   "outputs": [],
   "source": [
    "rsrp_pol = pd.read_csv('result/rsrp-l1800-alljabo-40x40.csv/0.part')\n",
    "kecamatan = pd.read_csv('csv_polygon/Kecamatan_Jabotabek.csv')"
   ]
  },
  {
   "cell_type": "code",
   "execution_count": null,
   "metadata": {},
   "outputs": [],
   "source": [
    "rsrp_pol.set_index('geometry_polygon', inplace=True)\n",
    "rsrp_pol.rename(columns={'rsrp-l1800':'rsrp-l1800-avg'}, inplace=True)"
   ]
  },
  {
   "cell_type": "code",
   "execution_count": null,
   "metadata": {},
   "outputs": [],
   "source": [
    "rsrp_pop = pd.read_csv('result/rsrp-l1800-alljabo-40x40-pop.csv/0.part')"
   ]
  },
  {
   "cell_type": "code",
   "execution_count": null,
   "metadata": {},
   "outputs": [],
   "source": [
    "rsrp_pop.set_index('geometry_polygon', inplace=True)\n",
    "rsrp_pop.rename(columns={'rsrp-l1800':'rsrp-l1800-pop'}, inplace=True)"
   ]
  },
  {
   "cell_type": "code",
   "execution_count": null,
   "metadata": {},
   "outputs": [],
   "source": [
    "rsrp_pol = pd.concat([rsrp_pol, rsrp_pop], axis=1)"
   ]
  },
  {
   "cell_type": "code",
   "execution_count": null,
   "metadata": {},
   "outputs": [],
   "source": [
    "rsrp_pol.reset_index(inplace=True)"
   ]
  },
  {
   "cell_type": "code",
   "execution_count": 8,
   "metadata": {},
   "outputs": [],
   "source": [
    "rsrp_pol  = gpd.GeoDataFrame(rsrp_pol, geometry=gpd.GeoSeries.from_wkt(rsrp_pol['geometry_polygon']), crs=4326)\n",
    "kecamatan = gpd.read_file('Polygon XL - EID Area/Kecamatan_Jabotabek.TAB')\n",
    "\n",
    "rsrp_pol = gpd.sjoin(left_df= rsrp_pol, right_df=kecamatan, how='inner', predicate='intersects')"
   ]
  },
  {
   "cell_type": "code",
   "execution_count": null,
   "metadata": {},
   "outputs": [],
   "source": [
    "rsrp_pol.drop(columns=['Luas_Kec_Sq_Km', 'ID_Kecamatan', 'Commercial_XL', 'index_right'], inplace=True)"
   ]
  },
  {
   "cell_type": "code",
   "execution_count": null,
   "metadata": {},
   "outputs": [],
   "source": [
    "rsrp_pol = rsrp_pol[rsrp_pol['Kabupaten_Kota'] == 'JAKARTA PUSAT']\n",
    "# rsrp_pol = rsrp_pol[rsrp_pol['rsrp-l1800-pop'] > 500 ]"
   ]
  },
  {
   "cell_type": "code",
   "execution_count": null,
   "metadata": {},
   "outputs": [],
   "source": [
    "rsrp_pol.to_file('result/coverage_map/rsrp_l1800-jakpus-40x40.tab', driver='MapInfo File')\n",
    "# rsrp_pol.to_csv('result/coverage_map/rsrp_l1800-alljabo.csv', index=False)"
   ]
  }
 ],
 "metadata": {
  "kernelspec": {
   "display_name": ".python-3.10",
   "language": "python",
   "name": "python3"
  },
  "language_info": {
   "codemirror_mode": {
    "name": "ipython",
    "version": 3
   },
   "file_extension": ".py",
   "mimetype": "text/x-python",
   "name": "python",
   "nbconvert_exporter": "python",
   "pygments_lexer": "ipython3",
   "version": "3.10.11"
  },
  "orig_nbformat": 4
 },
 "nbformat": 4,
 "nbformat_minor": 2
}
