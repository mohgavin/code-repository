{
 "cells": [
  {
   "cell_type": "code",
   "execution_count": 1,
   "metadata": {},
   "outputs": [],
   "source": [
    "import pandas as pd\n",
    "import geopandas as gpd"
   ]
  },
  {
   "cell_type": "code",
   "execution_count": 2,
   "metadata": {},
   "outputs": [],
   "source": [
    "rsrp_pol = pd.read_csv('result/polygon-result/rsrp-combined-polygon-5x5.csv/0.part')\n",
    "# kecamatan = pd.read_csv('csv_polygon/Kecamatan_Jabotabek.csv')"
   ]
  },
  {
   "cell_type": "code",
   "execution_count": 3,
   "metadata": {},
   "outputs": [],
   "source": [
    "rsrp_pol.set_index('geometry_polygon', inplace=True)\n",
    "rsrp_pol.rename(columns={'rsrp-combined':'rsrp-combined-avg'}, inplace=True)"
   ]
  },
  {
   "cell_type": "code",
   "execution_count": 4,
   "metadata": {},
   "outputs": [],
   "source": [
    "rsrp_pop = pd.read_csv('result/polygon-result/rsrp-combined-polygon-5x5-pop.csv/0.part')"
   ]
  },
  {
   "cell_type": "code",
   "execution_count": 5,
   "metadata": {},
   "outputs": [],
   "source": [
    "rsrp_pop.set_index('geometry_polygon', inplace=True)\n",
    "rsrp_pop.rename(columns={'rsrp-combined':'rsrp-combined-pop'}, inplace=True)"
   ]
  },
  {
   "cell_type": "code",
   "execution_count": 6,
   "metadata": {},
   "outputs": [],
   "source": [
    "rsrp_pol = pd.concat([rsrp_pol, rsrp_pop], axis=1)"
   ]
  },
  {
   "cell_type": "code",
   "execution_count": 7,
   "metadata": {},
   "outputs": [],
   "source": [
    "rsrp_pol.reset_index(inplace=True)"
   ]
  },
  {
   "cell_type": "code",
   "execution_count": 8,
   "metadata": {},
   "outputs": [],
   "source": [
    "rsrp_pol  = gpd.GeoDataFrame(rsrp_pol, geometry=gpd.GeoSeries.from_wkt(rsrp_pol['geometry_polygon']), crs=4326)"
   ]
  },
  {
   "cell_type": "code",
   "execution_count": 9,
   "metadata": {},
   "outputs": [],
   "source": [
    "# rsrp_pol = gpd.sjoin(left_df= rsrp_pol, right_df=kecamatan, how='inner', predicate='intersects')\n",
    "# rsrp_pol.drop(columns=['index_right','Luas_Kec_Sq_Km', 'ID_Kecamatan', 'Commercial_XL', 'index_right'], inplace=True)"
   ]
  },
  {
   "cell_type": "code",
   "execution_count": 10,
   "metadata": {},
   "outputs": [
    {
     "data": {
      "text/html": [
       "<div>\n",
       "<style scoped>\n",
       "    .dataframe tbody tr th:only-of-type {\n",
       "        vertical-align: middle;\n",
       "    }\n",
       "\n",
       "    .dataframe tbody tr th {\n",
       "        vertical-align: top;\n",
       "    }\n",
       "\n",
       "    .dataframe thead th {\n",
       "        text-align: right;\n",
       "    }\n",
       "</style>\n",
       "<table border=\"1\" class=\"dataframe\">\n",
       "  <thead>\n",
       "    <tr style=\"text-align: right;\">\n",
       "      <th></th>\n",
       "      <th>geometry_polygon</th>\n",
       "      <th>rsrp-combined-avg</th>\n",
       "      <th>rsrp-combined-pop</th>\n",
       "      <th>geometry</th>\n",
       "    </tr>\n",
       "  </thead>\n",
       "  <tbody>\n",
       "    <tr>\n",
       "      <th>0</th>\n",
       "      <td>POLYGON ((106.798059 -6.214457, 106.798104 -6....</td>\n",
       "      <td>-81.500000</td>\n",
       "      <td>4.0</td>\n",
       "      <td>POLYGON ((106.79806 -6.21446, 106.79810 -6.214...</td>\n",
       "    </tr>\n",
       "    <tr>\n",
       "      <th>1</th>\n",
       "      <td>POLYGON ((106.798059 -6.214502, 106.798104 -6....</td>\n",
       "      <td>-81.777778</td>\n",
       "      <td>9.0</td>\n",
       "      <td>POLYGON ((106.79806 -6.21450, 106.79810 -6.214...</td>\n",
       "    </tr>\n",
       "    <tr>\n",
       "      <th>2</th>\n",
       "      <td>POLYGON ((106.798059 -6.214547, 106.798104 -6....</td>\n",
       "      <td>-81.888889</td>\n",
       "      <td>9.0</td>\n",
       "      <td>POLYGON ((106.79806 -6.21455, 106.79810 -6.214...</td>\n",
       "    </tr>\n",
       "    <tr>\n",
       "      <th>3</th>\n",
       "      <td>POLYGON ((106.798059 -6.214592, 106.798104 -6....</td>\n",
       "      <td>-80.500000</td>\n",
       "      <td>8.0</td>\n",
       "      <td>POLYGON ((106.79806 -6.21459, 106.79810 -6.214...</td>\n",
       "    </tr>\n",
       "    <tr>\n",
       "      <th>4</th>\n",
       "      <td>POLYGON ((106.798059 -6.214637, 106.798104 -6....</td>\n",
       "      <td>-85.444444</td>\n",
       "      <td>9.0</td>\n",
       "      <td>POLYGON ((106.79806 -6.21464, 106.79810 -6.214...</td>\n",
       "    </tr>\n",
       "    <tr>\n",
       "      <th>...</th>\n",
       "      <td>...</td>\n",
       "      <td>...</td>\n",
       "      <td>...</td>\n",
       "      <td>...</td>\n",
       "    </tr>\n",
       "    <tr>\n",
       "      <th>18792</th>\n",
       "      <td>POLYGON ((106.812301 -6.219443, 106.812346 -6....</td>\n",
       "      <td>-86.200000</td>\n",
       "      <td>5.0</td>\n",
       "      <td>POLYGON ((106.81230 -6.21944, 106.81235 -6.219...</td>\n",
       "    </tr>\n",
       "    <tr>\n",
       "      <th>18793</th>\n",
       "      <td>POLYGON ((106.812301 -6.219488, 106.812346 -6....</td>\n",
       "      <td>-100.250000</td>\n",
       "      <td>4.0</td>\n",
       "      <td>POLYGON ((106.81230 -6.21949, 106.81235 -6.219...</td>\n",
       "    </tr>\n",
       "    <tr>\n",
       "      <th>18794</th>\n",
       "      <td>POLYGON ((106.812301 -6.219533, 106.812346 -6....</td>\n",
       "      <td>-90.000000</td>\n",
       "      <td>1.0</td>\n",
       "      <td>POLYGON ((106.81230 -6.21953, 106.81235 -6.219...</td>\n",
       "    </tr>\n",
       "    <tr>\n",
       "      <th>18795</th>\n",
       "      <td>POLYGON ((106.812346 -6.219399, 106.812391 -6....</td>\n",
       "      <td>-95.333333</td>\n",
       "      <td>6.0</td>\n",
       "      <td>POLYGON ((106.81235 -6.21940, 106.81239 -6.219...</td>\n",
       "    </tr>\n",
       "    <tr>\n",
       "      <th>18796</th>\n",
       "      <td>POLYGON ((106.812346 -6.219443, 106.812391 -6....</td>\n",
       "      <td>-97.400000</td>\n",
       "      <td>5.0</td>\n",
       "      <td>POLYGON ((106.81235 -6.21944, 106.81239 -6.219...</td>\n",
       "    </tr>\n",
       "  </tbody>\n",
       "</table>\n",
       "<p>18797 rows × 4 columns</p>\n",
       "</div>"
      ],
      "text/plain": [
       "                                        geometry_polygon  rsrp-combined-avg   \n",
       "0      POLYGON ((106.798059 -6.214457, 106.798104 -6....         -81.500000  \\\n",
       "1      POLYGON ((106.798059 -6.214502, 106.798104 -6....         -81.777778   \n",
       "2      POLYGON ((106.798059 -6.214547, 106.798104 -6....         -81.888889   \n",
       "3      POLYGON ((106.798059 -6.214592, 106.798104 -6....         -80.500000   \n",
       "4      POLYGON ((106.798059 -6.214637, 106.798104 -6....         -85.444444   \n",
       "...                                                  ...                ...   \n",
       "18792  POLYGON ((106.812301 -6.219443, 106.812346 -6....         -86.200000   \n",
       "18793  POLYGON ((106.812301 -6.219488, 106.812346 -6....        -100.250000   \n",
       "18794  POLYGON ((106.812301 -6.219533, 106.812346 -6....         -90.000000   \n",
       "18795  POLYGON ((106.812346 -6.219399, 106.812391 -6....         -95.333333   \n",
       "18796  POLYGON ((106.812346 -6.219443, 106.812391 -6....         -97.400000   \n",
       "\n",
       "       rsrp-combined-pop                                           geometry  \n",
       "0                    4.0  POLYGON ((106.79806 -6.21446, 106.79810 -6.214...  \n",
       "1                    9.0  POLYGON ((106.79806 -6.21450, 106.79810 -6.214...  \n",
       "2                    9.0  POLYGON ((106.79806 -6.21455, 106.79810 -6.214...  \n",
       "3                    8.0  POLYGON ((106.79806 -6.21459, 106.79810 -6.214...  \n",
       "4                    9.0  POLYGON ((106.79806 -6.21464, 106.79810 -6.214...  \n",
       "...                  ...                                                ...  \n",
       "18792                5.0  POLYGON ((106.81230 -6.21944, 106.81235 -6.219...  \n",
       "18793                4.0  POLYGON ((106.81230 -6.21949, 106.81235 -6.219...  \n",
       "18794                1.0  POLYGON ((106.81230 -6.21953, 106.81235 -6.219...  \n",
       "18795                6.0  POLYGON ((106.81235 -6.21940, 106.81239 -6.219...  \n",
       "18796                5.0  POLYGON ((106.81235 -6.21944, 106.81239 -6.219...  \n",
       "\n",
       "[18797 rows x 4 columns]"
      ]
     },
     "execution_count": 10,
     "metadata": {},
     "output_type": "execute_result"
    }
   ],
   "source": [
    "rsrp_pol"
   ]
  },
  {
   "cell_type": "code",
   "execution_count": 11,
   "metadata": {},
   "outputs": [],
   "source": [
    "# rsrp_pol = rsrp_pol[rsrp_pol['Kabupaten_Kota'] == 'JAKARTA SELATAN']\n",
    "# rsrp_pol = rsrp_pol[rsrp_pol['rsrp-combined-pop'] > 600 ]"
   ]
  },
  {
   "cell_type": "code",
   "execution_count": 12,
   "metadata": {},
   "outputs": [],
   "source": [
    "rsrp_pol.to_file('result/coverage_map/rsrp_combined-polygon-GBK-5x5.tab', driver='MapInfo File')"
   ]
  }
 ],
 "metadata": {
  "kernelspec": {
   "display_name": ".python-3.10",
   "language": "python",
   "name": "python3"
  },
  "language_info": {
   "codemirror_mode": {
    "name": "ipython",
    "version": 3
   },
   "file_extension": ".py",
   "mimetype": "text/x-python",
   "name": "python",
   "nbconvert_exporter": "python",
   "pygments_lexer": "ipython3",
   "version": "3.10.11"
  },
  "orig_nbformat": 4
 },
 "nbformat": 4,
 "nbformat_minor": 2
}
