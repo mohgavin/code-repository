{
 "cells": [
  {
   "cell_type": "code",
   "execution_count": 1,
   "metadata": {},
   "outputs": [
    {
     "name": "stdout",
     "output_type": "stream",
     "text": [
      "Loading Files\n",
      "Processing\n"
     ]
    }
   ],
   "source": [
    "import os\n",
    "import pandas as pd\n",
    "import geopandas as gpd\n",
    "import numpy as np\n",
    "from shapely.geometry import Polygon\n",
    "\n",
    "print('Loading Files')\n",
    "sample_pd =pd.read_csv('result/1300_Pomelotel.csv')\n",
    "# sample_gpd = gpd.GeoDataFrame(sample_pd, geometry=gpd.GeoSeries.from_wkt(sample_pd['WKT']), crs=4326)\n",
    "sample_gpd = gpd.GeoDataFrame(sample_pd, geometry=gpd.points_from_xy(sample_pd['longitude'], sample_pd['latitude']), crs=4326)\n",
    "\n",
    "xmin, ymin, xmax, ymax = sample_gpd.total_bounds\n",
    "\n",
    "length =  0.0008985 / 20  ### (the distance for 100 metres is 0.0008985, so if you want to get 250 metres, need to multiply 2.5)\n",
    "wide =  0.0008985 / 20 ### (the distance for 100 metres is 0.0008985, so if you want to get 250 metres, need to multiply 2.5)\n",
    "\n",
    "print('Processing')\n",
    "cols = list(np.arange(xmin, xmax + wide, wide))\n",
    "rows = list(np.arange(ymin, ymax + length, length))\n",
    "\n",
    "polygons = []\n",
    "for x in cols[:-1]: ### [:-1] these are used stop -1 of position from the end of list \n",
    "    for y in rows[:-1]:\n",
    "        polygons.append(Polygon([(x,y), (x+wide, y), (x+wide, y+length), (x, y+length)]))\n",
    "\n",
    "grid = gpd.GeoDataFrame({'geometry':polygons}, crs=4326)"
   ]
  },
  {
   "cell_type": "code",
   "execution_count": 2,
   "metadata": {},
   "outputs": [
    {
     "data": {
      "text/html": [
       "<div>\n",
       "<style scoped>\n",
       "    .dataframe tbody tr th:only-of-type {\n",
       "        vertical-align: middle;\n",
       "    }\n",
       "\n",
       "    .dataframe tbody tr th {\n",
       "        vertical-align: top;\n",
       "    }\n",
       "\n",
       "    .dataframe thead th {\n",
       "        text-align: right;\n",
       "    }\n",
       "</style>\n",
       "<table border=\"1\" class=\"dataframe\">\n",
       "  <thead>\n",
       "    <tr style=\"text-align: right;\">\n",
       "      <th></th>\n",
       "      <th>geometry</th>\n",
       "    </tr>\n",
       "  </thead>\n",
       "  <tbody>\n",
       "    <tr>\n",
       "      <th>0</th>\n",
       "      <td>POLYGON ((106.83547 -6.23811, 106.83551 -6.238...</td>\n",
       "    </tr>\n",
       "    <tr>\n",
       "      <th>1</th>\n",
       "      <td>POLYGON ((106.83547 -6.23807, 106.83551 -6.238...</td>\n",
       "    </tr>\n",
       "    <tr>\n",
       "      <th>2</th>\n",
       "      <td>POLYGON ((106.83547 -6.23802, 106.83551 -6.238...</td>\n",
       "    </tr>\n",
       "    <tr>\n",
       "      <th>3</th>\n",
       "      <td>POLYGON ((106.83547 -6.23798, 106.83551 -6.237...</td>\n",
       "    </tr>\n",
       "    <tr>\n",
       "      <th>4</th>\n",
       "      <td>POLYGON ((106.83547 -6.23793, 106.83551 -6.237...</td>\n",
       "    </tr>\n",
       "    <tr>\n",
       "      <th>...</th>\n",
       "      <td>...</td>\n",
       "    </tr>\n",
       "    <tr>\n",
       "      <th>177</th>\n",
       "      <td>POLYGON ((106.83601 -6.23771, 106.83605 -6.237...</td>\n",
       "    </tr>\n",
       "    <tr>\n",
       "      <th>178</th>\n",
       "      <td>POLYGON ((106.83601 -6.23766, 106.83605 -6.237...</td>\n",
       "    </tr>\n",
       "    <tr>\n",
       "      <th>179</th>\n",
       "      <td>POLYGON ((106.83601 -6.23762, 106.83605 -6.237...</td>\n",
       "    </tr>\n",
       "    <tr>\n",
       "      <th>180</th>\n",
       "      <td>POLYGON ((106.83601 -6.23757, 106.83605 -6.237...</td>\n",
       "    </tr>\n",
       "    <tr>\n",
       "      <th>181</th>\n",
       "      <td>POLYGON ((106.83601 -6.23753, 106.83605 -6.237...</td>\n",
       "    </tr>\n",
       "  </tbody>\n",
       "</table>\n",
       "<p>182 rows × 1 columns</p>\n",
       "</div>"
      ],
      "text/plain": [
       "                                              geometry\n",
       "0    POLYGON ((106.83547 -6.23811, 106.83551 -6.238...\n",
       "1    POLYGON ((106.83547 -6.23807, 106.83551 -6.238...\n",
       "2    POLYGON ((106.83547 -6.23802, 106.83551 -6.238...\n",
       "3    POLYGON ((106.83547 -6.23798, 106.83551 -6.237...\n",
       "4    POLYGON ((106.83547 -6.23793, 106.83551 -6.237...\n",
       "..                                                 ...\n",
       "177  POLYGON ((106.83601 -6.23771, 106.83605 -6.237...\n",
       "178  POLYGON ((106.83601 -6.23766, 106.83605 -6.237...\n",
       "179  POLYGON ((106.83601 -6.23762, 106.83605 -6.237...\n",
       "180  POLYGON ((106.83601 -6.23757, 106.83605 -6.237...\n",
       "181  POLYGON ((106.83601 -6.23753, 106.83605 -6.237...\n",
       "\n",
       "[182 rows x 1 columns]"
      ]
     },
     "execution_count": 2,
     "metadata": {},
     "output_type": "execute_result"
    }
   ],
   "source": [
    "grid"
   ]
  },
  {
   "cell_type": "code",
   "execution_count": 3,
   "metadata": {},
   "outputs": [
    {
     "name": "stdout",
     "output_type": "stream",
     "text": [
      "Saving to File....\n"
     ]
    },
    {
     "name": "stderr",
     "output_type": "stream",
     "text": [
      "/home/nivag/2023-Linux/.python-3.10/lib/python3.10/site-packages/geopandas/geodataframe.py:1537: UserWarning: Geometry column does not contain geometry.\n",
      "  warnings.warn(\"Geometry column does not contain geometry.\")\n"
     ]
    }
   ],
   "source": [
    "\n",
    "grid = grid.sjoin(sample_gpd, how='inner', predicate='intersects')\n",
    "grid.reset_index(inplace=True)\n",
    "grid.rename(columns={'index':'id'}, inplace = True)\n",
    "\n",
    "grid['geometry'] = grid['geometry'].astype(str)\n",
    "grid.drop(columns=['id','index_right', 'WKT', 'longitude', 'latitude'], errors='ignore', inplace=True)\n",
    "# grid.rename(columns={'geometry':'WKT'}, inplace=True)\n",
    "\n",
    "print('Saving to File....')\n",
    "# grid['partition_column'] = grid.index % 15\n",
    "\n",
    "# grid.to_parquet('csv_polygon/5x5grid_1300_Pomelotel.parquet', index=False)\n",
    "grid.to_csv('csv_polygon/5x5grid_1300_Pomelotel.csv', index=False)\n",
    "#ddf = da.from_pandas(grid, chunksize=3000000)\n",
    "#ddf.to_parquet('/home/nivag/grid_folder/grid_40x40/')"
   ]
  }
 ],
 "metadata": {
  "kernelspec": {
   "display_name": ".python-3.10",
   "language": "python",
   "name": "python3"
  },
  "language_info": {
   "codemirror_mode": {
    "name": "ipython",
    "version": 3
   },
   "file_extension": ".py",
   "mimetype": "text/x-python",
   "name": "python",
   "nbconvert_exporter": "python",
   "pygments_lexer": "ipython3",
   "version": "3.10.11"
  },
  "orig_nbformat": 4
 },
 "nbformat": 4,
 "nbformat_minor": 2
}
