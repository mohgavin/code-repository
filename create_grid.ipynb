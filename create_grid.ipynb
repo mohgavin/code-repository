{
 "cells": [
  {
   "cell_type": "code",
   "execution_count": 1,
   "metadata": {},
   "outputs": [
    {
     "name": "stdout",
     "output_type": "stream",
     "text": [
      "Loading Files\n",
      "Processing\n",
      "Saving to File....\n"
     ]
    },
    {
     "name": "stderr",
     "output_type": "stream",
     "text": [
      "/home/nivag/2023-Linux/.python-3.10/lib/python3.10/site-packages/geopandas/geodataframe.py:1537: UserWarning: Geometry column does not contain geometry.\n",
      "  warnings.warn(\"Geometry column does not contain geometry.\")\n"
     ]
    }
   ],
   "source": [
    "import os\n",
    "import pandas as pd\n",
    "import geopandas as gpd\n",
    "import numpy as np\n",
    "from shapely.geometry import Polygon\n",
    "\n",
    "print('Loading Files')\n",
    "cellrebel_pd =pd.read_csv('csv_polygon/GBK_Senayan.csv')\n",
    "cellrebel_gpd = gpd.GeoDataFrame(cellrebel_pd, geometry=gpd.GeoSeries.from_wkt(cellrebel_pd['WKT']), crs=4326)\n",
    "\n",
    "xmin, ymin, xmax, ymax = cellrebel_gpd.total_bounds\n",
    "\n",
    "length =  0.0008985 / 20  ### (the distance for 100 metres is 0.0008985, so if you want to get 250 metres, need to multiply 2.5)\n",
    "wide =  0.0008985 / 20 ### (the distance for 100 metres is 0.0008985, so if you want to get 250 metres, need to multiply 2.5)\n",
    "\n",
    "print('Processing')\n",
    "cols = list(np.arange(xmin, xmax + wide, wide))\n",
    "rows = list(np.arange(ymin, ymax + length, length))\n",
    "\n",
    "polygons = []\n",
    "for x in cols[:-1]: ### [:-1] these are used stop -1 of position from the end of list \n",
    "    for y in rows[:-1]:\n",
    "        polygons.append(Polygon([(x,y), (x+wide, y), (x+wide, y+length), (x, y+length)]))\n",
    "\n",
    "grid = gpd.GeoDataFrame({'geometry':polygons}, crs=4326)\n",
    "\n",
    "grid = grid.sjoin(cellrebel_gpd, how='inner', predicate='intersects')\n",
    "grid.reset_index(inplace=True)\n",
    "grid.rename(columns={'index':'id'}, inplace = True)\n",
    "\n",
    "grid['geometry'] = grid['geometry'].astype(str)\n",
    "grid.drop(columns=['id','index_right', 'WKT'], inplace=True)\n",
    "# grid.rename(columns={'geometry':'WKT'}, inplace=True)\n",
    "\n",
    "print('Saving to File....')\n",
    "grid['partition_column'] = grid.index % 15\n",
    "\n",
    "grid.to_parquet('csv_polygon/5x5grid_GBK.parquet', index=False)\n",
    "#grid.to_csv('grid_folder/40x40grid_alljabo.csv', index=False)\n",
    "#ddf = da.from_pandas(grid, chunksize=3000000)\n",
    "#ddf.to_parquet('/home/nivag/grid_folder/grid_40x40/')\n"
   ]
  }
 ],
 "metadata": {
  "kernelspec": {
   "display_name": ".python-3.10",
   "language": "python",
   "name": "python3"
  },
  "language_info": {
   "codemirror_mode": {
    "name": "ipython",
    "version": 3
   },
   "file_extension": ".py",
   "mimetype": "text/x-python",
   "name": "python",
   "nbconvert_exporter": "python",
   "pygments_lexer": "ipython3",
   "version": "3.10.11"
  },
  "orig_nbformat": 4
 },
 "nbformat": 4,
 "nbformat_minor": 2
}
