{
 "cells": [
  {
   "cell_type": "code",
   "execution_count": 1,
   "metadata": {},
   "outputs": [],
   "source": [
    "import geopandas as gpd\n",
    "import pandas as pd\n",
    "import numpy as np"
   ]
  },
  {
   "cell_type": "code",
   "execution_count": 2,
   "metadata": {},
   "outputs": [],
   "source": [
    "cellrebel = pd.read_feather('Source Data/consolidate_file.feather')\n",
    "# cellrebel = pd.read_csv('Source Data/cellrebel_20230227-20230310.csv', low_memory=False, parse_dates=[1])\n",
    "# grid = gpd.read_file('Source Data/JORR - Polygon.geojson')\n",
    "grid = pd.read_csv('Grid Folder/Bad RSRP Performance_grid200_20 Spot.csv')"
   ]
  },
  {
   "cell_type": "code",
   "execution_count": 3,
   "metadata": {},
   "outputs": [],
   "source": [
    "grid = gpd.GeoDataFrame(grid, geometry=gpd.points_from_xy(grid['Long Grid'], grid['Lat Grid']), crs=4326)"
   ]
  },
  {
   "cell_type": "code",
   "execution_count": 4,
   "metadata": {},
   "outputs": [
    {
     "data": {
      "text/html": [
       "<div>\n",
       "<style scoped>\n",
       "    .dataframe tbody tr th:only-of-type {\n",
       "        vertical-align: middle;\n",
       "    }\n",
       "\n",
       "    .dataframe tbody tr th {\n",
       "        vertical-align: top;\n",
       "    }\n",
       "\n",
       "    .dataframe thead th {\n",
       "        text-align: right;\n",
       "    }\n",
       "</style>\n",
       "<table border=\"1\" class=\"dataframe\">\n",
       "  <thead>\n",
       "    <tr style=\"text-align: right;\">\n",
       "      <th></th>\n",
       "      <th>Lat Grid</th>\n",
       "      <th>Long Grid</th>\n",
       "      <th>Enodebid Ci</th>\n",
       "      <th>Kel Des</th>\n",
       "      <th>Avg Rsrp Serving</th>\n",
       "      <th>Total Samples</th>\n",
       "      <th>geometry</th>\n",
       "    </tr>\n",
       "  </thead>\n",
       "  <tbody>\n",
       "    <tr>\n",
       "      <th>0</th>\n",
       "      <td>-6.219935</td>\n",
       "      <td>106.881552</td>\n",
       "      <td>440842_5</td>\n",
       "      <td>CIPINANG BESAR UTARA</td>\n",
       "      <td>-106.434602</td>\n",
       "      <td>2890</td>\n",
       "      <td>POINT (106.88155 -6.21994)</td>\n",
       "    </tr>\n",
       "    <tr>\n",
       "      <th>1</th>\n",
       "      <td>-6.311563</td>\n",
       "      <td>106.890535</td>\n",
       "      <td>440619_3</td>\n",
       "      <td>CEGER</td>\n",
       "      <td>-105.539606</td>\n",
       "      <td>8067</td>\n",
       "      <td>POINT (106.89053 -6.31156)</td>\n",
       "    </tr>\n",
       "    <tr>\n",
       "      <th>2</th>\n",
       "      <td>-6.273834</td>\n",
       "      <td>106.886942</td>\n",
       "      <td>440617_9</td>\n",
       "      <td>HALIM PERDANA KUSUMAH</td>\n",
       "      <td>-105.656495</td>\n",
       "      <td>3441</td>\n",
       "      <td>POINT (106.88694 -6.27383)</td>\n",
       "    </tr>\n",
       "    <tr>\n",
       "      <th>3</th>\n",
       "      <td>-6.306173</td>\n",
       "      <td>106.917484</td>\n",
       "      <td>440587_6</td>\n",
       "      <td>SETU</td>\n",
       "      <td>-105.010822</td>\n",
       "      <td>3419</td>\n",
       "      <td>POINT (106.91748 -6.30617)</td>\n",
       "    </tr>\n",
       "    <tr>\n",
       "      <th>4</th>\n",
       "      <td>-6.354682</td>\n",
       "      <td>106.881552</td>\n",
       "      <td>440410_8</td>\n",
       "      <td>CIBUBUR</td>\n",
       "      <td>-105.269262</td>\n",
       "      <td>3699</td>\n",
       "      <td>POINT (106.88155 -6.35468)</td>\n",
       "    </tr>\n",
       "    <tr>\n",
       "      <th>5</th>\n",
       "      <td>-6.338513</td>\n",
       "      <td>106.908501</td>\n",
       "      <td>440314_4</td>\n",
       "      <td>CILANGKAP</td>\n",
       "      <td>-106.812453</td>\n",
       "      <td>5300</td>\n",
       "      <td>POINT (106.90850 -6.33851)</td>\n",
       "    </tr>\n",
       "    <tr>\n",
       "      <th>6</th>\n",
       "      <td>-6.320546</td>\n",
       "      <td>106.877958</td>\n",
       "      <td>440311_2</td>\n",
       "      <td>CIRACAS</td>\n",
       "      <td>-105.416759</td>\n",
       "      <td>3604</td>\n",
       "      <td>POINT (106.87796 -6.32055)</td>\n",
       "    </tr>\n",
       "    <tr>\n",
       "      <th>7</th>\n",
       "      <td>-6.349292</td>\n",
       "      <td>106.904908</td>\n",
       "      <td>440260_4</td>\n",
       "      <td>PONDOK RANGGON</td>\n",
       "      <td>-108.310221</td>\n",
       "      <td>3346</td>\n",
       "      <td>POINT (106.90491 -6.34929)</td>\n",
       "    </tr>\n",
       "    <tr>\n",
       "      <th>8</th>\n",
       "      <td>-6.324140</td>\n",
       "      <td>106.894128</td>\n",
       "      <td>440237_5</td>\n",
       "      <td>CIPAYUNG</td>\n",
       "      <td>-105.664440</td>\n",
       "      <td>3743</td>\n",
       "      <td>POINT (106.89413 -6.32414)</td>\n",
       "    </tr>\n",
       "    <tr>\n",
       "      <th>9</th>\n",
       "      <td>-6.351089</td>\n",
       "      <td>106.894128</td>\n",
       "      <td>440139_1</td>\n",
       "      <td>MUNJUL</td>\n",
       "      <td>-105.889796</td>\n",
       "      <td>3920</td>\n",
       "      <td>POINT (106.89413 -6.35109)</td>\n",
       "    </tr>\n",
       "    <tr>\n",
       "      <th>10</th>\n",
       "      <td>-6.218138</td>\n",
       "      <td>106.908501</td>\n",
       "      <td>440102_7</td>\n",
       "      <td>KLENDER</td>\n",
       "      <td>-108.462658</td>\n",
       "      <td>5771</td>\n",
       "      <td>POINT (106.90850 -6.21814)</td>\n",
       "    </tr>\n",
       "    <tr>\n",
       "      <th>11</th>\n",
       "      <td>-6.297190</td>\n",
       "      <td>106.872569</td>\n",
       "      <td>440029_5</td>\n",
       "      <td>RAMBUTAN</td>\n",
       "      <td>-106.465822</td>\n",
       "      <td>7344</td>\n",
       "      <td>POINT (106.87257 -6.29719)</td>\n",
       "    </tr>\n",
       "    <tr>\n",
       "      <th>12</th>\n",
       "      <td>-6.284614</td>\n",
       "      <td>106.872569</td>\n",
       "      <td>440007_2</td>\n",
       "      <td>KRAMATJATI</td>\n",
       "      <td>-106.922895</td>\n",
       "      <td>16873</td>\n",
       "      <td>POINT (106.87257 -6.28461)</td>\n",
       "    </tr>\n",
       "    <tr>\n",
       "      <th>13</th>\n",
       "      <td>-6.191189</td>\n",
       "      <td>106.930061</td>\n",
       "      <td>410825_7</td>\n",
       "      <td>RAWA TERATE</td>\n",
       "      <td>-105.853460</td>\n",
       "      <td>2832</td>\n",
       "      <td>POINT (106.93006 -6.19119)</td>\n",
       "    </tr>\n",
       "    <tr>\n",
       "      <th>14</th>\n",
       "      <td>-6.115730</td>\n",
       "      <td>106.958807</td>\n",
       "      <td>410805_5</td>\n",
       "      <td>MARUNDA</td>\n",
       "      <td>-108.136154</td>\n",
       "      <td>2813</td>\n",
       "      <td>POINT (106.95881 -6.11573)</td>\n",
       "    </tr>\n",
       "    <tr>\n",
       "      <th>15</th>\n",
       "      <td>-6.113934</td>\n",
       "      <td>106.960603</td>\n",
       "      <td>410805_2</td>\n",
       "      <td>MARUNDA</td>\n",
       "      <td>-113.539807</td>\n",
       "      <td>3316</td>\n",
       "      <td>POINT (106.96060 -6.11393)</td>\n",
       "    </tr>\n",
       "    <tr>\n",
       "      <th>16</th>\n",
       "      <td>-6.198375</td>\n",
       "      <td>106.958807</td>\n",
       "      <td>410686_2</td>\n",
       "      <td>PULO GEBANG</td>\n",
       "      <td>-105.876302</td>\n",
       "      <td>4705</td>\n",
       "      <td>POINT (106.95881 -6.19838)</td>\n",
       "    </tr>\n",
       "    <tr>\n",
       "      <th>17</th>\n",
       "      <td>-6.180409</td>\n",
       "      <td>106.949824</td>\n",
       "      <td>410406_6</td>\n",
       "      <td>CAKUNG TIMUR</td>\n",
       "      <td>-105.074354</td>\n",
       "      <td>4371</td>\n",
       "      <td>POINT (106.94982 -6.18041)</td>\n",
       "    </tr>\n",
       "    <tr>\n",
       "      <th>18</th>\n",
       "      <td>-6.113934</td>\n",
       "      <td>106.937247</td>\n",
       "      <td>410255_18</td>\n",
       "      <td>CILINCING</td>\n",
       "      <td>-107.107692</td>\n",
       "      <td>4095</td>\n",
       "      <td>POINT (106.93725 -6.11393)</td>\n",
       "    </tr>\n",
       "    <tr>\n",
       "      <th>19</th>\n",
       "      <td>-6.194782</td>\n",
       "      <td>106.946230</td>\n",
       "      <td>410240_4</td>\n",
       "      <td>PULO GEBANG</td>\n",
       "      <td>-107.463564</td>\n",
       "      <td>3760</td>\n",
       "      <td>POINT (106.94623 -6.19478)</td>\n",
       "    </tr>\n",
       "  </tbody>\n",
       "</table>\n",
       "</div>"
      ],
      "text/plain": [
       "    Lat Grid   Long Grid Enodebid Ci                Kel Des  Avg Rsrp Serving  \\\n",
       "0  -6.219935  106.881552    440842_5   CIPINANG BESAR UTARA       -106.434602   \n",
       "1  -6.311563  106.890535    440619_3                  CEGER       -105.539606   \n",
       "2  -6.273834  106.886942    440617_9  HALIM PERDANA KUSUMAH       -105.656495   \n",
       "3  -6.306173  106.917484    440587_6                   SETU       -105.010822   \n",
       "4  -6.354682  106.881552    440410_8                CIBUBUR       -105.269262   \n",
       "5  -6.338513  106.908501    440314_4              CILANGKAP       -106.812453   \n",
       "6  -6.320546  106.877958    440311_2                CIRACAS       -105.416759   \n",
       "7  -6.349292  106.904908    440260_4         PONDOK RANGGON       -108.310221   \n",
       "8  -6.324140  106.894128    440237_5               CIPAYUNG       -105.664440   \n",
       "9  -6.351089  106.894128    440139_1                 MUNJUL       -105.889796   \n",
       "10 -6.218138  106.908501    440102_7                KLENDER       -108.462658   \n",
       "11 -6.297190  106.872569    440029_5               RAMBUTAN       -106.465822   \n",
       "12 -6.284614  106.872569    440007_2             KRAMATJATI       -106.922895   \n",
       "13 -6.191189  106.930061    410825_7            RAWA TERATE       -105.853460   \n",
       "14 -6.115730  106.958807    410805_5                MARUNDA       -108.136154   \n",
       "15 -6.113934  106.960603    410805_2                MARUNDA       -113.539807   \n",
       "16 -6.198375  106.958807    410686_2            PULO GEBANG       -105.876302   \n",
       "17 -6.180409  106.949824    410406_6           CAKUNG TIMUR       -105.074354   \n",
       "18 -6.113934  106.937247   410255_18              CILINCING       -107.107692   \n",
       "19 -6.194782  106.946230    410240_4            PULO GEBANG       -107.463564   \n",
       "\n",
       "    Total Samples                    geometry  \n",
       "0            2890  POINT (106.88155 -6.21994)  \n",
       "1            8067  POINT (106.89053 -6.31156)  \n",
       "2            3441  POINT (106.88694 -6.27383)  \n",
       "3            3419  POINT (106.91748 -6.30617)  \n",
       "4            3699  POINT (106.88155 -6.35468)  \n",
       "5            5300  POINT (106.90850 -6.33851)  \n",
       "6            3604  POINT (106.87796 -6.32055)  \n",
       "7            3346  POINT (106.90491 -6.34929)  \n",
       "8            3743  POINT (106.89413 -6.32414)  \n",
       "9            3920  POINT (106.89413 -6.35109)  \n",
       "10           5771  POINT (106.90850 -6.21814)  \n",
       "11           7344  POINT (106.87257 -6.29719)  \n",
       "12          16873  POINT (106.87257 -6.28461)  \n",
       "13           2832  POINT (106.93006 -6.19119)  \n",
       "14           2813  POINT (106.95881 -6.11573)  \n",
       "15           3316  POINT (106.96060 -6.11393)  \n",
       "16           4705  POINT (106.95881 -6.19838)  \n",
       "17           4371  POINT (106.94982 -6.18041)  \n",
       "18           4095  POINT (106.93725 -6.11393)  \n",
       "19           3760  POINT (106.94623 -6.19478)  "
      ]
     },
     "execution_count": 4,
     "metadata": {},
     "output_type": "execute_result"
    }
   ],
   "source": [
    "grid"
   ]
  },
  {
   "cell_type": "code",
   "execution_count": null,
   "metadata": {},
   "outputs": [],
   "source": [
    "cellrebel['mobile_operator'].replace('PT Telekomunikasi Indonesia', 'Telkomsel', inplace=True)\n",
    "cellrebel['mobile_operator'].replace('3', 'Indosat Ooredoo', inplace=True)"
   ]
  },
  {
   "cell_type": "code",
   "execution_count": null,
   "metadata": {},
   "outputs": [],
   "source": [
    "cellrebel = cellrebel[cellrebel['mobile_operator'].str.contains('XL Axiata|Indosat Ooredoo|Telkomsel|Smartfren')== True ]\n",
    "cellrebel = cellrebel[cellrebel['created_date'].astype(str).str.contains('2023-02-25|2023-02-26|2023-03-04|2023-03-05|2023-03-11|2023-03-12|2023-03-18|2023-03-19')==False]"
   ]
  },
  {
   "cell_type": "code",
   "execution_count": null,
   "metadata": {},
   "outputs": [],
   "source": [
    "cellrebel['created_date'] = pd.to_datetime(cellrebel['created_date'])"
   ]
  },
  {
   "cell_type": "code",
   "execution_count": null,
   "metadata": {},
   "outputs": [],
   "source": [
    "hour_filter = (cellrebel['created_date'].dt.hour == 7) | (cellrebel['created_date'].dt.hour == 8) | (cellrebel['created_date'].dt.hour == 9)| (cellrebel['created_date'].dt.hour == 18)\n",
    "\n",
    "cellrebel = cellrebel[hour_filter]"
   ]
  },
  {
   "cell_type": "code",
   "execution_count": null,
   "metadata": {},
   "outputs": [],
   "source": [
    "cellrebel_cov = cellrebel[cellrebel['reference_signal_received_power'] < 0]\n",
    "cellrebel_cap = cellrebel[cellrebel['dl_throughput'].astype(int) > 0]"
   ]
  },
  {
   "cell_type": "code",
   "execution_count": null,
   "metadata": {},
   "outputs": [],
   "source": [
    "cellrebel_cov['reference_signal_received_power'].sort_values()"
   ]
  },
  {
   "cell_type": "code",
   "execution_count": null,
   "metadata": {},
   "outputs": [],
   "source": [
    "cellrebel_gpd_cov = gpd.GeoDataFrame(cellrebel_cov, geometry=gpd.points_from_xy(cellrebel_cov.longitude, cellrebel_cov.latitude), crs=4326)\n",
    "cellrebel_gpd_cap = gpd.GeoDataFrame(cellrebel_cap, geometry=gpd.points_from_xy(cellrebel_cap.longitude, cellrebel_cap.latitude), crs=4326)\n",
    "grid = grid.to_crs(4326)\n",
    "grid['geometry1'] = grid['geometry']"
   ]
  },
  {
   "cell_type": "code",
   "execution_count": null,
   "metadata": {},
   "outputs": [],
   "source": [
    "points_within_cov = gpd.sjoin(left_df= cellrebel_gpd_cov,right_df=grid, how='left', predicate='within')\n",
    "points_within_cap = gpd.sjoin(left_df= cellrebel_gpd_cap,right_df=grid, how='left', predicate='within')"
   ]
  },
  {
   "cell_type": "code",
   "execution_count": null,
   "metadata": {},
   "outputs": [],
   "source": [
    "points_within_cap['geometry1'].value_counts()"
   ]
  },
  {
   "cell_type": "code",
   "execution_count": null,
   "metadata": {},
   "outputs": [],
   "source": [
    "pivot_cov = pd.pivot_table(points_within_cov, index= ['poly_name', 'index_right'], columns=['mobile_operator'], values=['reference_signal_received_power'], aggfunc = np.mean)\n",
    "pivot_cap = pd.pivot_table(points_within_cap, index= ['poly_name', 'index_right'], columns=['mobile_operator'], values=['dl_throughput'], aggfunc = lambda x: x.quantile(0.1))"
   ]
  },
  {
   "cell_type": "code",
   "execution_count": null,
   "metadata": {},
   "outputs": [],
   "source": [
    "pivot_cov.fillna(-150, inplace=True)\n",
    "pivot_cap.fillna(0, inplace=True)"
   ]
  },
  {
   "cell_type": "code",
   "execution_count": null,
   "metadata": {},
   "outputs": [],
   "source": [
    "pivot_cov.reset_index(inplace=True, col_level=1, allow_duplicates=False)\n",
    "pivot_cap.reset_index(inplace=True, col_level=1, allow_duplicates=False)"
   ]
  },
  {
   "cell_type": "code",
   "execution_count": null,
   "metadata": {},
   "outputs": [],
   "source": [
    "pivot_cov = pivot_cov.droplevel(level=0, axis=1)\n",
    "pivot_cap = pivot_cap.droplevel(level=0, axis=1)"
   ]
  },
  {
   "cell_type": "code",
   "execution_count": null,
   "metadata": {},
   "outputs": [],
   "source": [
    "pivot_cov = pivot_cov.merge(points_within_cov[['index_right', 'geometry1']], how='left', on='index_right')\n",
    "pivot_cap = pivot_cap.merge(points_within_cap[['index_right', 'geometry1']], how='left', on='index_right')"
   ]
  },
  {
   "cell_type": "code",
   "execution_count": null,
   "metadata": {},
   "outputs": [],
   "source": [
    "pivot_cov.drop_duplicates(ignore_index=True, inplace=True)\n",
    "pivot_cap.drop_duplicates(ignore_index=True, inplace=True)"
   ]
  },
  {
   "cell_type": "code",
   "execution_count": null,
   "metadata": {},
   "outputs": [],
   "source": [
    "pivot_cov.to_csv('result/p10_poi_coverage_result.csv')\n",
    "pivot_cap.to_csv('result/p10_poi_capacity_result.csv')\n",
    "cellrebel.to_csv('processed_data.csv')"
   ]
  }
 ],
 "metadata": {
  "kernelspec": {
   "display_name": ".env",
   "language": "python",
   "name": "python3"
  },
  "language_info": {
   "codemirror_mode": {
    "name": "ipython",
    "version": 3
   },
   "file_extension": ".py",
   "mimetype": "text/x-python",
   "name": "python",
   "nbconvert_exporter": "python",
   "pygments_lexer": "ipython3",
   "version": "3.10.11"
  },
  "orig_nbformat": 4
 },
 "nbformat": 4,
 "nbformat_minor": 2
}
