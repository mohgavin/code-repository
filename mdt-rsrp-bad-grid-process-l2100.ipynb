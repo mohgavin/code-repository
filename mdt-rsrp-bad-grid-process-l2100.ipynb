{
 "cells": [
  {
   "cell_type": "code",
   "execution_count": 1,
   "metadata": {},
   "outputs": [],
   "source": [
    "import pandas as pd\n",
    "import geopandas as gpd"
   ]
  },
  {
   "cell_type": "code",
   "execution_count": 2,
   "metadata": {},
   "outputs": [],
   "source": [
    "data1 = pd.read_csv('result/rsrp-l2100-alljabo-40x40-pop.csv/0.part')\n",
    "data2 = pd.read_csv('result/rsrp-l2100-alljabo-40x40.csv/0.part')\n",
    "\n",
    "existing_sites = pd.read_excel('sites/Existing Sites-L2100.xlsx')\n",
    "new_sites = pd.read_csv('sites/1657 Sites.csv')\n",
    "\n",
    "kecamatan = gpd.read_file('Polygon XL - EID Area/Kecamatan_Jabotabek.TAB')"
   ]
  },
  {
   "cell_type": "code",
   "execution_count": 3,
   "metadata": {},
   "outputs": [],
   "source": [
    "data1.rename(columns={'rsrp-l2100':'rsrp-l2100-qty'}, inplace=True)"
   ]
  },
  {
   "cell_type": "code",
   "execution_count": 4,
   "metadata": {},
   "outputs": [],
   "source": [
    "existing_sites = existing_sites[['Tower ID', 'Frequency System', 'Longitude', 'Latitude']]\n",
    "new_sites = new_sites[['Planning ID','Lat', 'Long']]"
   ]
  },
  {
   "cell_type": "code",
   "execution_count": 5,
   "metadata": {},
   "outputs": [],
   "source": [
    "data2.rename(columns={'geometry_polygon': 'geometry_polygon1'}, inplace=True)\n",
    "data1 = pd.concat([data1, data2], axis=1, join='inner')"
   ]
  },
  {
   "cell_type": "code",
   "execution_count": 6,
   "metadata": {},
   "outputs": [
    {
     "data": {
      "text/html": [
       "<div>\n",
       "<style scoped>\n",
       "    .dataframe tbody tr th:only-of-type {\n",
       "        vertical-align: middle;\n",
       "    }\n",
       "\n",
       "    .dataframe tbody tr th {\n",
       "        vertical-align: top;\n",
       "    }\n",
       "\n",
       "    .dataframe thead th {\n",
       "        text-align: right;\n",
       "    }\n",
       "</style>\n",
       "<table border=\"1\" class=\"dataframe\">\n",
       "  <thead>\n",
       "    <tr style=\"text-align: right;\">\n",
       "      <th></th>\n",
       "      <th>geometry_polygon</th>\n",
       "      <th>rsrp-l2100-qty</th>\n",
       "      <th>geometry_polygon1</th>\n",
       "      <th>rsrp-l2100</th>\n",
       "    </tr>\n",
       "  </thead>\n",
       "  <tbody>\n",
       "    <tr>\n",
       "      <th>0</th>\n",
       "      <td>POLYGON ((105.176039 -6.203633, 105.176398 -6....</td>\n",
       "      <td>75.0</td>\n",
       "      <td>POLYGON ((105.146209 -6.293123, 105.146568 -6....</td>\n",
       "      <td>-103.5</td>\n",
       "    </tr>\n",
       "    <tr>\n",
       "      <th>1</th>\n",
       "      <td>POLYGON ((105.280265 -6.454494, 105.280624 -6....</td>\n",
       "      <td>1.0</td>\n",
       "      <td>POLYGON ((105.274514 -6.558001, 105.274874 -6....</td>\n",
       "      <td>-120.0</td>\n",
       "    </tr>\n",
       "    <tr>\n",
       "      <th>2</th>\n",
       "      <td>POLYGON ((105.31297 -6.599692, 105.31333 -6.59...</td>\n",
       "      <td>1.0</td>\n",
       "      <td>POLYGON ((105.274874 -6.558001, 105.275233 -6....</td>\n",
       "      <td>-121.0</td>\n",
       "    </tr>\n",
       "    <tr>\n",
       "      <th>3</th>\n",
       "      <td>POLYGON ((105.31333 -6.599332, 105.313689 -6.5...</td>\n",
       "      <td>1.0</td>\n",
       "      <td>POLYGON ((105.27739 -6.556564, 105.277749 -6.5...</td>\n",
       "      <td>-119.0</td>\n",
       "    </tr>\n",
       "    <tr>\n",
       "      <th>4</th>\n",
       "      <td>POLYGON ((105.322315 -6.589269, 105.322674 -6....</td>\n",
       "      <td>2.0</td>\n",
       "      <td>POLYGON ((105.280265 -6.568783, 105.280624 -6....</td>\n",
       "      <td>-115.0</td>\n",
       "    </tr>\n",
       "    <tr>\n",
       "      <th>...</th>\n",
       "      <td>...</td>\n",
       "      <td>...</td>\n",
       "      <td>...</td>\n",
       "      <td>...</td>\n",
       "    </tr>\n",
       "    <tr>\n",
       "      <th>2215686</th>\n",
       "      <td>POLYGON ((107.189757 -6.280544, 107.190116 -6....</td>\n",
       "      <td>267.0</td>\n",
       "      <td>POLYGON ((107.636132 -6.087547, 107.636491 -6....</td>\n",
       "      <td>-125.0</td>\n",
       "    </tr>\n",
       "    <tr>\n",
       "      <th>2215687</th>\n",
       "      <td>POLYGON ((107.189757 -6.280904, 107.190116 -6....</td>\n",
       "      <td>240.0</td>\n",
       "      <td>POLYGON ((107.636132 -6.123487, 107.636491 -6....</td>\n",
       "      <td>-114.0</td>\n",
       "    </tr>\n",
       "    <tr>\n",
       "      <th>2215688</th>\n",
       "      <td>POLYGON ((107.189757 -6.281263, 107.190116 -6....</td>\n",
       "      <td>6.0</td>\n",
       "      <td>POLYGON ((107.636491 -6.123487, 107.636851 -6....</td>\n",
       "      <td>-116.0</td>\n",
       "    </tr>\n",
       "    <tr>\n",
       "      <th>2215689</th>\n",
       "      <td>POLYGON ((107.189757 -6.281623, 107.190116 -6....</td>\n",
       "      <td>5.0</td>\n",
       "      <td>POLYGON ((107.641523 -6.14541, 107.641882 -6.1...</td>\n",
       "      <td>-115.0</td>\n",
       "    </tr>\n",
       "    <tr>\n",
       "      <th>2215690</th>\n",
       "      <td>POLYGON ((107.189757 -6.282341, 107.190116 -6....</td>\n",
       "      <td>2.0</td>\n",
       "      <td>POLYGON ((107.642601 -6.120971, 107.64296 -6.1...</td>\n",
       "      <td>-114.0</td>\n",
       "    </tr>\n",
       "  </tbody>\n",
       "</table>\n",
       "<p>2215691 rows × 4 columns</p>\n",
       "</div>"
      ],
      "text/plain": [
       "                                          geometry_polygon  rsrp-l2100-qty   \n",
       "0        POLYGON ((105.176039 -6.203633, 105.176398 -6....            75.0  \\\n",
       "1        POLYGON ((105.280265 -6.454494, 105.280624 -6....             1.0   \n",
       "2        POLYGON ((105.31297 -6.599692, 105.31333 -6.59...             1.0   \n",
       "3        POLYGON ((105.31333 -6.599332, 105.313689 -6.5...             1.0   \n",
       "4        POLYGON ((105.322315 -6.589269, 105.322674 -6....             2.0   \n",
       "...                                                    ...             ...   \n",
       "2215686  POLYGON ((107.189757 -6.280544, 107.190116 -6....           267.0   \n",
       "2215687  POLYGON ((107.189757 -6.280904, 107.190116 -6....           240.0   \n",
       "2215688  POLYGON ((107.189757 -6.281263, 107.190116 -6....             6.0   \n",
       "2215689  POLYGON ((107.189757 -6.281623, 107.190116 -6....             5.0   \n",
       "2215690  POLYGON ((107.189757 -6.282341, 107.190116 -6....             2.0   \n",
       "\n",
       "                                         geometry_polygon1  rsrp-l2100  \n",
       "0        POLYGON ((105.146209 -6.293123, 105.146568 -6....      -103.5  \n",
       "1        POLYGON ((105.274514 -6.558001, 105.274874 -6....      -120.0  \n",
       "2        POLYGON ((105.274874 -6.558001, 105.275233 -6....      -121.0  \n",
       "3        POLYGON ((105.27739 -6.556564, 105.277749 -6.5...      -119.0  \n",
       "4        POLYGON ((105.280265 -6.568783, 105.280624 -6....      -115.0  \n",
       "...                                                    ...         ...  \n",
       "2215686  POLYGON ((107.636132 -6.087547, 107.636491 -6....      -125.0  \n",
       "2215687  POLYGON ((107.636132 -6.123487, 107.636491 -6....      -114.0  \n",
       "2215688  POLYGON ((107.636491 -6.123487, 107.636851 -6....      -116.0  \n",
       "2215689  POLYGON ((107.641523 -6.14541, 107.641882 -6.1...      -115.0  \n",
       "2215690  POLYGON ((107.642601 -6.120971, 107.64296 -6.1...      -114.0  \n",
       "\n",
       "[2215691 rows x 4 columns]"
      ]
     },
     "execution_count": 6,
     "metadata": {},
     "output_type": "execute_result"
    }
   ],
   "source": [
    "data1"
   ]
  },
  {
   "cell_type": "code",
   "execution_count": 7,
   "metadata": {},
   "outputs": [],
   "source": [
    "# data1['compare'] = data1['geometry_polygon'] == data1['geometry_polygon1']\n",
    "data1.reset_index(drop=True, inplace=True)\n",
    "data1.drop(columns=['geometry_polygon1'], inplace=True)\n",
    "data1 = data1[data1['rsrp-l2100-qty'] > 100] \n",
    "data1 = data1[data1['rsrp-l2100'] < -105]"
   ]
  },
  {
   "cell_type": "code",
   "execution_count": 8,
   "metadata": {},
   "outputs": [],
   "source": [
    "data1   = gpd.GeoDataFrame(data1, geometry=gpd.GeoSeries.from_wkt(data1['geometry_polygon']), crs=4326)\n",
    "existing_sites = gpd.GeoDataFrame(existing_sites, geometry=gpd.points_from_xy(existing_sites['Longitude'], existing_sites['Latitude']), crs=4326)\n",
    "new_sites = gpd.GeoDataFrame(new_sites, geometry=gpd.points_from_xy(new_sites['Long'], new_sites['Lat']), crs=4326)"
   ]
  },
  {
   "cell_type": "code",
   "execution_count": 9,
   "metadata": {},
   "outputs": [
    {
     "name": "stderr",
     "output_type": "stream",
     "text": [
      "/home/nivag/2023-Linux/.python-3.10/lib/python3.10/site-packages/geopandas/array.py:364: UserWarning: Geometry is in a geographic CRS. Results from 'sjoin_nearest' are likely incorrect. Use 'GeoSeries.to_crs()' to re-project geometries to a projected CRS before this operation.\n",
      "\n",
      "  warnings.warn(\n",
      "/home/nivag/2023-Linux/.python-3.10/lib/python3.10/site-packages/geopandas/array.py:364: UserWarning: Geometry is in a geographic CRS. Results from 'sjoin_nearest' are likely incorrect. Use 'GeoSeries.to_crs()' to re-project geometries to a projected CRS before this operation.\n",
      "\n",
      "  warnings.warn(\n"
     ]
    }
   ],
   "source": [
    "data1 = data1.sjoin_nearest(existing_sites, how='left', max_distance = 0.0008985 * 5, distance_col='distance_existing')\n",
    "data1.drop(columns=['index_right'], inplace=True)\n",
    "data1 = data1.sjoin_nearest(new_sites, how='left', max_distance = 0.0008985 * 5, distance_col='distance_new')"
   ]
  },
  {
   "cell_type": "code",
   "execution_count": 10,
   "metadata": {},
   "outputs": [],
   "source": [
    "data1.reset_index(inplace=True)"
   ]
  },
  {
   "cell_type": "code",
   "execution_count": 11,
   "metadata": {},
   "outputs": [],
   "source": [
    "data1.drop(columns=['index'], inplace=True)"
   ]
  },
  {
   "cell_type": "code",
   "execution_count": 12,
   "metadata": {},
   "outputs": [],
   "source": [
    "data1.rename(columns={'rsrp-l2100':'rsrp-qty-sample', 'rsrp':'rsrp-level-avg'}, inplace=True)"
   ]
  },
  {
   "cell_type": "code",
   "execution_count": 13,
   "metadata": {},
   "outputs": [],
   "source": [
    "data1.drop(columns=['index_right'], inplace=True)"
   ]
  },
  {
   "cell_type": "code",
   "execution_count": 14,
   "metadata": {},
   "outputs": [],
   "source": [
    "data1 = gpd.sjoin(left_df= data1, right_df=kecamatan, how='left', predicate='within')"
   ]
  },
  {
   "cell_type": "code",
   "execution_count": 15,
   "metadata": {},
   "outputs": [],
   "source": [
    "data1.to_csv('result/result-bad-grid-l2100.csv', index=False)"
   ]
  }
 ],
 "metadata": {
  "kernelspec": {
   "display_name": ".python-3.10",
   "language": "python",
   "name": "python3"
  },
  "language_info": {
   "codemirror_mode": {
    "name": "ipython",
    "version": 3
   },
   "file_extension": ".py",
   "mimetype": "text/x-python",
   "name": "python",
   "nbconvert_exporter": "python",
   "pygments_lexer": "ipython3",
   "version": "3.10.11"
  },
  "orig_nbformat": 4
 },
 "nbformat": 4,
 "nbformat_minor": 2
}
