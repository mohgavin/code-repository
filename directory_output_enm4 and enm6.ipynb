{
 "cells": [
  {
   "cell_type": "code",
   "execution_count": 1,
   "metadata": {},
   "outputs": [],
   "source": [
    "import pexpect\n",
    "import time\n",
    "import sys\n",
    "import re"
   ]
  },
  {
   "cell_type": "code",
   "execution_count": 2,
   "metadata": {},
   "outputs": [],
   "source": [
    "#ENM3 -> 10.23.202.28 PW : \"Enm#2021\"\n",
    "#ENM5 -> 10.167.30.28 PW : \"Enm#2021\"\n",
    "\n",
    "child = pexpect.spawn('ssh -L 7898:localhost:8007 -J root@150.236.203.198 root@127.0.0.1 -p 8007', timeout=30, encoding='utf-8', logfile=sys.stdout)\n",
    "\n",
    "child.maxread = 300000 \n",
    "\n",
    "child.expect(\"root@150.236.203.198's password: \")\n",
    "child.sendline('PMT@2022')\n",
    "child.expect(\"root@127.0.0.1's password: \")\n",
    "child.sendline('PMT@2022')\n",
    "\n",
    "time.sleep(3)\n",
    "\n",
    "# Shell command to take after the dates in modification dates\n",
    "child.sendline('find /var/opt/common5/mdt/ -type f -newermt 2023-05-01 -exec ls -l {} \\;')\n",
    "\n",
    "# Shell command to take only the folder\n",
    "# child.sendline('find /var/opt/common5/mdt/20230205 -type f -exec ls -l {} \\;')\n",
    "\n",
    "# Shell command to take certain range dates in modification dates\n",
    "# child.sendline('find /var/opt/common5/mdt -type f -newermt 2023-01-27 ! -newermt 2023-02-27 -exec ls -l {} \\;')\n",
    "\n",
    "try:\n",
    "    child.expect(pexpect.EOF)\n",
    "\n",
    "except pexpect.TIMEOUT:\n",
    "    child.close()\n",
    "    raw = str(child.before)"
   ]
  },
  {
   "cell_type": "code",
   "execution_count": null,
   "metadata": {},
   "outputs": [],
   "source": [
    "test1 = re.split(r'\\s+|\\n', raw)"
   ]
  },
  {
   "cell_type": "code",
   "execution_count": null,
   "metadata": {},
   "outputs": [],
   "source": [
    "# Create list comprehension to filter list of zip files only\n",
    "\n",
    "# result = [file for file in test1 if file.endswith('.zip')]\n",
    "\n",
    "# Create list comprehension to filter only mdt_result.zip only\n",
    "\n",
    "pattern = r'.*/(?!filter_)[^/]+/mdt_result\\.zip$'\n",
    "result = [path for path in test1 if re.match(pattern, path)]"
   ]
  },
  {
   "cell_type": "code",
   "execution_count": null,
   "metadata": {},
   "outputs": [],
   "source": [
    "# Create list comprehension to filter May Month only\n",
    "\n",
    "filtered_paths = [path for path in result if '202305' in path]"
   ]
  },
  {
   "cell_type": "code",
   "execution_count": null,
   "metadata": {},
   "outputs": [],
   "source": [
    "with open(r'/home/nivag/location_to_dl_enm4 and enm6.txt', 'w') as fp:\n",
    "    fp.write('\\n'.join(result))"
   ]
  }
 ],
 "metadata": {
  "kernelspec": {
   "display_name": ".python-3.10-1",
   "language": "python",
   "name": "python3"
  },
  "language_info": {
   "codemirror_mode": {
    "name": "ipython",
    "version": 3
   },
   "file_extension": ".py",
   "mimetype": "text/x-python",
   "name": "python",
   "nbconvert_exporter": "python",
   "pygments_lexer": "ipython3",
   "version": "3.10.11"
  },
  "orig_nbformat": 4
 },
 "nbformat": 4,
 "nbformat_minor": 2
}
