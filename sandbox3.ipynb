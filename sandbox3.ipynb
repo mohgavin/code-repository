{
 "cells": [
  {
   "cell_type": "code",
   "execution_count": 1,
   "metadata": {},
   "outputs": [],
   "source": [
    "import pandas as pd\n",
    "import os\n",
    "import numpy as np\n",
    "import re"
   ]
  },
  {
   "cell_type": "code",
   "execution_count": 2,
   "metadata": {},
   "outputs": [],
   "source": [
    "pd.set_option('display.width', 500)\n",
    "pd.set_option('display.max_rows', 50)\n",
    "pd.set_option('display.max_columns', 500)\n",
    "pd.set_option('display.max_colwidth', 500)"
   ]
  },
  {
   "cell_type": "code",
   "execution_count": 3,
   "metadata": {},
   "outputs": [
    {
     "name": "stdout",
     "output_type": "stream",
     "text": [
      "Loading...\n"
     ]
    }
   ],
   "source": [
    "column_list = [0,2,12,17,19,41,42,46,51,52,54,56,85,89,90,95]\n",
    "print('Loading...')\n",
    "\n",
    "filepath = 'sample-folder/4G_ESS_NBIOT_20230723.xlsb'\n",
    "title = filepath\n",
    "filepath = os.path.join(filepath)\n",
    "\n",
    "# files   = pd.read_csv(filepath, usecols=column_list, low_memory=False)\n",
    "files = pd.read_excel(filepath, sheet_name='4G', usecols=column_list, dtype=str)\n",
    "\n",
    "files = files[files['dlChannelBandwidth'].astype(str).str.contains('dlChannelBandwidth')==False].copy(deep=True)\n",
    "# files = files[files['REMARK'].astype(str).str.contains('FALSE')==True].copy(deep=True) #If using CSV, Boolean dont change\n",
    "files = files[files['REMARK'].astype(str).str.contains('False')==True] #If using XLSX, string is changed.\n",
    "files = files[files['operationalState'].astype(str).str.contains('ENABLED')==True]\n",
    "files = files[files['faultIndicator'].astype(str).str.contains('OFF')==True]\n",
    "\n",
    "files['BW'] = files['dlChannelBandwidth'].astype(int).div(1000).astype(str)\n",
    "files['freqBand-NewName'] = files['freqBand'].replace({'8': 'Band-900', '3': 'Band-1800', '1':'Band-2100'}, regex=True)\n",
    "files['freqBand'] = files['freqBand'].replace({'8': 'Band-900', '3': 'Band-1800', '1':'Band-2100'}, regex=True)\n",
    "\n",
    "files['TYPE2'].replace({'0':'NO_INFO'}, inplace=True)\n",
    "files['SECTOR_FINAL'].replace({'x':0}, inplace=True)\n",
    "files['SECTOR_FINAL'] = files['SECTOR_FINAL'].astype(int).replace({5:4, 6:4}).astype(str)\n",
    "files['SECTOR_FINAL'] = \"SECTOR_FINAL_\" + files['SECTOR_FINAL'].astype(str)\n",
    "files['TYPE2']   = files['TYPE2'].str.upper()\n",
    "\n",
    "files['freqBand-NewName'] = files['freqBand-NewName'].astype(str).str.strip()\n",
    "files['productName'].fillna('0', inplace=True)\n",
    "files['productName'].replace({' ': ''}, inplace=True, regex=True)\n",
    "files['DATE'] =  pd.to_datetime(files['DATE'])\n",
    "\n",
    "# ...Sorting the date column as it requires get the most updates rows...\n",
    "files = files.sort_values(by='DATE', ascending=False)\n",
    "\n",
    "# ...Create a concatenation of Tower DNK and Column Name to get lookup index...\n",
    "files['CONCATENATE-1'] = files[['TOWER_DNK', 'freqBand-NewName', 'SECTOR_FINAL']].astype(str).agg('_'.join, axis=1)\n",
    "files['CONCATENATE-2'] = files[['TOWER_DNK', 'freqBand-NewName', 'serialNumber', 'SECTOR_FINAL']].astype(str).agg('_'.join, axis=1)\n",
    "files['CONCATENATE-3'] = files[['TOWER_DNK', 'serialNumber', 'SECTOR_FINAL']].astype(str).agg('_'.join, axis=1)\n",
    "files['CONCATENATE-6'] = files[['TOWER_DNK', 'freqBand', 'sectorFunctionRef']].astype(str).agg('_'.join, axis=1)\n",
    "\n",
    "files.insert(len(files.columns), column='Qty_productName', value=1)\n",
    "files['MIMO'] = files['noOfTxAntennas'].astype(str) + \"x\" + files['noOfRxAntennas'].astype(str)\n",
    "\n",
    "#...Create 2 files variable : \n",
    "\n",
    "# files1 (Files 1 is used for calculate Qty of Radio Per Sector)\n",
    "# files2 (Files 2 is used for calculate Cell Qty of MIMO and BW)\n",
    "\n",
    "files1 = files.drop_duplicates(subset=['CONCATENATE-2'], keep='first').copy(deep=True)\n",
    "files1['CONCATENATE-3_LOGIC'] = files1['CONCATENATE-3'].duplicated(keep=False)\n",
    "files1.loc[files1['CONCATENATE-3_LOGIC'] == True, 'freqBand-NewName'] = 'Band-1800&2100'\n",
    "files1['CONCATENATE-1'] = files1[['TOWER_DNK', 'freqBand-NewName', 'SECTOR_FINAL']].astype(str).agg('_'.join, axis=1)\n",
    "files1['CONCATENATE-1'] = files1[['TYPE2', 'CONCATENATE-1']].astype(str).agg('|'.join, axis=1)\n",
    "files1['CONCATENATE-2'] = files1[['TOWER_DNK', 'freqBand-NewName', 'serialNumber', 'SECTOR_FINAL']].astype(str).agg('_'.join, axis=1)\n",
    "\n",
    "#...Drop Duplication as the duplication is a false information ...\n",
    "files1.drop_duplicates(subset=['CONCATENATE-2'], keep='first', inplace=True)\n",
    "\n",
    "extract_rf = files1['Rfport'].str.extract(r'(\\b)(RfPort=.)')\n",
    "files1 = files1.join(extract_rf)\n",
    "files1['CONCATENATE-4'] = files1[['TOWER_DNK', 'serialNumber']].astype(str).agg('_'.join, axis=1)\n",
    "\n",
    "files2 = files.drop_duplicates(subset=['CONCATENATE-6'], keep='first')\n",
    "\n",
    "df = pd.DataFrame(files['TOWER_DNK'].unique())\n",
    "df.rename(columns={df.columns[0]:'TOWER_DNK'}, inplace = True)\n",
    "df.set_index('TOWER_DNK', inplace=True)"
   ]
  },
  {
   "cell_type": "code",
   "execution_count": 4,
   "metadata": {},
   "outputs": [],
   "source": [
    "#...Flagging which radio has duplication which meaning one radio has been used in other sector... \n",
    "files1['DUPLICATED'] = files1['CONCATENATE-4'].duplicated(keep=False)\n",
    "files1.reset_index(inplace=True)\n",
    "files1.drop(columns='index', inplace=True)\n",
    "\n",
    "#...The method is getting the index of duplicated and concatenate them through iloc function...\n",
    "list1 = list(files1[files1['DUPLICATED'] == True].index)\n",
    "# files1.iloc[list1, 7] = files1.iloc[list1, 7] + \"_\" + files1.iloc[list1, 23]\n",
    "files1.iloc[list1, 8] = files1.iloc[list1, 9] + \"_\" + files1.iloc[list1, 25]\n",
    "\n",
    "files1['productName'] = files1[['productName', 'MIMO']].astype(str).agg('_'.join, axis=1)\n",
    "\n",
    "for a in list(files2['freqBand-NewName'].unique()):\n",
    "    for b in ['MIMO', 'BW']:    \n",
    "\n",
    "        df_qty = files2.query(f'[\"{a}\"] in `freqBand-NewName`') \n",
    "        df_qty = df_qty.groupby(['TOWER_DNK', b], group_keys=False)['Qty_productName'].sum().reset_index()\n",
    "        df_qty['COMBINE - 1'] = \"[\" + df_qty['Qty_productName'].astype(str) + \"]\" + df_qty[b]\n",
    "\n",
    "        df_qty = df_qty.groupby(['TOWER_DNK'], group_keys=False)['COMBINE - 1'].apply(lambda x: \"%s\" % '+'.join(x)).reset_index()\n",
    "        df_qty.rename(columns={'COMBINE - 1':f'1. VALUE|LTE_RADIO_{a}_{b}'}, inplace=True)\n",
    "        \n",
    "        df_qty.set_index('TOWER_DNK', inplace=True)\n",
    "        df = df.join(df_qty, how='left')\n",
    "        \n",
    "for a in list(files1['freqBand-NewName'].unique()):\n",
    "    for b in list(files1['SECTOR_FINAL'].unique()):\n",
    "        for c in list(files1['TYPE2'].unique()):\n",
    "\n",
    "            df_qty = files1.query(f'[\"{b}\"] in SECTOR_FINAL and [\"{a}\"] in `freqBand-NewName` and [\"{c}\"] in `TYPE2`')\n",
    "            df_qty = df_qty.groupby(['TOWER_DNK','CONCATENATE-1', 'productName'], group_keys=False)['Qty_productName'].sum().reset_index()\n",
    "            df_qty['COMBINE - 1'] = \"[\" + df_qty['Qty_productName'].astype(str) + \"]\" + df_qty['productName']\n",
    "            \n",
    "            df_qty = df_qty.groupby(['TOWER_DNK'], group_keys=False)['COMBINE - 1'].apply(lambda x: \"%s\" % '+'.join(x)).reset_index()\n",
    "            df_qty.rename(columns={'COMBINE - 1':f'{c}|LTE_RADIO_{a}_{b}'}, inplace=True)\n",
    "            df_qty.set_index('TOWER_DNK', inplace=True)\n",
    "            df = df.join(df_qty, how='left')\n",
    "\n",
    "df = df.reset_index()\n",
    "df.rename(columns={\"TOWER_DNK\":'Special_Tower_ID_mapping_for_Tower_ID_with_more_than_1_site_ID'}, inplace=True)\n",
    "df.set_index('Special_Tower_ID_mapping_for_Tower_ID_with_more_than_1_site_ID', inplace=True)     \n",
    "df.columns = df.columns.str.split('|', expand=True)\n",
    "df.rename(columns={np.nan : 'value'}, level=1, inplace=True)\n",
    "\n",
    "for a in df.columns:\n",
    "    if len(df[a].value_counts()) == 0:\n",
    "        df.drop(columns=[a], inplace=True)\n",
    "\n",
    "df.sort_index(axis=1, level=0, inplace=True)\n",
    "\n",
    "# df.columns = pd.MultiIndex.from_product([1 * [''], df.columns])\n",
    "df = df.transpose().reset_index()\n",
    "df = df.transpose()\n",
    "# df = df.add_suffix(filepath)\n",
    "\n",
    "title = os.path.split(title)[1]\n",
    "title = title.split('.')[0]"
   ]
  },
  {
   "cell_type": "code",
   "execution_count": 5,
   "metadata": {},
   "outputs": [],
   "source": [
    "files = files[['TOWER_DNK', 'FDN']].drop_duplicates(subset='FDN', ignore_index=True)\n",
    "files['FDN'] = files['FDN'].str.replace(('(') , '').str.replace((')') , '')\n",
    "\n",
    "files['FDN'] = files['FDN'].str.split(pat='MeContext=', expand=True)[1]\n",
    "files['FDN'] = files['FDN'].str.split(pat=',', expand=True)[0]"
   ]
  },
  {
   "cell_type": "code",
   "execution_count": 6,
   "metadata": {},
   "outputs": [
    {
     "name": "stdout",
     "output_type": "stream",
     "text": [
      "Saving...\n"
     ]
    }
   ],
   "source": [
    "print('Saving...')\n",
    "\n",
    "with pd.ExcelWriter(f'{title}-RadioSector.xlsx', engine='xlsxwriter') as writer: \n",
    "    df.to_excel(writer, header=True, sheet_name='Radio Per Sector')\n",
    "    files.to_excel(writer, header=True, sheet_name='Mapping-TowerID', index=False)"
   ]
  }
 ],
 "metadata": {
  "kernelspec": {
   "display_name": ".python-3.10",
   "language": "python",
   "name": "python3"
  },
  "language_info": {
   "codemirror_mode": {
    "name": "ipython",
    "version": 3
   },
   "file_extension": ".py",
   "mimetype": "text/x-python",
   "name": "python",
   "nbconvert_exporter": "python",
   "pygments_lexer": "ipython3",
   "version": "3.10.11"
  },
  "orig_nbformat": 4
 },
 "nbformat": 4,
 "nbformat_minor": 2
}
