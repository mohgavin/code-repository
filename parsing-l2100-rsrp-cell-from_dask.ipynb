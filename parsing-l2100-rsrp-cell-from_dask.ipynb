{
 "cells": [
  {
   "cell_type": "code",
   "execution_count": 1,
   "metadata": {},
   "outputs": [],
   "source": [
    "import pandas as pd\n",
    "import geopandas as gpd"
   ]
  },
  {
   "cell_type": "code",
   "execution_count": 2,
   "metadata": {},
   "outputs": [],
   "source": [
    "rsrp_pol = pd.read_csv('result/rsrp-l2100-alljabo-40x40.csv/0.part')\n",
    "rsrp_pop = pd.read_csv('result/rsrp-l2100-alljabo-40x40-pop.csv/0.part')\n",
    "kecamatan = pd.read_csv('csv_polygon/Kecamatan_Jabotabek.csv')"
   ]
  },
  {
   "cell_type": "code",
   "execution_count": 3,
   "metadata": {},
   "outputs": [],
   "source": [
    "rsrp_pol.set_index('geometry_polygon', inplace=True)\n",
    "rsrp_pol.rename(columns={'rsrp-l2100':'rsrp-l2100-avg'}, inplace=True)"
   ]
  },
  {
   "cell_type": "code",
   "execution_count": 4,
   "metadata": {},
   "outputs": [],
   "source": [
    "rsrp_pop.set_index('geometry_polygon', inplace=True)\n",
    "rsrp_pop.rename(columns={'rsrp-l2100':'rsrp-l2100-pop'}, inplace=True)"
   ]
  },
  {
   "cell_type": "code",
   "execution_count": 5,
   "metadata": {},
   "outputs": [],
   "source": [
    "rsrp_pol = pd.concat([rsrp_pol, rsrp_pop], axis=1)"
   ]
  },
  {
   "cell_type": "code",
   "execution_count": 6,
   "metadata": {},
   "outputs": [],
   "source": [
    "rsrp_pol.reset_index(inplace=True)"
   ]
  },
  {
   "cell_type": "code",
   "execution_count": 7,
   "metadata": {},
   "outputs": [],
   "source": [
    "rsrp_pol = rsrp_pol[rsrp_pol['rsrp-l2100-pop'] > 250 ]"
   ]
  },
  {
   "cell_type": "code",
   "execution_count": 8,
   "metadata": {},
   "outputs": [],
   "source": [
    "rsrp_pol  = gpd.GeoDataFrame(rsrp_pol, geometry=gpd.GeoSeries.from_wkt(rsrp_pol['geometry_polygon']), crs=4326)\n",
    "kecamatan = gpd.read_file('Polygon XL - EID Area/Kecamatan_Jabotabek.TAB')\n",
    "\n",
    "rsrp_pol = gpd.sjoin(left_df= rsrp_pol, right_df=kecamatan, how='inner', predicate='intersects')"
   ]
  },
  {
   "cell_type": "code",
   "execution_count": 9,
   "metadata": {},
   "outputs": [],
   "source": [
    "rsrp_pol.drop(columns=['Luas_Kec_Sq_Km', 'ID_Kecamatan', 'Commercial_XL', 'index_right'], inplace=True)"
   ]
  },
  {
   "cell_type": "code",
   "execution_count": 10,
   "metadata": {},
   "outputs": [],
   "source": [
    "rsrp_pol.to_file('result/rsrp_l2100-alljabo-40x40.tab', driver='MapInfo File')"
   ]
  }
 ],
 "metadata": {
  "kernelspec": {
   "display_name": ".python-3.10",
   "language": "python",
   "name": "python3"
  },
  "language_info": {
   "codemirror_mode": {
    "name": "ipython",
    "version": 3
   },
   "file_extension": ".py",
   "mimetype": "text/x-python",
   "name": "python",
   "nbconvert_exporter": "python",
   "pygments_lexer": "ipython3",
   "version": "3.10.11"
  },
  "orig_nbformat": 4
 },
 "nbformat": 4,
 "nbformat_minor": 2
}
