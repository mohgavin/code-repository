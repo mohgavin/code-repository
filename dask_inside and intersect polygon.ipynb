{
 "cells": [
  {
   "cell_type": "code",
   "execution_count": 1,
   "metadata": {},
   "outputs": [
    {
     "name": "stderr",
     "output_type": "stream",
     "text": [
      "/home/nivag/2023 - Linux/.python-3.10-1/lib/python3.10/site-packages/geopandas/_compat.py:124: UserWarning: The Shapely GEOS version (3.11.1-CAPI-1.17.1) is incompatible with the GEOS version PyGEOS was compiled with (3.10.4-CAPI-1.16.2). Conversions between both will be slow.\n",
      "  warnings.warn(\n"
     ]
    }
   ],
   "source": [
    "import dask.dataframe as dask_pd\n",
    "import dask_geopandas as dask_gpd\n",
    "import geopandas as gpd\n",
    "import numpy as np\n",
    "from shapely.geometry import Polygon\n",
    "import shapely"
   ]
  },
  {
   "cell_type": "code",
   "execution_count": 2,
   "metadata": {},
   "outputs": [],
   "source": [
    "# dask_df_mdt =  dask_pd.read_csv('Compile-MDT/mdt*.csv')\n",
    "dask_df_mdt =  dask_pd.read_csv('Compile-MDT/mdt*.csv', usecols=[0,1,2,3,4,6,7,8,9], assume_missing=True)"
   ]
  },
  {
   "cell_type": "code",
   "execution_count": 3,
   "metadata": {},
   "outputs": [
    {
     "data": {
      "text/html": [
       "<div><strong>Dask DataFrame Structure:</strong></div>\n",
       "<div>\n",
       "<style scoped>\n",
       "    .dataframe tbody tr th:only-of-type {\n",
       "        vertical-align: middle;\n",
       "    }\n",
       "\n",
       "    .dataframe tbody tr th {\n",
       "        vertical-align: top;\n",
       "    }\n",
       "\n",
       "    .dataframe thead th {\n",
       "        text-align: right;\n",
       "    }\n",
       "</style>\n",
       "<table border=\"1\" class=\"dataframe\">\n",
       "  <thead>\n",
       "    <tr style=\"text-align: right;\">\n",
       "      <th></th>\n",
       "      <th>date</th>\n",
       "      <th>hour</th>\n",
       "      <th>site</th>\n",
       "      <th>enodebid</th>\n",
       "      <th>ci</th>\n",
       "      <th>longitude</th>\n",
       "      <th>latitude</th>\n",
       "      <th>altitude</th>\n",
       "      <th>rsrp_serving</th>\n",
       "    </tr>\n",
       "    <tr>\n",
       "      <th>npartitions=909</th>\n",
       "      <th></th>\n",
       "      <th></th>\n",
       "      <th></th>\n",
       "      <th></th>\n",
       "      <th></th>\n",
       "      <th></th>\n",
       "      <th></th>\n",
       "      <th></th>\n",
       "      <th></th>\n",
       "    </tr>\n",
       "  </thead>\n",
       "  <tbody>\n",
       "    <tr>\n",
       "      <th></th>\n",
       "      <td>float64</td>\n",
       "      <td>float64</td>\n",
       "      <td>object</td>\n",
       "      <td>float64</td>\n",
       "      <td>float64</td>\n",
       "      <td>float64</td>\n",
       "      <td>float64</td>\n",
       "      <td>float64</td>\n",
       "      <td>float64</td>\n",
       "    </tr>\n",
       "    <tr>\n",
       "      <th></th>\n",
       "      <td>...</td>\n",
       "      <td>...</td>\n",
       "      <td>...</td>\n",
       "      <td>...</td>\n",
       "      <td>...</td>\n",
       "      <td>...</td>\n",
       "      <td>...</td>\n",
       "      <td>...</td>\n",
       "      <td>...</td>\n",
       "    </tr>\n",
       "    <tr>\n",
       "      <th>...</th>\n",
       "      <td>...</td>\n",
       "      <td>...</td>\n",
       "      <td>...</td>\n",
       "      <td>...</td>\n",
       "      <td>...</td>\n",
       "      <td>...</td>\n",
       "      <td>...</td>\n",
       "      <td>...</td>\n",
       "      <td>...</td>\n",
       "    </tr>\n",
       "    <tr>\n",
       "      <th></th>\n",
       "      <td>...</td>\n",
       "      <td>...</td>\n",
       "      <td>...</td>\n",
       "      <td>...</td>\n",
       "      <td>...</td>\n",
       "      <td>...</td>\n",
       "      <td>...</td>\n",
       "      <td>...</td>\n",
       "      <td>...</td>\n",
       "    </tr>\n",
       "    <tr>\n",
       "      <th></th>\n",
       "      <td>...</td>\n",
       "      <td>...</td>\n",
       "      <td>...</td>\n",
       "      <td>...</td>\n",
       "      <td>...</td>\n",
       "      <td>...</td>\n",
       "      <td>...</td>\n",
       "      <td>...</td>\n",
       "      <td>...</td>\n",
       "    </tr>\n",
       "  </tbody>\n",
       "</table>\n",
       "</div>\n",
       "<div>Dask Name: read-csv, 1 graph layer</div>"
      ],
      "text/plain": [
       "Dask DataFrame Structure:\n",
       "                    date     hour    site enodebid       ci longitude latitude altitude rsrp_serving\n",
       "npartitions=909                                                                                     \n",
       "                 float64  float64  object  float64  float64   float64  float64  float64      float64\n",
       "                     ...      ...     ...      ...      ...       ...      ...      ...          ...\n",
       "...                  ...      ...     ...      ...      ...       ...      ...      ...          ...\n",
       "                     ...      ...     ...      ...      ...       ...      ...      ...          ...\n",
       "                     ...      ...     ...      ...      ...       ...      ...      ...          ...\n",
       "Dask Name: read-csv, 1 graph layer"
      ]
     },
     "execution_count": 3,
     "metadata": {},
     "output_type": "execute_result"
    }
   ],
   "source": [
    "dask_df_mdt"
   ]
  },
  {
   "cell_type": "code",
   "execution_count": 4,
   "metadata": {},
   "outputs": [],
   "source": [
    "dask_df_mdt['pointer'] = \"POINT (\" + dask_df_mdt['longitude'].astype(str) + \" \" + dask_df_mdt['latitude'].astype(str) + \")\""
   ]
  },
  {
   "cell_type": "code",
   "execution_count": 5,
   "metadata": {},
   "outputs": [
    {
     "data": {
      "text/html": [
       "<div>\n",
       "<style scoped>\n",
       "    .dataframe tbody tr th:only-of-type {\n",
       "        vertical-align: middle;\n",
       "    }\n",
       "\n",
       "    .dataframe tbody tr th {\n",
       "        vertical-align: top;\n",
       "    }\n",
       "\n",
       "    .dataframe thead th {\n",
       "        text-align: right;\n",
       "    }\n",
       "</style>\n",
       "<table border=\"1\" class=\"dataframe\">\n",
       "  <thead>\n",
       "    <tr style=\"text-align: right;\">\n",
       "      <th></th>\n",
       "      <th>date</th>\n",
       "      <th>hour</th>\n",
       "      <th>site</th>\n",
       "      <th>enodebid</th>\n",
       "      <th>ci</th>\n",
       "      <th>longitude</th>\n",
       "      <th>latitude</th>\n",
       "      <th>altitude</th>\n",
       "      <th>rsrp_serving</th>\n",
       "      <th>pointer</th>\n",
       "    </tr>\n",
       "  </thead>\n",
       "  <tbody>\n",
       "    <tr>\n",
       "      <th>0</th>\n",
       "      <td>20230502.0</td>\n",
       "      <td>0.0</td>\n",
       "      <td>BH4431339E</td>\n",
       "      <td>430343.0</td>\n",
       "      <td>4.0</td>\n",
       "      <td>106.785127</td>\n",
       "      <td>-6.278504</td>\n",
       "      <td>0.0</td>\n",
       "      <td>-99.0</td>\n",
       "      <td>POINT (106.785126541272 -6.278504133224487)</td>\n",
       "    </tr>\n",
       "    <tr>\n",
       "      <th>1</th>\n",
       "      <td>20230502.0</td>\n",
       "      <td>0.0</td>\n",
       "      <td>BH4431339E</td>\n",
       "      <td>430343.0</td>\n",
       "      <td>4.0</td>\n",
       "      <td>106.784161</td>\n",
       "      <td>-6.281347</td>\n",
       "      <td>52.0</td>\n",
       "      <td>-76.0</td>\n",
       "      <td>POINT (106.78416094591152 -6.281347274780273)</td>\n",
       "    </tr>\n",
       "    <tr>\n",
       "      <th>2</th>\n",
       "      <td>20230502.0</td>\n",
       "      <td>0.0</td>\n",
       "      <td>BH4431339E</td>\n",
       "      <td>430343.0</td>\n",
       "      <td>5.0</td>\n",
       "      <td>106.762253</td>\n",
       "      <td>-6.300466</td>\n",
       "      <td>0.0</td>\n",
       "      <td>-78.0</td>\n",
       "      <td>POINT (106.7622526600662 -6.300466060638428)</td>\n",
       "    </tr>\n",
       "    <tr>\n",
       "      <th>3</th>\n",
       "      <td>20230502.0</td>\n",
       "      <td>0.0</td>\n",
       "      <td>BH4431339E</td>\n",
       "      <td>430343.0</td>\n",
       "      <td>4.0</td>\n",
       "      <td>106.786006</td>\n",
       "      <td>-6.279867</td>\n",
       "      <td>67.0</td>\n",
       "      <td>-98.0</td>\n",
       "      <td>POINT (106.78600630593375 -6.279866695404053)</td>\n",
       "    </tr>\n",
       "    <tr>\n",
       "      <th>4</th>\n",
       "      <td>20230502.0</td>\n",
       "      <td>0.0</td>\n",
       "      <td>BH4431339E</td>\n",
       "      <td>430343.0</td>\n",
       "      <td>4.0</td>\n",
       "      <td>106.786006</td>\n",
       "      <td>-6.279867</td>\n",
       "      <td>67.0</td>\n",
       "      <td>-95.0</td>\n",
       "      <td>POINT (106.78600630593375 -6.279866695404053)</td>\n",
       "    </tr>\n",
       "  </tbody>\n",
       "</table>\n",
       "</div>"
      ],
      "text/plain": [
       "         date  hour        site  enodebid   ci   longitude  latitude   \n",
       "0  20230502.0   0.0  BH4431339E  430343.0  4.0  106.785127 -6.278504  \\\n",
       "1  20230502.0   0.0  BH4431339E  430343.0  4.0  106.784161 -6.281347   \n",
       "2  20230502.0   0.0  BH4431339E  430343.0  5.0  106.762253 -6.300466   \n",
       "3  20230502.0   0.0  BH4431339E  430343.0  4.0  106.786006 -6.279867   \n",
       "4  20230502.0   0.0  BH4431339E  430343.0  4.0  106.786006 -6.279867   \n",
       "\n",
       "   altitude  rsrp_serving                                        pointer  \n",
       "0       0.0         -99.0    POINT (106.785126541272 -6.278504133224487)  \n",
       "1      52.0         -76.0  POINT (106.78416094591152 -6.281347274780273)  \n",
       "2       0.0         -78.0   POINT (106.7622526600662 -6.300466060638428)  \n",
       "3      67.0         -98.0  POINT (106.78600630593375 -6.279866695404053)  \n",
       "4      67.0         -95.0  POINT (106.78600630593375 -6.279866695404053)  "
      ]
     },
     "execution_count": 5,
     "metadata": {},
     "output_type": "execute_result"
    }
   ],
   "source": [
    "dask_df_mdt.head(5)"
   ]
  },
  {
   "cell_type": "code",
   "execution_count": 6,
   "metadata": {},
   "outputs": [],
   "source": [
    "dask_gdf_mdt = dask_gpd.from_dask_dataframe(dask_df_mdt, geometry=dask_df_mdt[\"pointer\"].map_partitions(\n",
    "        gpd.GeoSeries.from_wkt, meta=gpd.GeoSeries([])),)\n",
    "\n",
    "dask_gdf_mdt = dask_gdf_mdt.set_crs(4326)"
   ]
  },
  {
   "cell_type": "code",
   "execution_count": 7,
   "metadata": {},
   "outputs": [],
   "source": [
    "# Create Rectangle Grid 100x100 metre from mininum/maximum long-lat in CRS:3426\n",
    "# These projection are imagined earth as flat object. these are not accurate for higher degree of long-lat\n",
    "# Based on plotting in QGIS, the difference of grid reach 50 meter in latitude and 25 meter in longitude\n",
    "# Try to convert them to EPSG:3857 \n",
    "\n",
    "xmin, ymin, xmax, ymax = dask_gdf_mdt.total_bounds\n",
    "\n",
    "length =  0.0008985 * 2.5 ### (the distance for 100 metres, so if you want to get 250 metres, need to multiply 2.5)\n",
    "wide =  0.0008985 * 2.5 ### (the distance for 100 metres, so if you want to get 250 metres, need to multiply 2.5)\n",
    "\n",
    "cols = list(np.arange(xmin, xmax + wide, wide))\n",
    "rows = list(np.arange(ymin, ymax + length, length))\n",
    "\n",
    "polygons = []\n",
    "for x in cols[:-1]: ### [:-1] these are used stop -1 of position from the end of list \n",
    "    for y in rows[:-1]:\n",
    "        polygons.append(Polygon([(x,y), (x+wide, y), (x+wide, y+length), (x, y+length)]))\n",
    "\n",
    "grid = gpd.GeoDataFrame({'geometry':polygons}, crs=4326)\n",
    "\n",
    "grid.reset_index(inplace=True)\n",
    "grid.rename(columns={'index':'id'}, inplace = True)"
   ]
  },
  {
   "cell_type": "code",
   "execution_count": null,
   "metadata": {},
   "outputs": [],
   "source": [
    "dask_gdf_mdt = dask_gdf_mdt.sjoin(grid, how='inner', predicate='within')"
   ]
  },
  {
   "cell_type": "code",
   "execution_count": null,
   "metadata": {},
   "outputs": [],
   "source": [
    "dask_gdf_mdt.head(10)"
   ]
  },
  {
   "cell_type": "code",
   "execution_count": null,
   "metadata": {},
   "outputs": [],
   "source": [
    "# dask_gdf_mdt['ci'] = dask_gdf_mdt['ci'].astype('category')\n",
    "# dask_gdf_mdt['ci'] = dask_gdf_mdt['ci'].cat.as_known()\n",
    "# pivot = dask_gdf_mdt.pivot_table(index='poly_name', columns='ci', values='rsrp_serving', aggfunc='mean')"
   ]
  },
  {
   "cell_type": "code",
   "execution_count": null,
   "metadata": {},
   "outputs": [],
   "source": [
    "result = dask_gdf_mdt.compute()"
   ]
  },
  {
   "cell_type": "code",
   "execution_count": null,
   "metadata": {},
   "outputs": [],
   "source": [
    "result.to_parquet('busy_grid.parquet')"
   ]
  }
 ],
 "metadata": {
  "kernelspec": {
   "display_name": ".env",
   "language": "python",
   "name": "python3"
  },
  "language_info": {
   "codemirror_mode": {
    "name": "ipython",
    "version": 3
   },
   "file_extension": ".py",
   "mimetype": "text/x-python",
   "name": "python",
   "nbconvert_exporter": "python",
   "pygments_lexer": "ipython3",
   "version": "3.10.11"
  },
  "orig_nbformat": 4
 },
 "nbformat": 4,
 "nbformat_minor": 2
}
