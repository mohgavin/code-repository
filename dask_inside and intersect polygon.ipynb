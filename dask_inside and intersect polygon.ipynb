{
 "cells": [
  {
   "cell_type": "code",
   "execution_count": null,
   "metadata": {},
   "outputs": [],
   "source": [
    "import dask.dataframe as dask_pd\n",
    "import dask_geopandas as dask_gpd\n",
    "import geopandas as gpd\n",
    "import numpy as np\n",
    "from shapely.geometry import Polygon\n",
    "import shapely\n",
    "from dask.distributed import Client"
   ]
  },
  {
   "cell_type": "code",
   "execution_count": null,
   "metadata": {},
   "outputs": [],
   "source": [
    "client = Client(n_workers=1, threads_per_worker=2, processes=True, memory_target_fraction=0.2, memory_limit='4GB')"
   ]
  },
  {
   "cell_type": "code",
   "execution_count": null,
   "metadata": {},
   "outputs": [],
   "source": [
    "# dask_df_mdt =  dask_pd.read_csv('Compile-MDT/mdt*.csv')\n",
    "dask_df_mdt =  dask_pd.read_csv('Compile-MDT/mdt*.csv', usecols=[0,1,2,3,4,6,7,8,9], assume_missing=True)\n",
    "dask_df_mdt['rsrp'] = 'rsrp'\n",
    "\n",
    "# grid = dask_pd.read_parquet('Grid Folder/grid_jabo100x100.parquet')\n",
    "grid = dask_pd.read_parquet('Grid Folder/100x100_gridjabo.parquet')"
   ]
  },
  {
   "cell_type": "code",
   "execution_count": null,
   "metadata": {},
   "outputs": [],
   "source": [
    "# grid = grid.drop(columns=['left', 'top', 'right', 'bottom'])\n",
    "grid['geometry_polygon'] = grid['geometry'].astype(str)"
   ]
  },
  {
   "cell_type": "code",
   "execution_count": null,
   "metadata": {},
   "outputs": [],
   "source": [
    "dask_df_mdt['pointer'] = \"POINT (\" + dask_df_mdt['longitude'].astype(str) + \" \" + dask_df_mdt['latitude'].astype(str) + \")\""
   ]
  },
  {
   "cell_type": "code",
   "execution_count": null,
   "metadata": {},
   "outputs": [],
   "source": [
    "dask_gdf_mdt = dask_gpd.from_dask_dataframe(dask_df_mdt, geometry=dask_df_mdt[\"pointer\"].map_partitions(\n",
    "        gpd.GeoSeries.from_wkt, meta=gpd.GeoSeries([])),)\n",
    "\n",
    "# dask_gdf_mdt = dask_gdf_mdt.set_crs(4326)"
   ]
  },
  {
   "cell_type": "code",
   "execution_count": null,
   "metadata": {},
   "outputs": [],
   "source": [
    "dask_gdf_grid = dask_gpd.from_dask_dataframe(grid, geometry=grid['geometry_polygon'].map_partitions(\n",
    "        gpd.GeoSeries.from_wkt, meta=gpd.GeoSeries([])),)\n",
    "\n",
    "# dask_gdf_grid = dask_gdf_grid.set_crs(4326)"
   ]
  },
  {
   "cell_type": "code",
   "execution_count": null,
   "metadata": {},
   "outputs": [],
   "source": [
    "dask_gdf_mdt = dask_gdf_mdt.sjoin(dask_gdf_grid, how='inner', predicate='within')"
   ]
  },
  {
   "cell_type": "code",
   "execution_count": null,
   "metadata": {},
   "outputs": [],
   "source": [
    "dask_gdf_mdt = dask_gdf_mdt.drop(columns=['index_right', 'id', 'pointer'])"
   ]
  },
  {
   "cell_type": "code",
   "execution_count": null,
   "metadata": {},
   "outputs": [],
   "source": [
    "# dask_df_mdt = dask_gdf_mdt.to_dask_dataframe()\n",
    "dask_gdf_mdt['geometry_polygon'] = dask_gdf_mdt['geometry_polygon'].astype('str')"
   ]
  },
  {
   "cell_type": "code",
   "execution_count": null,
   "metadata": {},
   "outputs": [],
   "source": [
    "dask_gdf_mdt['rsrp'] = dask_gdf_mdt['rsrp'].astype('category')\n",
    "dask_gdf_mdt['rsrp'] = dask_gdf_mdt['rsrp'].cat.as_known()\n",
    "pivot = dask_gdf_mdt.pivot_table(index='geometry_polygon', columns='rsrp', values='rsrp_serving', aggfunc='mean')"
   ]
  },
  {
   "cell_type": "code",
   "execution_count": null,
   "metadata": {},
   "outputs": [],
   "source": [
    "pivot.to_csv('test.csv')"
   ]
  }
 ],
 "metadata": {
  "kernelspec": {
   "display_name": ".env",
   "language": "python",
   "name": "python3"
  },
  "language_info": {
   "codemirror_mode": {
    "name": "ipython",
    "version": 3
   },
   "file_extension": ".py",
   "mimetype": "text/x-python",
   "name": "python",
   "nbconvert_exporter": "python",
   "pygments_lexer": "ipython3",
   "version": "3.10.11"
  },
  "orig_nbformat": 4
 },
 "nbformat": 4,
 "nbformat_minor": 2
}
