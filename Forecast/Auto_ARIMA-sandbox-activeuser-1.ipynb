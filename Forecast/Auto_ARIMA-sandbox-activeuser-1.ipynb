{
 "cells": [
  {
   "cell_type": "code",
   "execution_count": 1,
   "metadata": {},
   "outputs": [
    {
     "name": "stderr",
     "output_type": "stream",
     "text": [
      "/home/nivag/2023-Linux/.python-3.10/lib/python3.10/site-packages/statsforecast/core.py:25: TqdmWarning: IProgress not found. Please update jupyter and ipywidgets. See https://ipywidgets.readthedocs.io/en/stable/user_install.html\n",
      "  from tqdm.autonotebook import tqdm\n"
     ]
    }
   ],
   "source": [
    "from statsforecast import StatsForecast\n",
    "from statsforecast.models import AutoARIMA\n",
    "import pandas as pd"
   ]
  },
  {
   "cell_type": "code",
   "execution_count": 2,
   "metadata": {},
   "outputs": [],
   "source": [
    "average_RRC = pd.read_csv('sample-folder/IOH-Active User-4.csv')"
   ]
  },
  {
   "cell_type": "code",
   "execution_count": 3,
   "metadata": {},
   "outputs": [],
   "source": [
    "list1 = average_RRC.columns[0:]\n",
    "result = pd.DataFrame()"
   ]
  },
  {
   "cell_type": "code",
   "execution_count": 4,
   "metadata": {},
   "outputs": [],
   "source": [
    "for x in range(1, len(average_RRC.columns), 1):\n",
    "\n",
    "    sitelist = average_RRC[['SECTOR-ID']]\n",
    "    duration_week = pd.DataFrame(data={'date': [list1[x]] * len(average_RRC.index)})\n",
    "    content = pd.DataFrame(average_RRC.iloc[:,x]).reset_index(drop=True)\n",
    "    content.rename({content.columns[0]:'RRC'}, axis=1, inplace=True)\n",
    "\n",
    "    concat = pd.concat([sitelist, duration_week, content], axis=1)\n",
    "    result = pd.concat([result, concat], axis=0)"
   ]
  },
  {
   "cell_type": "code",
   "execution_count": 5,
   "metadata": {},
   "outputs": [],
   "source": [
    "result.reset_index(inplace=True, drop=True)\n",
    "result['Year'] = result['date'].str.split('-W').str[0]\n",
    "result['WeekNumber'] = result['date'].str.split('-W').str[1].astype(int)\n",
    "\n",
    "result['StartOfWeek'] = pd.to_datetime(result['Year'], format='%Y') + pd.to_timedelta((result['WeekNumber'] - 1) * 7 + 1, unit='D')\n",
    "result.drop(columns=['Year', 'WeekNumber'], inplace=True)\n",
    "\n",
    "result.rename(columns={'RRC': 'y', 'StartOfWeek':'ds', 'SECTOR-ID':'unique_id'}, inplace=True)"
   ]
  },
  {
   "cell_type": "code",
   "execution_count": 6,
   "metadata": {},
   "outputs": [],
   "source": [
    "# query = result[(result['unique_id'] == 'Grand Total') & (~result['y'].isnull())] [['ds', 'y' , 'unique_id']]\n",
    "# query.reset_index(inplace=True, drop=True)\n",
    "\n",
    "# test = query[['unique_id', 'ds', 'y']]\n",
    "\n",
    "# sf = StatsForecast(\n",
    "#     models = [AutoARIMA(season_length = 13)],\n",
    "#     freq = 'W'\n",
    "# )\n",
    "\n",
    "# sf.fit(test)\n",
    "\n",
    "# forecast = sf.forecast(h=71, level=[50], fitted=True) "
   ]
  },
  {
   "cell_type": "code",
   "execution_count": 7,
   "metadata": {},
   "outputs": [],
   "source": [
    "concatenate = pd.DataFrame()\n",
    "\n",
    "for x in result['unique_id'].unique().tolist():\n",
    "    query = result[(result['unique_id'] == x) & (~result['y'].isnull())] [['ds', 'y', 'unique_id']]\n",
    "\n",
    "    test = query\n",
    "    sf = StatsForecast(models = [AutoARIMA(season_length = 13)], freq = 'W')\n",
    "    sf.fit(test)\n",
    "\n",
    "    forecast = sf.predict(h=72, level=[50]) \n",
    "\n",
    "    forecast.rename(columns={'AutoARIMA-hi-50': 'y'}, inplace=True)\n",
    "    forecast.drop(columns=['AutoARIMA-lo-50', 'AutoARIMA'], inplace=True)\n",
    "    forecast = pd.concat([query, forecast], axis=0)\n",
    "    forecast.reset_index(inplace=True)\n",
    "\n",
    "    combine = pd.concat([forecast, pd.DataFrame({'SECTOR-ID':[x]*len(forecast.index)})], axis=1)\n",
    "    concatenate = pd.concat([concatenate, combine], ignore_index=True, axis=0)"
   ]
  },
  {
   "cell_type": "code",
   "execution_count": null,
   "metadata": {},
   "outputs": [],
   "source": [
    "concatenate.drop(columns=['unique_id', 'index'], inplace=True)"
   ]
  },
  {
   "cell_type": "code",
   "execution_count": null,
   "metadata": {},
   "outputs": [],
   "source": [
    "concatenate.to_excel('result/arima-activeuser-sectors-1.xlsx', index=False)"
   ]
  }
 ],
 "metadata": {
  "kernelspec": {
   "display_name": ".python-3.10",
   "language": "python",
   "name": "python3"
  },
  "language_info": {
   "codemirror_mode": {
    "name": "ipython",
    "version": 3
   },
   "file_extension": ".py",
   "mimetype": "text/x-python",
   "name": "python",
   "nbconvert_exporter": "python",
   "pygments_lexer": "ipython3",
   "version": "3.10.11"
  },
  "orig_nbformat": 4
 },
 "nbformat": 4,
 "nbformat_minor": 2
}
