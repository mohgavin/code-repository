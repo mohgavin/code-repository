{
 "cells": [
  {
   "cell_type": "code",
   "execution_count": 1,
   "metadata": {},
   "outputs": [],
   "source": [
    "import geopandas as gpd\n",
    "import pandas as pd\n",
    "import numpy as np"
   ]
  },
  {
   "cell_type": "code",
   "execution_count": 2,
   "metadata": {},
   "outputs": [],
   "source": [
    "cellrebel = pd.read_csv('Source Data/Bogor_Bekasi_RSRP_Throughput.csv', low_memory=False)\n",
    "grid = gpd.read_file('Grid Folder/grid_bogorbekasi_250x250.geojson')\n",
    "boundary = gpd.read_file('Polygon Kecamatan_Yunan/boundary.geojson')"
   ]
  },
  {
   "cell_type": "code",
   "execution_count": 3,
   "metadata": {},
   "outputs": [],
   "source": [
    "cellrebel = cellrebel[cellrebel['mobile_operator'].str.contains('Indosat Ooredoo|XL Axiata')==True]\n",
    "cellrebel = cellrebel[~cellrebel['dl_throughput'].isnull()]"
   ]
  },
  {
   "cell_type": "code",
   "execution_count": 4,
   "metadata": {},
   "outputs": [],
   "source": [
    "cellrebel_gpd = gpd.GeoDataFrame(cellrebel, geometry=gpd.points_from_xy(cellrebel.longitude, cellrebel.latitude), crs=4326)\n",
    "boundary = boundary.to_crs(4326)\n",
    "grid = grid.to_crs(4326)"
   ]
  },
  {
   "cell_type": "code",
   "execution_count": 5,
   "metadata": {},
   "outputs": [],
   "source": [
    "grid['geometry1'] = grid['geometry']"
   ]
  },
  {
   "cell_type": "code",
   "execution_count": 6,
   "metadata": {},
   "outputs": [],
   "source": [
    "points_within = gpd.sjoin(left_df= cellrebel_gpd,right_df=grid, how='left', predicate='within')\n",
    "points_within.drop(['index_right'], axis=1, inplace=True)\n",
    "points_within = gpd.sjoin(left_df= points_within, right_df=boundary, how='left', predicate='within')"
   ]
  },
  {
   "cell_type": "code",
   "execution_count": 7,
   "metadata": {},
   "outputs": [
    {
     "data": {
      "text/plain": [
       "Index(['date', 'mobile_operator', 'network_mnc', 'longitude', 'latitude',\n",
       "       'dl_throughput', 'ul_throughput', 'latency',\n",
       "       'reference_signal_received_power', 'geometry', 'id', 'left', 'top',\n",
       "       'right', 'bottom', 'geometry1', 'index_right', 'NO_PROV', 'NO_KAB',\n",
       "       'NO_KEC', 'NO_DES', 'PROV', 'KAB_KOT', 'KEC', 'KEL_DES', 'ID', 'ID_Kec',\n",
       "       'Kepadatan_Penduduk', 'Elektrifikasi', 'Aksesibilitas_Jalan',\n",
       "       'Ekonomi_Desa', 'WEIGHT', 'Kabkota_no', 'Kab_kota', 'Prop_no',\n",
       "       'Propinsi', 'Pendd', 'Kode_pos', 'POC', 'Luas_kab', 'Perimeter_Kab',\n",
       "       'BPS_Kab_Kota', 'BPS_Provinsi', 'XL_Region'],\n",
       "      dtype='object')"
      ]
     },
     "execution_count": 7,
     "metadata": {},
     "output_type": "execute_result"
    }
   ],
   "source": [
    "points_within.columns"
   ]
  },
  {
   "cell_type": "code",
   "execution_count": 8,
   "metadata": {},
   "outputs": [],
   "source": [
    "pivot = pd.pivot_table(points_within, index= ['id', 'KAB_KOT', 'KEC'],\n",
    "                        columns=['mobile_operator'], values=['dl_throughput'], aggfunc = np.mean)"
   ]
  },
  {
   "cell_type": "code",
   "execution_count": 9,
   "metadata": {},
   "outputs": [],
   "source": [
    "pivot.reset_index(inplace=True, col_level=1, allow_duplicates=False)\n",
    "pivot = pivot.droplevel(level=0, axis=1)"
   ]
  },
  {
   "cell_type": "code",
   "execution_count": 10,
   "metadata": {},
   "outputs": [],
   "source": [
    "# Methods-1 : replacing np.nan in the sample to 0 to increase number of grid covered\n",
    "\n",
    "# pivot['XL Axiata'].replace(np.nan, 0, inplace=True)\n",
    "# pivot['Indosat Ooredoo'].replace(np.nan, 0, inplace=True)"
   ]
  },
  {
   "cell_type": "code",
   "execution_count": 11,
   "metadata": {},
   "outputs": [],
   "source": [
    "# Methods-2 : drop nan in the sample. The impact : qty of compared grid will decrease\n",
    "\n",
    "pivot = pivot[~pivot['Indosat Ooredoo'].isnull() & ~pivot['XL Axiata'].isnull()]\n",
    "pivot = pivot[(pivot['Indosat Ooredoo']) > 0 & (pivot['XL Axiata'] > 0)]\n",
    "pivot['1-1-IOH-XL'] = 'Yes'"
   ]
  },
  {
   "cell_type": "code",
   "execution_count": 12,
   "metadata": {},
   "outputs": [],
   "source": [
    "points_within = points_within.merge(pivot[['id', '1-1-IOH-XL']], how='left', on='id', suffixes=['_x'])\n",
    "points_within = points_within[points_within['1-1-IOH-XL'] == 'Yes']"
   ]
  },
  {
   "cell_type": "code",
   "execution_count": 13,
   "metadata": {},
   "outputs": [],
   "source": [
    "pivot['compare'] = pivot['XL Axiata'] - pivot['Indosat Ooredoo']"
   ]
  },
  {
   "cell_type": "code",
   "execution_count": 14,
   "metadata": {},
   "outputs": [],
   "source": [
    "pivot = pivot.merge(grid[['id', 'geometry1']], how='left', on='id')"
   ]
  },
  {
   "cell_type": "code",
   "execution_count": 15,
   "metadata": {},
   "outputs": [],
   "source": [
    "# grid.to_csv('hasil.csv')\n",
    "pivot.to_csv('bogorbekasi_throughput_250x250_methods2.csv')"
   ]
  },
  {
   "cell_type": "code",
   "execution_count": 16,
   "metadata": {},
   "outputs": [],
   "source": [
    "points_within.to_csv('bogorbekasi_throughput_processed_methods2.csv')"
   ]
  },
  {
   "cell_type": "code",
   "execution_count": 17,
   "metadata": {},
   "outputs": [],
   "source": [
    "### Methods to count sample for each grid\n",
    "\n",
    "pivot1 = pd.pivot_table(points_within, index= ['id', 'KAB_KOT', 'KEC'],\n",
    "                        columns=['mobile_operator'], values=['reference_signal_received_power'], aggfunc = len)\n",
    "\n",
    "pivot1.reset_index(inplace=True, col_level=1, allow_duplicates=False)\n",
    "pivot1 = pivot1.droplevel(level=0, axis=1)\n",
    "\n",
    "pivot1 = pivot1[~pivot1['Indosat Ooredoo'].isnull() & ~pivot1['XL Axiata'].isnull()]\n",
    "pivot1 = pivot1[(pivot1['Indosat Ooredoo']) > 0 & (pivot1['XL Axiata'] > 0)]\n",
    "\n",
    "pivot1.loc[\"Indosat Ooredoo\"] = pivot1.sum()"
   ]
  },
  {
   "cell_type": "code",
   "execution_count": 18,
   "metadata": {},
   "outputs": [
    {
     "data": {
      "text/html": [
       "<div>\n",
       "<style scoped>\n",
       "    .dataframe tbody tr th:only-of-type {\n",
       "        vertical-align: middle;\n",
       "    }\n",
       "\n",
       "    .dataframe tbody tr th {\n",
       "        vertical-align: top;\n",
       "    }\n",
       "\n",
       "    .dataframe thead th {\n",
       "        text-align: right;\n",
       "    }\n",
       "</style>\n",
       "<table border=\"1\" class=\"dataframe\">\n",
       "  <thead>\n",
       "    <tr style=\"text-align: right;\">\n",
       "      <th>mobile_operator</th>\n",
       "      <th>id</th>\n",
       "      <th>KAB_KOT</th>\n",
       "      <th>KEC</th>\n",
       "      <th>Indosat Ooredoo</th>\n",
       "      <th>XL Axiata</th>\n",
       "    </tr>\n",
       "  </thead>\n",
       "  <tbody>\n",
       "    <tr>\n",
       "      <th>0</th>\n",
       "      <td>2472.0</td>\n",
       "      <td>BOGOR</td>\n",
       "      <td>JASINGA</td>\n",
       "      <td>74.0</td>\n",
       "      <td>5.0</td>\n",
       "    </tr>\n",
       "    <tr>\n",
       "      <th>1</th>\n",
       "      <td>2845.0</td>\n",
       "      <td>BOGOR</td>\n",
       "      <td>JASINGA</td>\n",
       "      <td>1.0</td>\n",
       "      <td>2.0</td>\n",
       "    </tr>\n",
       "    <tr>\n",
       "      <th>2</th>\n",
       "      <td>5406.0</td>\n",
       "      <td>BOGOR</td>\n",
       "      <td>TENJO</td>\n",
       "      <td>15.0</td>\n",
       "      <td>7.0</td>\n",
       "    </tr>\n",
       "    <tr>\n",
       "      <th>3</th>\n",
       "      <td>5779.0</td>\n",
       "      <td>BOGOR</td>\n",
       "      <td>TENJO</td>\n",
       "      <td>16.0</td>\n",
       "      <td>13.0</td>\n",
       "    </tr>\n",
       "    <tr>\n",
       "      <th>4</th>\n",
       "      <td>5780.0</td>\n",
       "      <td>BOGOR</td>\n",
       "      <td>TENJO</td>\n",
       "      <td>7.0</td>\n",
       "      <td>8.0</td>\n",
       "    </tr>\n",
       "    <tr>\n",
       "      <th>...</th>\n",
       "      <td>...</td>\n",
       "      <td>...</td>\n",
       "      <td>...</td>\n",
       "      <td>...</td>\n",
       "      <td>...</td>\n",
       "    </tr>\n",
       "    <tr>\n",
       "      <th>10054</th>\n",
       "      <td>146714.0</td>\n",
       "      <td>BEKASI</td>\n",
       "      <td>PEBAYURAN</td>\n",
       "      <td>7.0</td>\n",
       "      <td>16.0</td>\n",
       "    </tr>\n",
       "    <tr>\n",
       "      <th>10055</th>\n",
       "      <td>147059.0</td>\n",
       "      <td>BEKASI</td>\n",
       "      <td>PEBAYURAN</td>\n",
       "      <td>12.0</td>\n",
       "      <td>7.0</td>\n",
       "    </tr>\n",
       "    <tr>\n",
       "      <th>10056</th>\n",
       "      <td>147087.0</td>\n",
       "      <td>BEKASI</td>\n",
       "      <td>PEBAYURAN</td>\n",
       "      <td>14.0</td>\n",
       "      <td>2.0</td>\n",
       "    </tr>\n",
       "    <tr>\n",
       "      <th>10057</th>\n",
       "      <td>147459.0</td>\n",
       "      <td>BEKASI</td>\n",
       "      <td>PEBAYURAN</td>\n",
       "      <td>107.0</td>\n",
       "      <td>6.0</td>\n",
       "    </tr>\n",
       "    <tr>\n",
       "      <th>Indosat Ooredoo</th>\n",
       "      <td>874722129.0</td>\n",
       "      <td>BOGORBOGORBOGORBOGORBOGORBOGORBOGORBOGORBOGORB...</td>\n",
       "      <td>JASINGAJASINGATENJOTENJOTENJOTENJOJASINGATENJO...</td>\n",
       "      <td>696192.0</td>\n",
       "      <td>463554.0</td>\n",
       "    </tr>\n",
       "  </tbody>\n",
       "</table>\n",
       "<p>9791 rows × 5 columns</p>\n",
       "</div>"
      ],
      "text/plain": [
       "mobile_operator           id  \\\n",
       "0                     2472.0   \n",
       "1                     2845.0   \n",
       "2                     5406.0   \n",
       "3                     5779.0   \n",
       "4                     5780.0   \n",
       "...                      ...   \n",
       "10054               146714.0   \n",
       "10055               147059.0   \n",
       "10056               147087.0   \n",
       "10057               147459.0   \n",
       "Indosat Ooredoo  874722129.0   \n",
       "\n",
       "mobile_operator                                            KAB_KOT  \\\n",
       "0                                                            BOGOR   \n",
       "1                                                            BOGOR   \n",
       "2                                                            BOGOR   \n",
       "3                                                            BOGOR   \n",
       "4                                                            BOGOR   \n",
       "...                                                            ...   \n",
       "10054                                                       BEKASI   \n",
       "10055                                                       BEKASI   \n",
       "10056                                                       BEKASI   \n",
       "10057                                                       BEKASI   \n",
       "Indosat Ooredoo  BOGORBOGORBOGORBOGORBOGORBOGORBOGORBOGORBOGORB...   \n",
       "\n",
       "mobile_operator                                                KEC  \\\n",
       "0                                                          JASINGA   \n",
       "1                                                          JASINGA   \n",
       "2                                                            TENJO   \n",
       "3                                                            TENJO   \n",
       "4                                                            TENJO   \n",
       "...                                                            ...   \n",
       "10054                                                    PEBAYURAN   \n",
       "10055                                                    PEBAYURAN   \n",
       "10056                                                    PEBAYURAN   \n",
       "10057                                                    PEBAYURAN   \n",
       "Indosat Ooredoo  JASINGAJASINGATENJOTENJOTENJOTENJOJASINGATENJO...   \n",
       "\n",
       "mobile_operator  Indosat Ooredoo  XL Axiata  \n",
       "0                           74.0        5.0  \n",
       "1                            1.0        2.0  \n",
       "2                           15.0        7.0  \n",
       "3                           16.0       13.0  \n",
       "4                            7.0        8.0  \n",
       "...                          ...        ...  \n",
       "10054                        7.0       16.0  \n",
       "10055                       12.0        7.0  \n",
       "10056                       14.0        2.0  \n",
       "10057                      107.0        6.0  \n",
       "Indosat Ooredoo         696192.0   463554.0  \n",
       "\n",
       "[9791 rows x 5 columns]"
      ]
     },
     "execution_count": 18,
     "metadata": {},
     "output_type": "execute_result"
    }
   ],
   "source": [
    "pivot1"
   ]
  }
 ],
 "metadata": {
  "kernelspec": {
   "display_name": ".env",
   "language": "python",
   "name": "python3"
  },
  "language_info": {
   "codemirror_mode": {
    "name": "ipython",
    "version": 3
   },
   "file_extension": ".py",
   "mimetype": "text/x-python",
   "name": "python",
   "nbconvert_exporter": "python",
   "pygments_lexer": "ipython3",
   "version": "3.10.11"
  },
  "orig_nbformat": 4
 },
 "nbformat": 4,
 "nbformat_minor": 2
}
