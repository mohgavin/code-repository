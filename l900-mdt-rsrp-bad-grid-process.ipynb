{
 "cells": [
  {
   "cell_type": "code",
   "execution_count": 1,
   "metadata": {},
   "outputs": [],
   "source": [
    "import pandas as pd\n",
    "import geopandas as gpd"
   ]
  },
  {
   "cell_type": "code",
   "execution_count": 2,
   "metadata": {},
   "outputs": [],
   "source": [
    "data1 = pd.read_csv('result/rsrp-l900-alljabo-40x40-pop.csv/0.part')\n",
    "data2 = pd.read_csv('result/rsrp-l900-alljabo-40x40.csv/0.part')\n",
    "\n",
    "existing_sites = pd.read_excel('sites/Existing Sites-L900.xlsx')\n",
    "new_sites = pd.read_csv('sites/1657 Sites.csv')\n",
    "\n",
    "kecamatan = gpd.read_file('Polygon XL - EID Area/Kecamatan_Jabotabek.TAB')"
   ]
  },
  {
   "cell_type": "code",
   "execution_count": 3,
   "metadata": {},
   "outputs": [],
   "source": [
    "existing_sites = existing_sites[['Tower ID', 'Frequency System', 'Longitude', 'Latitude']]\n",
    "new_sites = new_sites[['Planning ID','Lat', 'Long']]"
   ]
  },
  {
   "cell_type": "code",
   "execution_count": 4,
   "metadata": {},
   "outputs": [],
   "source": [
    "data1.rename(columns={'rsrp-l900':'rsrp-l900-qty'}, inplace=True)"
   ]
  },
  {
   "cell_type": "code",
   "execution_count": 5,
   "metadata": {},
   "outputs": [
    {
     "data": {
      "text/html": [
       "<div>\n",
       "<style scoped>\n",
       "    .dataframe tbody tr th:only-of-type {\n",
       "        vertical-align: middle;\n",
       "    }\n",
       "\n",
       "    .dataframe tbody tr th {\n",
       "        vertical-align: top;\n",
       "    }\n",
       "\n",
       "    .dataframe thead th {\n",
       "        text-align: right;\n",
       "    }\n",
       "</style>\n",
       "<table border=\"1\" class=\"dataframe\">\n",
       "  <thead>\n",
       "    <tr style=\"text-align: right;\">\n",
       "      <th></th>\n",
       "      <th>geometry_polygon</th>\n",
       "      <th>rsrp-l900-qty</th>\n",
       "    </tr>\n",
       "  </thead>\n",
       "  <tbody>\n",
       "    <tr>\n",
       "      <th>0</th>\n",
       "      <td>POLYGON ((105.280265 -6.568783, 105.280624 -6....</td>\n",
       "      <td>1.0</td>\n",
       "    </tr>\n",
       "    <tr>\n",
       "      <th>1</th>\n",
       "      <td>POLYGON ((105.318721 -6.481449, 105.31908 -6.4...</td>\n",
       "      <td>1.0</td>\n",
       "    </tr>\n",
       "    <tr>\n",
       "      <th>2</th>\n",
       "      <td>POLYGON ((105.31908 -6.480011, 105.319439 -6.4...</td>\n",
       "      <td>1.0</td>\n",
       "    </tr>\n",
       "    <tr>\n",
       "      <th>3</th>\n",
       "      <td>POLYGON ((105.31908 -6.480371, 105.319439 -6.4...</td>\n",
       "      <td>1.0</td>\n",
       "    </tr>\n",
       "    <tr>\n",
       "      <th>4</th>\n",
       "      <td>POLYGON ((105.31908 -6.48073, 105.319439 -6.48...</td>\n",
       "      <td>1.0</td>\n",
       "    </tr>\n",
       "    <tr>\n",
       "      <th>...</th>\n",
       "      <td>...</td>\n",
       "      <td>...</td>\n",
       "    </tr>\n",
       "    <tr>\n",
       "      <th>1553212</th>\n",
       "      <td>POLYGON ((107.64296 -6.200398, 107.64332 -6.20...</td>\n",
       "      <td>2.0</td>\n",
       "    </tr>\n",
       "    <tr>\n",
       "      <th>1553213</th>\n",
       "      <td>POLYGON ((107.64332 -6.120971, 107.643679 -6.1...</td>\n",
       "      <td>1.0</td>\n",
       "    </tr>\n",
       "    <tr>\n",
       "      <th>1553214</th>\n",
       "      <td>POLYGON ((107.64332 -6.148645, 107.643679 -6.1...</td>\n",
       "      <td>2.0</td>\n",
       "    </tr>\n",
       "    <tr>\n",
       "      <th>1553215</th>\n",
       "      <td>POLYGON ((107.64332 -6.149723, 107.643679 -6.1...</td>\n",
       "      <td>1.0</td>\n",
       "    </tr>\n",
       "    <tr>\n",
       "      <th>1553216</th>\n",
       "      <td>POLYGON ((107.64332 -6.200398, 107.643679 -6.2...</td>\n",
       "      <td>8.0</td>\n",
       "    </tr>\n",
       "  </tbody>\n",
       "</table>\n",
       "<p>1553217 rows × 2 columns</p>\n",
       "</div>"
      ],
      "text/plain": [
       "                                          geometry_polygon  rsrp-l900-qty\n",
       "0        POLYGON ((105.280265 -6.568783, 105.280624 -6....            1.0\n",
       "1        POLYGON ((105.318721 -6.481449, 105.31908 -6.4...            1.0\n",
       "2        POLYGON ((105.31908 -6.480011, 105.319439 -6.4...            1.0\n",
       "3        POLYGON ((105.31908 -6.480371, 105.319439 -6.4...            1.0\n",
       "4        POLYGON ((105.31908 -6.48073, 105.319439 -6.48...            1.0\n",
       "...                                                    ...            ...\n",
       "1553212  POLYGON ((107.64296 -6.200398, 107.64332 -6.20...            2.0\n",
       "1553213  POLYGON ((107.64332 -6.120971, 107.643679 -6.1...            1.0\n",
       "1553214  POLYGON ((107.64332 -6.148645, 107.643679 -6.1...            2.0\n",
       "1553215  POLYGON ((107.64332 -6.149723, 107.643679 -6.1...            1.0\n",
       "1553216  POLYGON ((107.64332 -6.200398, 107.643679 -6.2...            8.0\n",
       "\n",
       "[1553217 rows x 2 columns]"
      ]
     },
     "execution_count": 5,
     "metadata": {},
     "output_type": "execute_result"
    }
   ],
   "source": [
    "data1"
   ]
  },
  {
   "cell_type": "code",
   "execution_count": 6,
   "metadata": {},
   "outputs": [],
   "source": [
    "data2.rename(columns={'geometry_polygon': 'geometry_polygon1'}, inplace=True)\n",
    "data1 = pd.concat([data1, data2], axis=1, join='inner')"
   ]
  },
  {
   "cell_type": "code",
   "execution_count": 7,
   "metadata": {},
   "outputs": [],
   "source": [
    "data1['compare'] = data1['geometry_polygon'] == data1['geometry_polygon1']\n",
    "data1.reset_index(drop=True, inplace=True)\n",
    "data1.drop(columns=['geometry_polygon1'], inplace=True)\n",
    "data1 = data1[data1['rsrp-l900-qty'] > 150] \n",
    "data1 = data1[data1['rsrp-l900'] < -105]"
   ]
  },
  {
   "cell_type": "code",
   "execution_count": 8,
   "metadata": {},
   "outputs": [],
   "source": [
    "data1   = gpd.GeoDataFrame(data1, geometry=gpd.GeoSeries.from_wkt(data1['geometry_polygon']), crs=4326)\n",
    "existing_sites = gpd.GeoDataFrame(existing_sites, geometry=gpd.points_from_xy(existing_sites['Longitude'], existing_sites['Latitude']), crs=4326)\n",
    "new_sites = gpd.GeoDataFrame(new_sites, geometry=gpd.points_from_xy(new_sites['Long'], new_sites['Lat']), crs=4326)"
   ]
  },
  {
   "cell_type": "code",
   "execution_count": 9,
   "metadata": {},
   "outputs": [
    {
     "name": "stderr",
     "output_type": "stream",
     "text": [
      "/home/nivag/2023-Linux/.python-3.10/lib/python3.10/site-packages/geopandas/array.py:364: UserWarning: Geometry is in a geographic CRS. Results from 'sjoin_nearest' are likely incorrect. Use 'GeoSeries.to_crs()' to re-project geometries to a projected CRS before this operation.\n",
      "\n",
      "  warnings.warn(\n",
      "/home/nivag/2023-Linux/.python-3.10/lib/python3.10/site-packages/geopandas/array.py:364: UserWarning: Geometry is in a geographic CRS. Results from 'sjoin_nearest' are likely incorrect. Use 'GeoSeries.to_crs()' to re-project geometries to a projected CRS before this operation.\n",
      "\n",
      "  warnings.warn(\n"
     ]
    }
   ],
   "source": [
    "data1 = data1.sjoin_nearest(existing_sites, how='left', max_distance = 0.0008985 * 5, distance_col='distance_existing')\n",
    "data1.drop(columns=['index_right'], inplace=True)\n",
    "data1 = data1.sjoin_nearest(new_sites, how='left', max_distance = 0.0008985 * 5, distance_col='distance_new')"
   ]
  },
  {
   "cell_type": "code",
   "execution_count": 10,
   "metadata": {},
   "outputs": [],
   "source": [
    "data1.reset_index(inplace=True)"
   ]
  },
  {
   "cell_type": "code",
   "execution_count": 11,
   "metadata": {},
   "outputs": [],
   "source": [
    "data1.drop(columns=['index'], inplace=True)"
   ]
  },
  {
   "cell_type": "code",
   "execution_count": 12,
   "metadata": {},
   "outputs": [],
   "source": [
    "data1.rename(columns={'rsrp-l900':'rsrp-l900-avg'}, inplace=True)"
   ]
  },
  {
   "cell_type": "code",
   "execution_count": 13,
   "metadata": {},
   "outputs": [],
   "source": [
    "data1.drop(columns=['index_right', 'geometry_polygon'], inplace=True)"
   ]
  },
  {
   "cell_type": "code",
   "execution_count": 14,
   "metadata": {},
   "outputs": [],
   "source": [
    "data1 = gpd.sjoin(left_df= data1, right_df=kecamatan, how='left', predicate='within')"
   ]
  },
  {
   "cell_type": "code",
   "execution_count": 15,
   "metadata": {},
   "outputs": [],
   "source": [
    "data1.to_csv('result/result-badgrid-l900.csv')"
   ]
  }
 ],
 "metadata": {
  "kernelspec": {
   "display_name": ".python-3.10",
   "language": "python",
   "name": "python3"
  },
  "language_info": {
   "codemirror_mode": {
    "name": "ipython",
    "version": 3
   },
   "file_extension": ".py",
   "mimetype": "text/x-python",
   "name": "python",
   "nbconvert_exporter": "python",
   "pygments_lexer": "ipython3",
   "version": "3.10.11"
  },
  "orig_nbformat": 4
 },
 "nbformat": 4,
 "nbformat_minor": 2
}
