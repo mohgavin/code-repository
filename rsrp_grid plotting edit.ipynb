{
 "cells": [
  {
   "cell_type": "code",
   "execution_count": 1,
   "metadata": {},
   "outputs": [],
   "source": [
    "import geopandas as gpd\n",
    "import pandas as pd\n",
    "import numpy as np\n",
    "from shapely.geometry import Polygon\n",
    "import shapely"
   ]
  },
  {
   "cell_type": "code",
   "execution_count": 2,
   "metadata": {},
   "outputs": [],
   "source": [
    "cellrebel = pd.read_csv('Source Data/Bogor_Bekasi_RSRP_Throughput.csv', low_memory=False)\n",
    "# sites = pd.read_csv('2023_Bekasi.csv')\n",
    "grid = gpd.read_file('Grid Folder/grid_bogorbekasi_250x250.geojson')\n",
    "boundary = gpd.read_file('Polygon Kecamatan_Yunan/DESA_83218_EID_kec_comb1.geojson')"
   ]
  },
  {
   "cell_type": "code",
   "execution_count": null,
   "metadata": {},
   "outputs": [],
   "source": [
    "cellrebel.drop(['dl_throughput', 'ul_throughput', 'latency'], axis=1, inplace=True, errors='ignore')\n",
    "# cellrebel = cellrebel[cellrebel['mobile_operator'].str.contains('Indosat Ooredoo|XL Axiata')==True]\n",
    "cellrebel = cellrebel[~cellrebel['reference_signal_received_power'].isnull()]"
   ]
  },
  {
   "cell_type": "code",
   "execution_count": null,
   "metadata": {},
   "outputs": [],
   "source": [
    "cellrebel_gpd = gpd.GeoDataFrame(cellrebel, geometry=gpd.points_from_xy(cellrebel.longitude, cellrebel.latitude), crs=4326)\n",
    "# sites_gpd = gpd.GeoDataFrame(sites, geometry=gpd.points_from_xy(sites['Long'], sites['Lat']), crs=4326)\n",
    "grid = grid.to_crs(4326)"
   ]
  },
  {
   "cell_type": "code",
   "execution_count": null,
   "metadata": {},
   "outputs": [],
   "source": [
    "### Create Rectangle Grid 100x100 metre from mininum/maximum long-lat in CRS:3426\n",
    "### These projection are imagined earth as flat object. these are not accurate for higher degree of long-lat\n",
    "### Based on plotting in QGIS, the difference of grid reach 50 meter in latitude and 25 meter in longitude\n",
    "### Try to convert them to EPSG:3857 \n",
    "\n",
    "# xmin, ymin, xmax, ymax = cellrebel_gpd.total_bounds\n",
    "\n",
    "# length =  0.0008985 ### (the distance for 100 metres, so if you want to get 250 metres, need to multiply 2.5)\n",
    "# wide =  0.0008985 ### (the distance for 100 metres, so if you want to get 250 metres, need to multiply 2.5)\n",
    "\n",
    "# cols = list(np.arange(xmin, xmax + wide, wide))\n",
    "# rows = list(np.arange(ymin, ymax + length, length))\n",
    "\n",
    "# polygons = []\n",
    "# for x in cols[:-1]: ### [:-1] these are used stop -1 of position from the end of list \n",
    "#     for y in rows[:-1]:\n",
    "#         polygons.append(Polygon([(x,y), (x+wide, y), (x+wide, y+length), (x, y+length)]))\n",
    "\n",
    "# grid = gpd.GeoDataFrame({'geometry':polygons}, crs=4326)\n",
    "\n",
    "# grid.reset_index(inplace=True)\n",
    "# grid.rename(columns={'index':'id'}, inplace = True)\n"
   ]
  },
  {
   "cell_type": "code",
   "execution_count": null,
   "metadata": {},
   "outputs": [],
   "source": [
    "grid['geometry1'] = grid['geometry']"
   ]
  },
  {
   "cell_type": "code",
   "execution_count": null,
   "metadata": {},
   "outputs": [],
   "source": [
    "points_within = gpd.sjoin(left_df= cellrebel_gpd,right_df=grid, how='left', predicate='within')\n",
    "points_within.drop(['index_right'], axis=1, inplace=True)\n",
    "points_within = gpd.sjoin(left_df= points_within, right_df=boundary, how='left', predicate='within')"
   ]
  },
  {
   "cell_type": "code",
   "execution_count": null,
   "metadata": {},
   "outputs": [],
   "source": [
    "pivot = pd.pivot_table(points_within, index= ['id', 'KAB_KOT', 'KEC'],\n",
    "                        columns=['mobile_operator'], values=['reference_signal_received_power'], aggfunc=len)"
   ]
  },
  {
   "cell_type": "code",
   "execution_count": null,
   "metadata": {},
   "outputs": [],
   "source": [
    "pivot"
   ]
  },
  {
   "cell_type": "code",
   "execution_count": null,
   "metadata": {},
   "outputs": [],
   "source": [
    "pivot.reset_index(inplace=True, col_level=1, allow_duplicates=False)\n",
    "pivot = pivot.droplevel(level=0, axis=1)"
   ]
  },
  {
   "cell_type": "code",
   "execution_count": null,
   "metadata": {},
   "outputs": [],
   "source": [
    "# Methods-1 : replacing np.nan in the sample to -120 to increase number of grid covered\n",
    "\n",
    "# pivot['Indosat Ooredoo'] = pivot['Indosat Ooredoo'].replace(np.nan, -120)\n",
    "# pivot['XL Axiata'] = pivot['XL Axiata'].replace(np.nan, -120)"
   ]
  },
  {
   "cell_type": "code",
   "execution_count": null,
   "metadata": {},
   "outputs": [],
   "source": [
    "# Methods-2 : drop nan in the sample. The impact : qty of compared grid will decrease\n",
    "\n",
    "# pivot = pivot[~pivot['Indosat Ooredoo'].isnull() & ~pivot['XL Axiata'].isnull()]\n",
    "# pivot = pivot[(pivot['Indosat Ooredoo']) < 0 & (pivot['XL Axiata'] < 0)]"
   ]
  },
  {
   "cell_type": "code",
   "execution_count": null,
   "metadata": {},
   "outputs": [],
   "source": [
    "pivot"
   ]
  },
  {
   "cell_type": "code",
   "execution_count": null,
   "metadata": {},
   "outputs": [],
   "source": [
    "points_within"
   ]
  },
  {
   "cell_type": "code",
   "execution_count": null,
   "metadata": {},
   "outputs": [],
   "source": [
    "points_within = points_within.merge(pivot[['id']], how='left', on='id', suffixes=['_x'])"
   ]
  },
  {
   "cell_type": "code",
   "execution_count": null,
   "metadata": {},
   "outputs": [],
   "source": [
    "# pivot.loc[pivot['XL Axiata'] > pivot['Indosat Ooredoo'], 'compare'] = 'XL Wins'\n",
    "# pivot.loc[pivot['XL Axiata'] == pivot['Indosat Ooredoo'], 'compare'] = 'Same'\n",
    "# pivot.loc[pivot['XL Axiata'] < pivot['Indosat Ooredoo'], 'compare'] = 'XL Lose'"
   ]
  },
  {
   "cell_type": "code",
   "execution_count": null,
   "metadata": {},
   "outputs": [],
   "source": [
    "pivot['compare'] = pivot['XL Axiata'] - pivot['Indosat Ooredoo']"
   ]
  },
  {
   "cell_type": "code",
   "execution_count": null,
   "metadata": {},
   "outputs": [],
   "source": [
    "pivot = pivot.merge(grid[['id', 'geometry1']], how='left', on='id')"
   ]
  },
  {
   "cell_type": "code",
   "execution_count": null,
   "metadata": {},
   "outputs": [],
   "source": [
    "pivot_gpd = gpd.GeoDataFrame(pivot, geometry=pivot['geometry1'], crs=4326)"
   ]
  },
  {
   "cell_type": "code",
   "execution_count": null,
   "metadata": {},
   "outputs": [],
   "source": [
    "pivot_gpd.drop(['geometry1'], axis=1, inplace=True)"
   ]
  },
  {
   "cell_type": "code",
   "execution_count": null,
   "metadata": {},
   "outputs": [],
   "source": [
    "# grid.to_csv('hasil.csv')\n",
    "pivot.to_csv('result/bogorbekasi_rsrp_250x250_methods2_population.csv')\n",
    "pivot_gpd.to_file('result/bogorbekasi_rsrp_250x250_methods2_population.json', driver=\"GeoJSON\", na='drop')\n",
    "pivot_gpd.to_file('result/bogorbekasi_rsrp_250x250_methods2_population.json.TAB', driver=\"MapInfo File\")\n"
   ]
  },
  {
   "cell_type": "code",
   "execution_count": null,
   "metadata": {},
   "outputs": [],
   "source": [
    "points_within.to_csv('bogorbekasi_rsrp_processed_methods2.csv')"
   ]
  },
  {
   "cell_type": "code",
   "execution_count": null,
   "metadata": {},
   "outputs": [],
   "source": [
    "### Methods to count sample for each grid\n",
    "\n",
    "pivot1 = pd.pivot_table(points_within, index= ['id', 'KAB_KOT', 'KEC'],\n",
    "                        columns=['mobile_operator'], values=['reference_signal_received_power'], aggfunc = len)\n",
    "\n",
    "pivot1.reset_index(inplace=True, col_level=1, allow_duplicates=False)\n",
    "pivot1 = pivot1.droplevel(level=0, axis=1)\n",
    "\n",
    "pivot1 = pivot1[~pivot1['Indosat Ooredoo'].isnull() & ~pivot1['XL Axiata'].isnull()]\n",
    "pivot1 = pivot1[(pivot1['Indosat Ooredoo'] > 0) & (pivot1['XL Axiata'] > 0)]\n",
    "\n",
    "pivot1.loc[\"Indosat Ooredoo\"] = pivot1.sum()"
   ]
  }
 ],
 "metadata": {
  "kernelspec": {
   "display_name": ".env",
   "language": "python",
   "name": "python3"
  },
  "language_info": {
   "codemirror_mode": {
    "name": "ipython",
    "version": 3
   },
   "file_extension": ".py",
   "mimetype": "text/x-python",
   "name": "python",
   "nbconvert_exporter": "python",
   "pygments_lexer": "ipython3",
   "version": "3.10.10"
  },
  "orig_nbformat": 4
 },
 "nbformat": 4,
 "nbformat_minor": 2
}
