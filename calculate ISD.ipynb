{
 "cells": [
  {
   "cell_type": "code",
   "execution_count": null,
   "metadata": {},
   "outputs": [],
   "source": [
    "from shapely.geometry import Polygon, LineString, Point\n",
    "\n",
    "import geopandas as gpd\n",
    "import numpy as np\n",
    "import pandas as pd"
   ]
  },
  {
   "cell_type": "code",
   "execution_count": null,
   "metadata": {},
   "outputs": [],
   "source": [
    "site = pd.read_excel('sample-folder/XL-EID 4G Capacity Sector W26-W29 2023_edit.xlsb', header=5, sheet_name='Sector')\n",
    "site = gpd.GeoDataFrame(site, geometry=gpd.points_from_xy(site['Longitude'], site['Latitude']), crs=4326)\n",
    "site = site.to_crs(3857)"
   ]
  },
  {
   "cell_type": "code",
   "execution_count": null,
   "metadata": {},
   "outputs": [],
   "source": [
    "# This algorithm will get multiple output of nearest site - Please note! This algorith requires a unique tower ID/Site ID.\n",
    "\n",
    "combined = pd.DataFrame()\n",
    "\n",
    "for x in np.unique(site['Tower ID Special']):\n",
    "    table = site[site['Tower ID Special'].str.contains(x, regex=False) == False].reset_index(drop=True)\n",
    "    \n",
    "    point = {'geometry': site[site['Tower ID Special'].str.contains(x, regex=False) == True]['geometry'].reset_index(drop=True).to_list() * len(table.index), 'Tower_ID': [x] * len(table.index)}\n",
    "\n",
    "    point = gpd.GeoDataFrame(point,crs=3857)\n",
    "    # point = point.set_crs(3857)\n",
    "    distance = table.distance(point)\n",
    "\n",
    "    combine = pd.concat([pd.DataFrame(table), pd.DataFrame(point), pd.DataFrame({'distance': distance})], axis=1).drop(columns=['geometry'])\n",
    "    combine = combine[combine['distance'] < 500]\n",
    "    combined = pd.concat([combined, combine], ignore_index=True) "
   ]
  },
  {
   "cell_type": "code",
   "execution_count": null,
   "metadata": {},
   "outputs": [],
   "source": [
    "# This algorithm only get 1 nearest site - Please note! Sjoin_nearest will output multiple result  if they have same distance in second/third/others nearest point/polygon \n",
    "\n",
    "# combined = pd.DataFrame()\n",
    "\n",
    "# for x in np.unique(site['Tower ID Special']):\n",
    "    \n",
    "#     combine = site[site['Tower ID Special'].str.contains(x) ==True].sjoin_nearest(site[site['Tower ID Special'].str.contains(x) == False ], how='left', max_distance=50000, distance_col='distance')\n",
    "\n",
    "#     combine =  pd.DataFrame(combine)\n",
    "    \n",
    "#     combined = pd.concat([combined, combine], ignore_index=True) \n"
   ]
  },
  {
   "cell_type": "code",
   "execution_count": null,
   "metadata": {},
   "outputs": [],
   "source": [
    "combined.to_excel('result/test.xlsx', index=False)"
   ]
  }
 ],
 "metadata": {
  "kernelspec": {
   "display_name": ".python-3.10",
   "language": "python",
   "name": "python3"
  },
  "language_info": {
   "codemirror_mode": {
    "name": "ipython",
    "version": 3
   },
   "file_extension": ".py",
   "mimetype": "text/x-python",
   "name": "python",
   "nbconvert_exporter": "python",
   "pygments_lexer": "ipython3",
   "version": "3.10.11"
  },
  "orig_nbformat": 4
 },
 "nbformat": 4,
 "nbformat_minor": 2
}
