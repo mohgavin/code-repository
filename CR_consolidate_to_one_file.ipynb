{
 "cells": [
  {
   "cell_type": "code",
   "execution_count": 1,
   "metadata": {},
   "outputs": [],
   "source": [
    "import os\n",
    "import pandas as pd\n",
    "import geopandas as gpd"
   ]
  },
  {
   "cell_type": "code",
   "execution_count": 2,
   "metadata": {},
   "outputs": [],
   "source": [
    "dir_path = 'cellrebel-cap'\n",
    "csv_files = [f for f in os.listdir(dir_path) if f.endswith('.csv')]\n",
    "cellrebel_consolidate = pd.DataFrame()\n",
    "\n",
    "# kecamatan = pd.read_csv('csv_polygon/Kecamatan_Jabotabek.csv')\n",
    "# kecamatan = gpd.GeoDataFrame(kecamatan, geometry=gpd.GeoSeries.from_wkt(kecamatan['WKT']), crs=4326)"
   ]
  },
  {
   "cell_type": "code",
   "execution_count": 3,
   "metadata": {},
   "outputs": [],
   "source": [
    "for file in csv_files:\n",
    "\n",
    "    csv_path = os.path.join(dir_path, file)\n",
    "    cellrebel = pd.read_csv(csv_path)\n",
    "    # cellrebel = gpd.GeoDataFrame(cellrebel, geometry=gpd.points_from_xy(cellrebel['longitude'], cellrebel['latitude']), crs=4326)\n",
    "\n",
    "    # cellrebel = gpd.sjoin(left_df= cellrebel, right_df=kecamatan, how='inner', predicate='within')\n",
    "    # cellrebel = cellrebel[~cellrebel['reference_signal_received_power'].isnull()]\n",
    "    cellrebel_consolidate = pd.concat([cellrebel, cellrebel_consolidate], ignore_index=True)\n"
   ]
  },
  {
   "cell_type": "code",
   "execution_count": 4,
   "metadata": {},
   "outputs": [],
   "source": [
    "cellrebel_consolidate.to_csv('result/cellrebel-cap-june23.csv', index=False)\n",
    "# cellrebel_consolidate.to_csv('result/consolidate_file.csv')"
   ]
  }
 ],
 "metadata": {
  "kernelspec": {
   "display_name": ".env",
   "language": "python",
   "name": "python3"
  },
  "language_info": {
   "codemirror_mode": {
    "name": "ipython",
    "version": 3
   },
   "file_extension": ".py",
   "mimetype": "text/x-python",
   "name": "python",
   "nbconvert_exporter": "python",
   "pygments_lexer": "ipython3",
   "version": "3.10.11"
  },
  "orig_nbformat": 4
 },
 "nbformat": 4,
 "nbformat_minor": 2
}
