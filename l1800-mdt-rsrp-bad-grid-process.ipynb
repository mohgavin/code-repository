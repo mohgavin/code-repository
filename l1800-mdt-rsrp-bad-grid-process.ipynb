{
 "cells": [
  {
   "cell_type": "code",
   "execution_count": 1,
   "metadata": {},
   "outputs": [],
   "source": [
    "import pandas as pd\n",
    "import geopandas as gpd"
   ]
  },
  {
   "cell_type": "code",
   "execution_count": 2,
   "metadata": {},
   "outputs": [],
   "source": [
    "data1 = pd.read_csv('result/rsrp-l1800-alljabo-40x40-pop.csv/0.part')\n",
    "data2 = pd.read_csv('result/rsrp-l1800-alljabo-40x40.csv/0.part')\n",
    "\n",
    "existing_sites = pd.read_excel('sites/Existing Sites-L1800.xlsx')\n",
    "new_sites = pd.read_csv('sites/1657 Sites.csv')\n",
    "\n",
    "kecamatan = gpd.read_file('Polygon XL - EID Area/Kecamatan_Jabotabek.TAB')"
   ]
  },
  {
   "cell_type": "code",
   "execution_count": 3,
   "metadata": {},
   "outputs": [],
   "source": [
    "data1.rename(columns={'rsrp-l1800':'rsrp-l1800-qty'}, inplace=True)"
   ]
  },
  {
   "cell_type": "code",
   "execution_count": 4,
   "metadata": {},
   "outputs": [],
   "source": [
    "existing_sites = existing_sites[['Tower ID', 'Frequency System', 'Longitude', 'Latitude']]\n",
    "new_sites = new_sites[['Planning ID','Lat', 'Long']]"
   ]
  },
  {
   "cell_type": "code",
   "execution_count": 5,
   "metadata": {},
   "outputs": [],
   "source": [
    "data2.rename(columns={'geometry_polygon': 'geometry_polygon1'}, inplace=True)\n",
    "data1 = pd.concat([data1, data2], axis=1, join='inner')"
   ]
  },
  {
   "cell_type": "code",
   "execution_count": 6,
   "metadata": {},
   "outputs": [
    {
     "data": {
      "text/html": [
       "<div>\n",
       "<style scoped>\n",
       "    .dataframe tbody tr th:only-of-type {\n",
       "        vertical-align: middle;\n",
       "    }\n",
       "\n",
       "    .dataframe tbody tr th {\n",
       "        vertical-align: top;\n",
       "    }\n",
       "\n",
       "    .dataframe thead th {\n",
       "        text-align: right;\n",
       "    }\n",
       "</style>\n",
       "<table border=\"1\" class=\"dataframe\">\n",
       "  <thead>\n",
       "    <tr style=\"text-align: right;\">\n",
       "      <th></th>\n",
       "      <th>geometry_polygon</th>\n",
       "      <th>rsrp-l1800-qty</th>\n",
       "      <th>geometry_polygon1</th>\n",
       "      <th>rsrp-l1800</th>\n",
       "    </tr>\n",
       "  </thead>\n",
       "  <tbody>\n",
       "    <tr>\n",
       "      <th>0</th>\n",
       "      <td>POLYGON ((105.164179 -6.564111, 105.164538 -6....</td>\n",
       "      <td>1.0</td>\n",
       "      <td>POLYGON ((105.164179 -6.564111, 105.164538 -6....</td>\n",
       "      <td>-78.000000</td>\n",
       "    </tr>\n",
       "    <tr>\n",
       "      <th>1</th>\n",
       "      <td>POLYGON ((105.190774 -6.278029, 105.191134 -6....</td>\n",
       "      <td>1.0</td>\n",
       "      <td>POLYGON ((105.190774 -6.278029, 105.191134 -6....</td>\n",
       "      <td>-93.000000</td>\n",
       "    </tr>\n",
       "    <tr>\n",
       "      <th>2</th>\n",
       "      <td>POLYGON ((105.191493 -7.034925, 105.191852 -7....</td>\n",
       "      <td>1.0</td>\n",
       "      <td>POLYGON ((105.191493 -7.034925, 105.191852 -7....</td>\n",
       "      <td>-85.000000</td>\n",
       "    </tr>\n",
       "    <tr>\n",
       "      <th>3</th>\n",
       "      <td>POLYGON ((105.207307 -6.591425, 105.207666 -6....</td>\n",
       "      <td>65.0</td>\n",
       "      <td>POLYGON ((105.207307 -6.591425, 105.207666 -6....</td>\n",
       "      <td>-97.369231</td>\n",
       "    </tr>\n",
       "    <tr>\n",
       "      <th>4</th>\n",
       "      <td>POLYGON ((105.209463 -6.914885, 105.209822 -6....</td>\n",
       "      <td>1.0</td>\n",
       "      <td>POLYGON ((105.209463 -6.914885, 105.209822 -6....</td>\n",
       "      <td>-124.000000</td>\n",
       "    </tr>\n",
       "    <tr>\n",
       "      <th>...</th>\n",
       "      <td>...</td>\n",
       "      <td>...</td>\n",
       "      <td>...</td>\n",
       "      <td>...</td>\n",
       "    </tr>\n",
       "    <tr>\n",
       "      <th>3953998</th>\n",
       "      <td>POLYGON ((107.64332 -6.187819, 107.643679 -6.1...</td>\n",
       "      <td>1.0</td>\n",
       "      <td>POLYGON ((107.64332 -6.187819, 107.643679 -6.1...</td>\n",
       "      <td>-96.000000</td>\n",
       "    </tr>\n",
       "    <tr>\n",
       "      <th>3953999</th>\n",
       "      <td>POLYGON ((107.64332 -6.189976, 107.643679 -6.1...</td>\n",
       "      <td>1.0</td>\n",
       "      <td>POLYGON ((107.64332 -6.189976, 107.643679 -6.1...</td>\n",
       "      <td>-95.000000</td>\n",
       "    </tr>\n",
       "    <tr>\n",
       "      <th>3954000</th>\n",
       "      <td>POLYGON ((107.64332 -6.190335, 107.643679 -6.1...</td>\n",
       "      <td>2.0</td>\n",
       "      <td>POLYGON ((107.64332 -6.190335, 107.643679 -6.1...</td>\n",
       "      <td>-92.500000</td>\n",
       "    </tr>\n",
       "    <tr>\n",
       "      <th>3954001</th>\n",
       "      <td>POLYGON ((107.64332 -6.215134, 107.643679 -6.2...</td>\n",
       "      <td>1.0</td>\n",
       "      <td>POLYGON ((107.64332 -6.215134, 107.643679 -6.2...</td>\n",
       "      <td>-115.000000</td>\n",
       "    </tr>\n",
       "    <tr>\n",
       "      <th>3954002</th>\n",
       "      <td>POLYGON ((107.64332 -6.215493, 107.643679 -6.2...</td>\n",
       "      <td>1.0</td>\n",
       "      <td>POLYGON ((107.64332 -6.215493, 107.643679 -6.2...</td>\n",
       "      <td>-107.000000</td>\n",
       "    </tr>\n",
       "  </tbody>\n",
       "</table>\n",
       "<p>3954003 rows × 4 columns</p>\n",
       "</div>"
      ],
      "text/plain": [
       "                                          geometry_polygon  rsrp-l1800-qty   \n",
       "0        POLYGON ((105.164179 -6.564111, 105.164538 -6....             1.0  \\\n",
       "1        POLYGON ((105.190774 -6.278029, 105.191134 -6....             1.0   \n",
       "2        POLYGON ((105.191493 -7.034925, 105.191852 -7....             1.0   \n",
       "3        POLYGON ((105.207307 -6.591425, 105.207666 -6....            65.0   \n",
       "4        POLYGON ((105.209463 -6.914885, 105.209822 -6....             1.0   \n",
       "...                                                    ...             ...   \n",
       "3953998  POLYGON ((107.64332 -6.187819, 107.643679 -6.1...             1.0   \n",
       "3953999  POLYGON ((107.64332 -6.189976, 107.643679 -6.1...             1.0   \n",
       "3954000  POLYGON ((107.64332 -6.190335, 107.643679 -6.1...             2.0   \n",
       "3954001  POLYGON ((107.64332 -6.215134, 107.643679 -6.2...             1.0   \n",
       "3954002  POLYGON ((107.64332 -6.215493, 107.643679 -6.2...             1.0   \n",
       "\n",
       "                                         geometry_polygon1  rsrp-l1800  \n",
       "0        POLYGON ((105.164179 -6.564111, 105.164538 -6....  -78.000000  \n",
       "1        POLYGON ((105.190774 -6.278029, 105.191134 -6....  -93.000000  \n",
       "2        POLYGON ((105.191493 -7.034925, 105.191852 -7....  -85.000000  \n",
       "3        POLYGON ((105.207307 -6.591425, 105.207666 -6....  -97.369231  \n",
       "4        POLYGON ((105.209463 -6.914885, 105.209822 -6.... -124.000000  \n",
       "...                                                    ...         ...  \n",
       "3953998  POLYGON ((107.64332 -6.187819, 107.643679 -6.1...  -96.000000  \n",
       "3953999  POLYGON ((107.64332 -6.189976, 107.643679 -6.1...  -95.000000  \n",
       "3954000  POLYGON ((107.64332 -6.190335, 107.643679 -6.1...  -92.500000  \n",
       "3954001  POLYGON ((107.64332 -6.215134, 107.643679 -6.2... -115.000000  \n",
       "3954002  POLYGON ((107.64332 -6.215493, 107.643679 -6.2... -107.000000  \n",
       "\n",
       "[3954003 rows x 4 columns]"
      ]
     },
     "execution_count": 6,
     "metadata": {},
     "output_type": "execute_result"
    }
   ],
   "source": [
    "data1"
   ]
  },
  {
   "cell_type": "code",
   "execution_count": 7,
   "metadata": {},
   "outputs": [],
   "source": [
    "data1['compare'] = data1['geometry_polygon'] == data1['geometry_polygon1']\n",
    "data1.reset_index(drop=True, inplace=True)\n",
    "data1.drop(columns=['geometry_polygon1'], inplace=True)\n",
    "data1 = data1[data1['rsrp-l1800-qty'] > 3000] \n",
    "data1 = data1[data1['rsrp-l1800'] < -105]"
   ]
  },
  {
   "cell_type": "code",
   "execution_count": 8,
   "metadata": {},
   "outputs": [],
   "source": [
    "data1   = gpd.GeoDataFrame(data1, geometry=gpd.GeoSeries.from_wkt(data1['geometry_polygon']), crs=4326)\n",
    "existing_sites = gpd.GeoDataFrame(existing_sites, geometry=gpd.points_from_xy(existing_sites['Longitude'], existing_sites['Latitude']), crs=4326)\n",
    "new_sites = gpd.GeoDataFrame(new_sites, geometry=gpd.points_from_xy(new_sites['Long'], new_sites['Lat']), crs=4326)"
   ]
  },
  {
   "cell_type": "code",
   "execution_count": 9,
   "metadata": {},
   "outputs": [
    {
     "name": "stderr",
     "output_type": "stream",
     "text": [
      "/home/nivag/2023-Linux/.python-3.10/lib/python3.10/site-packages/geopandas/array.py:364: UserWarning: Geometry is in a geographic CRS. Results from 'sjoin_nearest' are likely incorrect. Use 'GeoSeries.to_crs()' to re-project geometries to a projected CRS before this operation.\n",
      "\n",
      "  warnings.warn(\n",
      "/home/nivag/2023-Linux/.python-3.10/lib/python3.10/site-packages/geopandas/array.py:364: UserWarning: Geometry is in a geographic CRS. Results from 'sjoin_nearest' are likely incorrect. Use 'GeoSeries.to_crs()' to re-project geometries to a projected CRS before this operation.\n",
      "\n",
      "  warnings.warn(\n"
     ]
    }
   ],
   "source": [
    "data1 = data1.sjoin_nearest(existing_sites, how='left', max_distance = 0.0008985 * 5, distance_col='distance_existing')\n",
    "data1.drop(columns=['index_right'], inplace=True)\n",
    "data1 = data1.sjoin_nearest(new_sites, how='left', max_distance = 0.0008985 * 5, distance_col='distance_new')"
   ]
  },
  {
   "cell_type": "code",
   "execution_count": 10,
   "metadata": {},
   "outputs": [],
   "source": [
    "data1.reset_index(inplace=True)"
   ]
  },
  {
   "cell_type": "code",
   "execution_count": 11,
   "metadata": {},
   "outputs": [],
   "source": [
    "data1.drop(columns=['index'], inplace=True)"
   ]
  },
  {
   "cell_type": "code",
   "execution_count": 12,
   "metadata": {},
   "outputs": [],
   "source": [
    "data1.rename(columns={'rsrp-l1800':'rsrp-l1800-avg'}, inplace=True)"
   ]
  },
  {
   "cell_type": "code",
   "execution_count": 13,
   "metadata": {},
   "outputs": [],
   "source": [
    "data1.drop(columns=['index_right', 'geometry_polygon'], inplace=True)"
   ]
  },
  {
   "cell_type": "code",
   "execution_count": 14,
   "metadata": {},
   "outputs": [],
   "source": [
    "data1 = gpd.sjoin(left_df= data1, right_df=kecamatan, how='left', predicate='within')"
   ]
  },
  {
   "cell_type": "code",
   "execution_count": 15,
   "metadata": {},
   "outputs": [],
   "source": [
    "data1.to_csv('result/result-bad-grid-l1800.csv', index=False)"
   ]
  }
 ],
 "metadata": {
  "kernelspec": {
   "display_name": ".python-3.10",
   "language": "python",
   "name": "python3"
  },
  "language_info": {
   "codemirror_mode": {
    "name": "ipython",
    "version": 3
   },
   "file_extension": ".py",
   "mimetype": "text/x-python",
   "name": "python",
   "nbconvert_exporter": "python",
   "pygments_lexer": "ipython3",
   "version": "3.10.11"
  },
  "orig_nbformat": 4
 },
 "nbformat": 4,
 "nbformat_minor": 2
}
