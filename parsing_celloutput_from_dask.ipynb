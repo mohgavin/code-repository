{
 "cells": [
  {
   "cell_type": "code",
   "execution_count": null,
   "metadata": {},
   "outputs": [],
   "source": [
    "import pandas as pd\n",
    "import geopandas as gpd"
   ]
  },
  {
   "cell_type": "code",
   "execution_count": null,
   "metadata": {},
   "outputs": [],
   "source": [
    "files = pd.read_csv('result/rsrp-lrt.csv/0.part')\n",
    "cell_info = pd.read_excel('sites/LTE Cell Config XL-EID 10 May 2023.xlsb', header=2, sheet_name='Cell')\n",
    "polygon = pd.read_csv('csv_polygon/LRT_Polygon.csv')\n",
    "polygon_gpd   = gpd.GeoDataFrame(polygon, geometry=gpd.GeoSeries.from_wkt(polygon['WKT']), crs=4326)"
   ]
  },
  {
   "cell_type": "code",
   "execution_count": null,
   "metadata": {},
   "outputs": [],
   "source": [
    "\n",
    "split = files['combined'].str.split(pat='@', expand=True)\n",
    "split.rename(columns={0:\"Site ID\", 1:\"Polygon_Name\", 2:\"eNodeB ID\", 3:\"CI\", 4:\"Hour\", 5:\"Shape\"}, inplace=True)\n",
    "files = pd.concat([files, split], axis=1)\n",
    "files.drop(labels= 'combined', axis=1, inplace=True)\n",
    "files['Hour'] = files['Hour'].astype(float) + 7 "
   ]
  },
  {
   "cell_type": "code",
   "execution_count": null,
   "metadata": {},
   "outputs": [],
   "source": [
    "files['concatenate'] = files['eNodeB ID'].astype(str).str.replace(pat='.0', repl='') + \"|\" + files['CI'].astype(str).str.replace(pat='.0', repl='')\n",
    "\n",
    "files = files.merge(cell_info[['Longitude', 'Latitude']], how='inner', left_on=files['concatenate'], right_on=cell_info['Combine'])"
   ]
  },
  {
   "cell_type": "code",
   "execution_count": null,
   "metadata": {},
   "outputs": [],
   "source": [
    "files_gpd   = gpd.GeoDataFrame(files, geometry=gpd.points_from_xy(files['Longitude'], files['Latitude']), crs=4326)\n",
    "\n",
    "files_gpd = files_gpd.sjoin_nearest(polygon_gpd, how='inner', max_distance = 0.0008985 * 3)\n",
    "\n",
    "files_gpd.drop(columns=['WKT', 'id', 'index_right', 'geometry', 'concatenate', 'key_0'], inplace=True)"
   ]
  },
  {
   "cell_type": "code",
   "execution_count": null,
   "metadata": {},
   "outputs": [],
   "source": [
    "files_gpd.to_excel('result/parsing_result_from_dask.xlsx', index=False)"
   ]
  }
 ],
 "metadata": {
  "kernelspec": {
   "display_name": ".python-3.10",
   "language": "python",
   "name": "python3"
  },
  "language_info": {
   "codemirror_mode": {
    "name": "ipython",
    "version": 3
   },
   "file_extension": ".py",
   "mimetype": "text/x-python",
   "name": "python",
   "nbconvert_exporter": "python",
   "pygments_lexer": "ipython3",
   "version": "3.10.11"
  },
  "orig_nbformat": 4
 },
 "nbformat": 4,
 "nbformat_minor": 2
}
