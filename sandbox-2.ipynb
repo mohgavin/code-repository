{
 "cells": [
  {
   "cell_type": "code",
   "execution_count": 1,
   "metadata": {},
   "outputs": [],
   "source": [
    "import pandas as pd\n",
    "import geopandas as gpd\n",
    "from shapely.geometry import Point"
   ]
  },
  {
   "cell_type": "code",
   "execution_count": 2,
   "metadata": {},
   "outputs": [],
   "source": [
    "mdt = pd.read_csv('sample-folder/12-8007/mdt_result.zip')\n",
    "points = gpd.GeoDataFrame({'geometry': [Point(-6.107090856427548, 106.72577291534478), Point(-6.127562650039468, 106.96129581084392), Point(-6.2338873074605905, 106.92259988465523)]}, crs=4326)"
   ]
  },
  {
   "cell_type": "code",
   "execution_count": 3,
   "metadata": {},
   "outputs": [],
   "source": [
    "mdt = mdt[(mdt['ci'] > 0) & (mdt['ci'] < 4 )]"
   ]
  },
  {
   "cell_type": "code",
   "execution_count": 4,
   "metadata": {},
   "outputs": [],
   "source": [
    "mdt_gpd = gpd.GeoDataFrame(mdt, geometry=gpd.points_from_xy(mdt['longitude'], mdt['latitude']), crs=4326)"
   ]
  },
  {
   "cell_type": "code",
   "execution_count": 5,
   "metadata": {},
   "outputs": [
    {
     "name": "stderr",
     "output_type": "stream",
     "text": [
      "/home/nivag/2023-Linux/.python-3.10/lib/python3.10/site-packages/geopandas/array.py:364: UserWarning: Geometry is in a geographic CRS. Results from 'sjoin_nearest' are likely incorrect. Use 'GeoSeries.to_crs()' to re-project geometries to a projected CRS before this operation.\n",
      "\n",
      "  warnings.warn(\n"
     ]
    },
    {
     "data": {
      "text/html": [
       "<div>\n",
       "<style scoped>\n",
       "    .dataframe tbody tr th:only-of-type {\n",
       "        vertical-align: middle;\n",
       "    }\n",
       "\n",
       "    .dataframe tbody tr th {\n",
       "        vertical-align: top;\n",
       "    }\n",
       "\n",
       "    .dataframe thead th {\n",
       "        text-align: right;\n",
       "    }\n",
       "</style>\n",
       "<table border=\"1\" class=\"dataframe\">\n",
       "  <thead>\n",
       "    <tr style=\"text-align: right;\">\n",
       "      <th></th>\n",
       "      <th>date</th>\n",
       "      <th>hour</th>\n",
       "      <th>site</th>\n",
       "      <th>enodebid</th>\n",
       "      <th>ci</th>\n",
       "      <th>mmes1apid</th>\n",
       "      <th>longitude</th>\n",
       "      <th>latitude</th>\n",
       "      <th>altitude</th>\n",
       "      <th>rsrp_serving</th>\n",
       "      <th>...</th>\n",
       "      <th>support_L900_FDD</th>\n",
       "      <th>support_L1800_FDD</th>\n",
       "      <th>support_L2600_TDD</th>\n",
       "      <th>CA_capable</th>\n",
       "      <th>CA_3CC_capable</th>\n",
       "      <th>MIMO4x4</th>\n",
       "      <th>ENDC</th>\n",
       "      <th>NR_SA</th>\n",
       "      <th>geometry</th>\n",
       "      <th>index_right</th>\n",
       "    </tr>\n",
       "  </thead>\n",
       "  <tbody>\n",
       "  </tbody>\n",
       "</table>\n",
       "<p>0 rows × 34 columns</p>\n",
       "</div>"
      ],
      "text/plain": [
       "Empty GeoDataFrame\n",
       "Columns: [date, hour, site, enodebid, ci, mmes1apid, longitude, latitude, altitude, rsrp_serving, rsrq_serving, earfcn_neigh, pci_1, rsrp_1, rsrq_1, pci_2, rsrp_2, rsrq_2, pci_3, rsrp_3, rsrq_3, pci_4, rsrp_4, rsrq_4, support_L900_FDD, support_L1800_FDD, support_L2600_TDD, CA_capable, CA_3CC_capable, MIMO4x4, ENDC, NR_SA, geometry, index_right]\n",
       "Index: []\n",
       "\n",
       "[0 rows x 34 columns]"
      ]
     },
     "execution_count": 5,
     "metadata": {},
     "output_type": "execute_result"
    }
   ],
   "source": [
    "gpd.sjoin_nearest(left_df = mdt_gpd, right_df = points, how='inner', max_distance = 0.0008985 * 100)"
   ]
  }
 ],
 "metadata": {
  "kernelspec": {
   "display_name": ".python-3.10",
   "language": "python",
   "name": "python3"
  },
  "language_info": {
   "codemirror_mode": {
    "name": "ipython",
    "version": 3
   },
   "file_extension": ".py",
   "mimetype": "text/x-python",
   "name": "python",
   "nbconvert_exporter": "python",
   "pygments_lexer": "ipython3",
   "version": "3.10.11"
  },
  "orig_nbformat": 4
 },
 "nbformat": 4,
 "nbformat_minor": 2
}
