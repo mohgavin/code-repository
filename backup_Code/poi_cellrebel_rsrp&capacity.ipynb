{
 "cells": [
  {
   "attachments": {},
   "cell_type": "markdown",
   "metadata": {},
   "source": [
    "Plotting and aggregate cellrebel data inside and intersect in Polygon"
   ]
  },
  {
   "cell_type": "code",
   "execution_count": null,
   "metadata": {},
   "outputs": [],
   "source": [
    "import geopandas as gpd\n",
    "import pandas as pd\n",
    "import numpy as np"
   ]
  },
  {
   "cell_type": "code",
   "execution_count": null,
   "metadata": {},
   "outputs": [],
   "source": [
    "# cellrebel = pd.read_feather('Source Data/consolidate_file.feather')\n",
    "cellrebel = pd.read_csv('Source Data/cellrebel_20230227-20230310.csv', low_memory=False, parse_dates=[1])\n",
    "grid = gpd.read_file('Grid Folder/Busy Intersection - Jorr - Jakarta Selatan Area.tab')\n",
    "# grid = pd.read_csv('Grid Folder/Bad RSRP Performance_grid200_20 Spot.csv')"
   ]
  },
  {
   "cell_type": "code",
   "execution_count": null,
   "metadata": {},
   "outputs": [],
   "source": [
    "cellrebel['kabupaten'].value_counts()"
   ]
  },
  {
   "cell_type": "code",
   "execution_count": null,
   "metadata": {},
   "outputs": [],
   "source": [
    "cellrebel['mobile_operator'].replace('PT Telekomunikasi Indonesia', 'Telkomsel', inplace=True)\n",
    "cellrebel['mobile_operator'].replace('3', 'Indosat Ooredoo', inplace=True)"
   ]
  },
  {
   "cell_type": "code",
   "execution_count": null,
   "metadata": {},
   "outputs": [],
   "source": [
    "cellrebel = cellrebel[cellrebel['mobile_operator'].str.contains('XL Axiata|Indosat Ooredoo|Telkomsel|Smartfren')== True ]\n",
    "cellrebel = cellrebel[cellrebel['created_date'].astype(str).str.contains('2023-02-25|2023-02-26|2023-03-04|2023-03-05|2023-03-11|2023-03-12')==False]"
   ]
  },
  {
   "cell_type": "code",
   "execution_count": null,
   "metadata": {},
   "outputs": [],
   "source": [
    "cellrebel['created_date'] = pd.to_datetime(cellrebel['created_date'])"
   ]
  },
  {
   "cell_type": "code",
   "execution_count": null,
   "metadata": {},
   "outputs": [],
   "source": [
    "hour_filter = (cellrebel['created_date'].dt.hour == 7) | (cellrebel['created_date'].dt.hour == 8) | (cellrebel['created_date'].dt.hour == 9)| (cellrebel['created_date'].dt.hour == 18)\n",
    "\n",
    "cellrebel = cellrebel[hour_filter]"
   ]
  },
  {
   "cell_type": "code",
   "execution_count": null,
   "metadata": {},
   "outputs": [],
   "source": [
    "cellrebel_cov = cellrebel[cellrebel['reference_signal_received_power'] < 0]\n",
    "cellrebel_cap = cellrebel[cellrebel['dl_throughput'].astype(int) > 0]"
   ]
  },
  {
   "cell_type": "code",
   "execution_count": null,
   "metadata": {},
   "outputs": [],
   "source": [
    "cellrebel_cov['reference_signal_received_power'].sort_values()"
   ]
  },
  {
   "cell_type": "code",
   "execution_count": null,
   "metadata": {},
   "outputs": [],
   "source": [
    "cellrebel_gpd_cov = gpd.GeoDataFrame(cellrebel_cov, geometry=gpd.points_from_xy(cellrebel_cov.longitude, cellrebel_cov.latitude), crs=4326)\n",
    "cellrebel_gpd_cap = gpd.GeoDataFrame(cellrebel_cap, geometry=gpd.points_from_xy(cellrebel_cap.longitude, cellrebel_cap.latitude), crs=4326)\n",
    "grid = grid.to_crs(4326)\n",
    "grid['geometry1'] = grid['geometry']"
   ]
  },
  {
   "cell_type": "code",
   "execution_count": null,
   "metadata": {},
   "outputs": [],
   "source": [
    "points_within_cov = gpd.sjoin(left_df= cellrebel_gpd_cov,right_df=grid, how='left', predicate='within')\n",
    "points_within_cap = gpd.sjoin(left_df= cellrebel_gpd_cap,right_df=grid, how='left', predicate='within')"
   ]
  },
  {
   "cell_type": "code",
   "execution_count": null,
   "metadata": {},
   "outputs": [],
   "source": [
    "points_within_cap"
   ]
  },
  {
   "cell_type": "code",
   "execution_count": null,
   "metadata": {},
   "outputs": [],
   "source": [
    "pivot_cov = pd.pivot_table(points_within_cov, index= ['poly_name', 'index_right'], columns=['mobile_operator'], values=['reference_signal_received_power'], aggfunc = np.mean)\n",
    "pivot_cap = pd.pivot_table(points_within_cap, index= ['poly_name', 'index_right'], columns=['mobile_operator'], values=['dl_throughput'], aggfunc = lambda x: x.quantile(0.1))"
   ]
  },
  {
   "cell_type": "code",
   "execution_count": null,
   "metadata": {},
   "outputs": [],
   "source": [
    "pivot_cov.fillna(-150, inplace=True)\n",
    "pivot_cap.fillna(0, inplace=True)"
   ]
  },
  {
   "cell_type": "code",
   "execution_count": null,
   "metadata": {},
   "outputs": [],
   "source": [
    "pivot_cov.reset_index(inplace=True, col_level=1, allow_duplicates=False)\n",
    "pivot_cap.reset_index(inplace=True, col_level=1, allow_duplicates=False)"
   ]
  },
  {
   "cell_type": "code",
   "execution_count": null,
   "metadata": {},
   "outputs": [],
   "source": [
    "pivot_cov = pivot_cov.droplevel(level=0, axis=1)\n",
    "pivot_cap = pivot_cap.droplevel(level=0, axis=1)"
   ]
  },
  {
   "cell_type": "code",
   "execution_count": null,
   "metadata": {},
   "outputs": [],
   "source": [
    "pivot_cov = pivot_cov.merge(points_within_cov[['index_right', 'geometry1']], how='left', on='index_right')\n",
    "pivot_cap = pivot_cap.merge(points_within_cap[['index_right', 'geometry1']], how='left', on='index_right')"
   ]
  },
  {
   "cell_type": "code",
   "execution_count": null,
   "metadata": {},
   "outputs": [],
   "source": [
    "pivot_cov.drop_duplicates(ignore_index=True, inplace=True)\n",
    "pivot_cap.drop_duplicates(ignore_index=True, inplace=True)"
   ]
  },
  {
   "cell_type": "code",
   "execution_count": null,
   "metadata": {},
   "outputs": [],
   "source": [
    "pivot_cov.to_csv('result/p10_poi_coverage_result.csv')\n",
    "pivot_cap.to_csv('result/p10_poi_capacity_result.csv')\n",
    "cellrebel.to_csv('processed_data.csv')"
   ]
  }
 ],
 "metadata": {
  "kernelspec": {
   "display_name": ".env",
   "language": "python",
   "name": "python3"
  },
  "language_info": {
   "codemirror_mode": {
    "name": "ipython",
    "version": 3
   },
   "file_extension": ".py",
   "mimetype": "text/x-python",
   "name": "python",
   "nbconvert_exporter": "python",
   "pygments_lexer": "ipython3",
   "version": "3.10.11"
  },
  "orig_nbformat": 4
 },
 "nbformat": 4,
 "nbformat_minor": 2
}
