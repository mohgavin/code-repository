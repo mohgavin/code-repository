{
 "cells": [
  {
   "cell_type": "code",
   "execution_count": 2,
   "metadata": {},
   "outputs": [],
   "source": [
    "import os\n",
    "import shutil\n",
    "import zipfile\n",
    "\n",
    "source_folder = '/home/nivag/2023-Linux/8007'\n",
    "target_folder = '/home/nivag/2023-Linux/Compile-ZIP'\n",
    "\n",
    "# Create the target folder if it doesn't exist\n",
    "os.makedirs(target_folder, exist_ok=True)\n",
    "\n",
    "# Traverse the source folder and its subfolders\n",
    "for root, dirs, files in os.walk(source_folder):\n",
    "    for file_name in files:\n",
    "        # Get the full path of the source file\n",
    "        source_path = os.path.join(root, file_name)\n",
    "        \n",
    "        # Get the relative path of the source file\n",
    "        relative_path = os.path.relpath(source_path, source_folder)\n",
    "\n",
    "        # Generate the new filename by combining the original filename and relative path\n",
    "        new_file_name = file_name + '_' + relative_path.replace('/', '_')\n",
    "\n",
    "        new_file_name = new_file_name.replace('mdt_result.zip_var_opt_common5_mdt_', '8007_')\n",
    "        \n",
    "        # Create the target file path by joining the target folder and new filename\n",
    "        target_path = os.path.join(target_folder, new_file_name)\n",
    "        \n",
    "        # Copy the file to the target folder with the new filename\n",
    "        shutil.copy(source_path, target_path)"
   ]
  }
 ],
 "metadata": {
  "kernelspec": {
   "display_name": ".python-3.10-1",
   "language": "python",
   "name": "python3"
  },
  "language_info": {
   "codemirror_mode": {
    "name": "ipython",
    "version": 3
   },
   "file_extension": ".py",
   "mimetype": "text/x-python",
   "name": "python",
   "nbconvert_exporter": "python",
   "pygments_lexer": "ipython3",
   "version": "3.10.11"
  },
  "orig_nbformat": 4
 },
 "nbformat": 4,
 "nbformat_minor": 2
}
