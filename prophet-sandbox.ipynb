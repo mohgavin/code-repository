{
 "cells": [
  {
   "cell_type": "code",
   "execution_count": 1,
   "metadata": {},
   "outputs": [
    {
     "name": "stderr",
     "output_type": "stream",
     "text": [
      "/home/nivag/2023-Linux/.python-3.10/lib/python3.10/site-packages/tqdm/auto.py:21: TqdmWarning: IProgress not found. Please update jupyter and ipywidgets. See https://ipywidgets.readthedocs.io/en/stable/user_install.html\n",
      "  from .autonotebook import tqdm as notebook_tqdm\n"
     ]
    }
   ],
   "source": [
    "# Python\n",
    "import pandas as pd\n",
    "from prophet import Prophet\n",
    "from datetime import datetime\n",
    "import holidays\n",
    "from prophet.diagnostics import cross_validation\n",
    "from prophet.diagnostics import performance_metrics"
   ]
  },
  {
   "cell_type": "code",
   "execution_count": 2,
   "metadata": {},
   "outputs": [],
   "source": [
    "average_eut = pd.read_csv('sample-folder/IOH - Average of EUT.csv')"
   ]
  },
  {
   "cell_type": "code",
   "execution_count": 3,
   "metadata": {},
   "outputs": [],
   "source": [
    "list1 = average_eut.columns[0:]\n",
    "result = pd.DataFrame()\n"
   ]
  },
  {
   "cell_type": "code",
   "execution_count": 4,
   "metadata": {},
   "outputs": [],
   "source": [
    "for x in range(2, len(average_eut.columns), 1):\n",
    "\n",
    "    sitelist = average_eut[['Sector', 'Category']]\n",
    "    duration_week = pd.DataFrame(data={'date': [list1[x]] * len(average_eut.index)})\n",
    "    content = pd.DataFrame(average_eut.iloc[:,x]).reset_index(drop=True)\n",
    "    content.rename({content.columns[0]:'EUT'}, axis=1, inplace=True)\n",
    "\n",
    "    concat = pd.concat([sitelist, duration_week, content], axis=1)\n",
    "    result = pd.concat([result, concat], axis=0)"
   ]
  },
  {
   "cell_type": "code",
   "execution_count": 5,
   "metadata": {},
   "outputs": [],
   "source": [
    "result.reset_index(inplace=True, drop=True)\n",
    "result['Year'] = result['date'].str.split('-WEEK').str[0]\n",
    "result['WeekNumber'] = result['date'].str.split('-WEEK').str[1].astype(int)\n",
    "\n",
    "result['StartOfWeek'] = pd.to_datetime(result['Year'], format='%Y') + pd.to_timedelta((result['WeekNumber'] - 1) * 7 + 1, unit='D')\n",
    "result.drop(columns=['Year', 'WeekNumber'], inplace=True)\n",
    "\n",
    "result.rename(columns={'EUT': 'y', 'StartOfWeek':'ds'}, inplace=True)"
   ]
  },
  {
   "cell_type": "code",
   "execution_count": 6,
   "metadata": {},
   "outputs": [],
   "source": [
    "test = result[result['Sector'] == '11CLG0002_1'][['ds', 'y']]"
   ]
  },
  {
   "cell_type": "code",
   "execution_count": 7,
   "metadata": {},
   "outputs": [
    {
     "name": "stderr",
     "output_type": "stream",
     "text": [
      "15:51:24 - cmdstanpy - INFO - Chain [1] start processing\n",
      "15:51:24 - cmdstanpy - INFO - Chain [1] done processing\n"
     ]
    },
    {
     "data": {
      "text/plain": [
       "<prophet.forecaster.Prophet at 0x7fa47dce3850>"
      ]
     },
     "execution_count": 7,
     "metadata": {},
     "output_type": "execute_result"
    }
   ],
   "source": [
    "model = Prophet()\n",
    "model.fit(test)\n"
   ]
  },
  {
   "cell_type": "code",
   "execution_count": 8,
   "metadata": {},
   "outputs": [],
   "source": [
    "future = model.make_future_dataframe(periods=7)\n",
    "\n",
    "forecast = model.predict(future)\n",
    "forecast = forecast[forecast['ds'] == '2023-06-12'][['ds', 'yhat']]\n",
    "\n",
    "forecast.insert(2, 'Sector', 'siteA')"
   ]
  },
  {
   "cell_type": "code",
   "execution_count": 9,
   "metadata": {},
   "outputs": [
    {
     "data": {
      "text/html": [
       "<div>\n",
       "<style scoped>\n",
       "    .dataframe tbody tr th:only-of-type {\n",
       "        vertical-align: middle;\n",
       "    }\n",
       "\n",
       "    .dataframe tbody tr th {\n",
       "        vertical-align: top;\n",
       "    }\n",
       "\n",
       "    .dataframe thead th {\n",
       "        text-align: right;\n",
       "    }\n",
       "</style>\n",
       "<table border=\"1\" class=\"dataframe\">\n",
       "  <thead>\n",
       "    <tr style=\"text-align: right;\">\n",
       "      <th></th>\n",
       "      <th>ds</th>\n",
       "      <th>yhat</th>\n",
       "      <th>Sector</th>\n",
       "    </tr>\n",
       "  </thead>\n",
       "  <tbody>\n",
       "    <tr>\n",
       "      <th>22</th>\n",
       "      <td>2023-06-12</td>\n",
       "      <td>6.221629</td>\n",
       "      <td>siteA</td>\n",
       "    </tr>\n",
       "  </tbody>\n",
       "</table>\n",
       "</div>"
      ],
      "text/plain": [
       "           ds      yhat Sector\n",
       "22 2023-06-12  6.221629  siteA"
      ]
     },
     "execution_count": 9,
     "metadata": {},
     "output_type": "execute_result"
    }
   ],
   "source": [
    "forecast"
   ]
  },
  {
   "cell_type": "code",
   "execution_count": null,
   "metadata": {},
   "outputs": [],
   "source": [
    "# concatenate = pd.DataFrame()\n",
    "\n",
    "# for x in result['Sector'].unique().tolist():\n",
    "    \n",
    "#     test = result[result['Sector'] == x][['ds', 'y']]\n",
    "    \n",
    "#     model = Prophet()\n",
    "#     model.fit(test)\n",
    "\n",
    "#     future = model.make_future_dataframe(periods=7)\n",
    "    \n",
    "#     forecast = model.predict(future)\n",
    "#     forecast = forecast[forecast['ds'] == '2023-06-12'][['ds', 'yhat']]\n",
    "\n",
    "#     forecast.insert(2, 'Sector', x)\n",
    "#     print(x)\n",
    "#     concatenate = pd.concat([concatenate, forecast], axis=0)"
   ]
  },
  {
   "cell_type": "code",
   "execution_count": null,
   "metadata": {},
   "outputs": [],
   "source": [
    "concatenate.to_excel('result/prophet-result.xlsx')"
   ]
  }
 ],
 "metadata": {
  "kernelspec": {
   "display_name": ".python-3.10",
   "language": "python",
   "name": "python3"
  },
  "language_info": {
   "codemirror_mode": {
    "name": "ipython",
    "version": 3
   },
   "file_extension": ".py",
   "mimetype": "text/x-python",
   "name": "python",
   "nbconvert_exporter": "python",
   "pygments_lexer": "ipython3",
   "version": "3.10.11"
  },
  "orig_nbformat": 4
 },
 "nbformat": 4,
 "nbformat_minor": 2
}
