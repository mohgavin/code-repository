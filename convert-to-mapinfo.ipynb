{
 "cells": [
  {
   "cell_type": "code",
   "execution_count": 1,
   "metadata": {},
   "outputs": [],
   "source": [
    "import geopandas as gpd\n",
    "import pandas as pd\n",
    "from shapely import wkt"
   ]
  },
  {
   "cell_type": "code",
   "execution_count": 2,
   "metadata": {},
   "outputs": [],
   "source": [
    "files = pd.read_csv('result/rsrp-combine-alljabo-40x40.csv')"
   ]
  },
  {
   "cell_type": "code",
   "execution_count": 3,
   "metadata": {},
   "outputs": [],
   "source": [
    "files['geometry_polygon'] = files['geometry_polygon'].apply(wkt.loads)"
   ]
  },
  {
   "cell_type": "code",
   "execution_count": 4,
   "metadata": {},
   "outputs": [
    {
     "data": {
      "text/html": [
       "<div>\n",
       "<style scoped>\n",
       "    .dataframe tbody tr th:only-of-type {\n",
       "        vertical-align: middle;\n",
       "    }\n",
       "\n",
       "    .dataframe tbody tr th {\n",
       "        vertical-align: top;\n",
       "    }\n",
       "\n",
       "    .dataframe thead th {\n",
       "        text-align: right;\n",
       "    }\n",
       "</style>\n",
       "<table border=\"1\" class=\"dataframe\">\n",
       "  <thead>\n",
       "    <tr style=\"text-align: right;\">\n",
       "      <th></th>\n",
       "      <th>geometry_polygon</th>\n",
       "      <th>rsrp</th>\n",
       "    </tr>\n",
       "  </thead>\n",
       "  <tbody>\n",
       "    <tr>\n",
       "      <th>0</th>\n",
       "      <td>POLYGON ((105.123207 -6.065623, 105.123566 -6....</td>\n",
       "      <td>-115.000000</td>\n",
       "    </tr>\n",
       "    <tr>\n",
       "      <th>1</th>\n",
       "      <td>POLYGON ((105.123566 -6.066342, 105.123926 -6....</td>\n",
       "      <td>-114.000000</td>\n",
       "    </tr>\n",
       "    <tr>\n",
       "      <th>2</th>\n",
       "      <td>POLYGON ((105.123566 -6.066701, 105.123926 -6....</td>\n",
       "      <td>-114.000000</td>\n",
       "    </tr>\n",
       "    <tr>\n",
       "      <th>3</th>\n",
       "      <td>POLYGON ((105.123566 -6.067061, 105.123926 -6....</td>\n",
       "      <td>-103.000000</td>\n",
       "    </tr>\n",
       "    <tr>\n",
       "      <th>4</th>\n",
       "      <td>POLYGON ((105.176039 -6.203633, 105.176398 -6....</td>\n",
       "      <td>-100.171053</td>\n",
       "    </tr>\n",
       "    <tr>\n",
       "      <th>...</th>\n",
       "      <td>...</td>\n",
       "      <td>...</td>\n",
       "    </tr>\n",
       "    <tr>\n",
       "      <th>3551602</th>\n",
       "      <td>POLYGON ((107.64296 -6.164818, 107.64332 -6.16...</td>\n",
       "      <td>-86.500000</td>\n",
       "    </tr>\n",
       "    <tr>\n",
       "      <th>3551603</th>\n",
       "      <td>POLYGON ((107.64296 -6.165177, 107.64332 -6.16...</td>\n",
       "      <td>-87.000000</td>\n",
       "    </tr>\n",
       "    <tr>\n",
       "      <th>3551604</th>\n",
       "      <td>POLYGON ((107.64296 -6.188538, 107.64332 -6.18...</td>\n",
       "      <td>-102.000000</td>\n",
       "    </tr>\n",
       "    <tr>\n",
       "      <th>3551605</th>\n",
       "      <td>POLYGON ((107.64332 -6.165896, 107.643679 -6.1...</td>\n",
       "      <td>-91.500000</td>\n",
       "    </tr>\n",
       "    <tr>\n",
       "      <th>3551606</th>\n",
       "      <td>POLYGON ((107.64332 -6.166615, 107.643679 -6.1...</td>\n",
       "      <td>-90.000000</td>\n",
       "    </tr>\n",
       "  </tbody>\n",
       "</table>\n",
       "<p>3551607 rows × 2 columns</p>\n",
       "</div>"
      ],
      "text/plain": [
       "                                          geometry_polygon        rsrp\n",
       "0        POLYGON ((105.123207 -6.065623, 105.123566 -6.... -115.000000\n",
       "1        POLYGON ((105.123566 -6.066342, 105.123926 -6.... -114.000000\n",
       "2        POLYGON ((105.123566 -6.066701, 105.123926 -6.... -114.000000\n",
       "3        POLYGON ((105.123566 -6.067061, 105.123926 -6.... -103.000000\n",
       "4        POLYGON ((105.176039 -6.203633, 105.176398 -6.... -100.171053\n",
       "...                                                    ...         ...\n",
       "3551602  POLYGON ((107.64296 -6.164818, 107.64332 -6.16...  -86.500000\n",
       "3551603  POLYGON ((107.64296 -6.165177, 107.64332 -6.16...  -87.000000\n",
       "3551604  POLYGON ((107.64296 -6.188538, 107.64332 -6.18... -102.000000\n",
       "3551605  POLYGON ((107.64332 -6.165896, 107.643679 -6.1...  -91.500000\n",
       "3551606  POLYGON ((107.64332 -6.166615, 107.643679 -6.1...  -90.000000\n",
       "\n",
       "[3551607 rows x 2 columns]"
      ]
     },
     "execution_count": 4,
     "metadata": {},
     "output_type": "execute_result"
    }
   ],
   "source": [
    "files"
   ]
  },
  {
   "cell_type": "code",
   "execution_count": 5,
   "metadata": {},
   "outputs": [],
   "source": [
    "files = gpd.GeoDataFrame(files, geometry='geometry_polygon')"
   ]
  },
  {
   "cell_type": "code",
   "execution_count": 6,
   "metadata": {},
   "outputs": [
    {
     "data": {
      "text/html": [
       "<div>\n",
       "<style scoped>\n",
       "    .dataframe tbody tr th:only-of-type {\n",
       "        vertical-align: middle;\n",
       "    }\n",
       "\n",
       "    .dataframe tbody tr th {\n",
       "        vertical-align: top;\n",
       "    }\n",
       "\n",
       "    .dataframe thead th {\n",
       "        text-align: right;\n",
       "    }\n",
       "</style>\n",
       "<table border=\"1\" class=\"dataframe\">\n",
       "  <thead>\n",
       "    <tr style=\"text-align: right;\">\n",
       "      <th></th>\n",
       "      <th>geometry_polygon</th>\n",
       "      <th>rsrp</th>\n",
       "    </tr>\n",
       "  </thead>\n",
       "  <tbody>\n",
       "    <tr>\n",
       "      <th>0</th>\n",
       "      <td>POLYGON ((105.12321 -6.06562, 105.12357 -6.065...</td>\n",
       "      <td>-115.000000</td>\n",
       "    </tr>\n",
       "    <tr>\n",
       "      <th>1</th>\n",
       "      <td>POLYGON ((105.12357 -6.06634, 105.12393 -6.066...</td>\n",
       "      <td>-114.000000</td>\n",
       "    </tr>\n",
       "    <tr>\n",
       "      <th>2</th>\n",
       "      <td>POLYGON ((105.12357 -6.06670, 105.12393 -6.066...</td>\n",
       "      <td>-114.000000</td>\n",
       "    </tr>\n",
       "    <tr>\n",
       "      <th>3</th>\n",
       "      <td>POLYGON ((105.12357 -6.06706, 105.12393 -6.067...</td>\n",
       "      <td>-103.000000</td>\n",
       "    </tr>\n",
       "    <tr>\n",
       "      <th>4</th>\n",
       "      <td>POLYGON ((105.17604 -6.20363, 105.17640 -6.203...</td>\n",
       "      <td>-100.171053</td>\n",
       "    </tr>\n",
       "    <tr>\n",
       "      <th>...</th>\n",
       "      <td>...</td>\n",
       "      <td>...</td>\n",
       "    </tr>\n",
       "    <tr>\n",
       "      <th>3551602</th>\n",
       "      <td>POLYGON ((107.64296 -6.16482, 107.64332 -6.164...</td>\n",
       "      <td>-86.500000</td>\n",
       "    </tr>\n",
       "    <tr>\n",
       "      <th>3551603</th>\n",
       "      <td>POLYGON ((107.64296 -6.16518, 107.64332 -6.165...</td>\n",
       "      <td>-87.000000</td>\n",
       "    </tr>\n",
       "    <tr>\n",
       "      <th>3551604</th>\n",
       "      <td>POLYGON ((107.64296 -6.18854, 107.64332 -6.188...</td>\n",
       "      <td>-102.000000</td>\n",
       "    </tr>\n",
       "    <tr>\n",
       "      <th>3551605</th>\n",
       "      <td>POLYGON ((107.64332 -6.16590, 107.64368 -6.165...</td>\n",
       "      <td>-91.500000</td>\n",
       "    </tr>\n",
       "    <tr>\n",
       "      <th>3551606</th>\n",
       "      <td>POLYGON ((107.64332 -6.16662, 107.64368 -6.166...</td>\n",
       "      <td>-90.000000</td>\n",
       "    </tr>\n",
       "  </tbody>\n",
       "</table>\n",
       "<p>3551607 rows × 2 columns</p>\n",
       "</div>"
      ],
      "text/plain": [
       "                                          geometry_polygon        rsrp\n",
       "0        POLYGON ((105.12321 -6.06562, 105.12357 -6.065... -115.000000\n",
       "1        POLYGON ((105.12357 -6.06634, 105.12393 -6.066... -114.000000\n",
       "2        POLYGON ((105.12357 -6.06670, 105.12393 -6.066... -114.000000\n",
       "3        POLYGON ((105.12357 -6.06706, 105.12393 -6.067... -103.000000\n",
       "4        POLYGON ((105.17604 -6.20363, 105.17640 -6.203... -100.171053\n",
       "...                                                    ...         ...\n",
       "3551602  POLYGON ((107.64296 -6.16482, 107.64332 -6.164...  -86.500000\n",
       "3551603  POLYGON ((107.64296 -6.16518, 107.64332 -6.165...  -87.000000\n",
       "3551604  POLYGON ((107.64296 -6.18854, 107.64332 -6.188... -102.000000\n",
       "3551605  POLYGON ((107.64332 -6.16590, 107.64368 -6.165...  -91.500000\n",
       "3551606  POLYGON ((107.64332 -6.16662, 107.64368 -6.166...  -90.000000\n",
       "\n",
       "[3551607 rows x 2 columns]"
      ]
     },
     "execution_count": 6,
     "metadata": {},
     "output_type": "execute_result"
    }
   ],
   "source": [
    "files"
   ]
  },
  {
   "cell_type": "code",
   "execution_count": null,
   "metadata": {},
   "outputs": [],
   "source": [
    "files.to_file('result/rsrp-combine-alljabo-40x40.tab', driver='MapInfo File')"
   ]
  }
 ],
 "metadata": {
  "kernelspec": {
   "display_name": ".python-3.10",
   "language": "python",
   "name": "python3"
  },
  "language_info": {
   "codemirror_mode": {
    "name": "ipython",
    "version": 3
   },
   "file_extension": ".py",
   "mimetype": "text/x-python",
   "name": "python",
   "nbconvert_exporter": "python",
   "pygments_lexer": "ipython3",
   "version": "3.10.11"
  },
  "orig_nbformat": 4
 },
 "nbformat": 4,
 "nbformat_minor": 2
}
