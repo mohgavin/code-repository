{
 "cells": [
  {
   "cell_type": "code",
   "execution_count": 1,
   "metadata": {},
   "outputs": [],
   "source": [
    "import pandas as pd\n",
    "import geopandas as gpd\n",
    "import numpy as np\n",
    "from shapely.geometry import Polygon\n",
    "import shapely\n",
    "\n",
    "cellrebel_gpd =pd.read_hdf('consolidate_db.h5')"
   ]
  },
  {
   "cell_type": "code",
   "execution_count": null,
   "metadata": {},
   "outputs": [],
   "source": [
    "xmin, ymin, xmax, ymax = cellrebel_gpd.total_bounds\n",
    "\n",
    "length =  0.0008985 * 10  ### (the distance for 100 metres is 0.0008985, so if you want to get 250 metres, need to multiply 2.5)\n",
    "wide =  0.0008985 * 10 ### (the distance for 100 metres is 0.0008985, so if you want to get 250 metres, need to multiply 2.5)\n",
    "\n",
    "cols = list(np.arange(xmin, xmax + wide, wide))\n",
    "rows = list(np.arange(ymin, ymax + length, length))\n",
    "\n",
    "polygons = []\n",
    "for x in cols[:-1]: ### [:-1] these are used stop -1 of position from the end of list \n",
    "    for y in rows[:-1]:\n",
    "        polygons.append(Polygon([(x,y), (x+wide, y), (x+wide, y+length), (x, y+length)]))\n",
    "\n",
    "grid = gpd.GeoDataFrame({'geometry':polygons}, crs=4326)\n",
    "\n",
    "grid.reset_index(inplace=True)\n",
    "grid.rename(columns={'index':'id'}, inplace = True)"
   ]
  },
  {
   "cell_type": "code",
   "execution_count": null,
   "metadata": {},
   "outputs": [],
   "source": [
    "cellrebel_gpd = gpd.sjoin(left_df= cellrebel_gpd, right_df=grid, how='left', predicate='within')"
   ]
  },
  {
   "cell_type": "code",
   "execution_count": null,
   "metadata": {},
   "outputs": [],
   "source": [
    "cellrebel_gpd = pd.pivot_table(cellrebel_gpd, values = 'reference_signal_received_power', index = 'geometry1', columns = 'mobile_operator', aggfunc= len)"
   ]
  },
  {
   "cell_type": "code",
   "execution_count": null,
   "metadata": {},
   "outputs": [],
   "source": [
    "cellrebel_gpd.reset_index(inplace=True, col_level=1, allow_duplicates=False)"
   ]
  },
  {
   "cell_type": "code",
   "execution_count": null,
   "metadata": {},
   "outputs": [],
   "source": [
    "cellrebel_gpd.replace(np.nan, 0, inplace=True)"
   ]
  },
  {
   "cell_type": "code",
   "execution_count": null,
   "metadata": {},
   "outputs": [],
   "source": [
    "cellrebel_gpd['Grand Total'] = cellrebel_gpd['3'] + cellrebel_gpd['Indosat Ooredoo'] + cellrebel_gpd['PT Telekomunikasi Indonesia'] + cellrebel_gpd['Smartfren'] + cellrebel_gpd['Telkomsel'] + cellrebel_gpd['XL Axiata'] "
   ]
  },
  {
   "cell_type": "code",
   "execution_count": null,
   "metadata": {},
   "outputs": [],
   "source": [
    "cellrebel_gpd.to_csv('result_20230505.csv', index=False)"
   ]
  },
  {
   "cell_type": "code",
   "execution_count": null,
   "metadata": {},
   "outputs": [],
   "source": [
    "cellrebel_gpd = gpd.GeoDataFrame(cellrebel_gpd, geometry=gpd.GeoSeries.from_wkt(cellrebel_gpd['geometry1']), crs=4326)"
   ]
  },
  {
   "cell_type": "code",
   "execution_count": null,
   "metadata": {},
   "outputs": [],
   "source": [
    "cellrebel_gpd.to_file('cellrebel_population.tab', driver='MapInfo File')"
   ]
  }
 ],
 "metadata": {
  "kernelspec": {
   "display_name": ".env",
   "language": "python",
   "name": "python3"
  },
  "language_info": {
   "codemirror_mode": {
    "name": "ipython",
    "version": 3
   },
   "file_extension": ".py",
   "mimetype": "text/x-python",
   "name": "python",
   "nbconvert_exporter": "python",
   "pygments_lexer": "ipython3",
   "version": "3.10.11"
  },
  "orig_nbformat": 4
 },
 "nbformat": 4,
 "nbformat_minor": 2
}
