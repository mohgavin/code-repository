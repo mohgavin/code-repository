{
 "cells": [
  {
   "cell_type": "code",
   "execution_count": 1,
   "metadata": {},
   "outputs": [],
   "source": [
    "import geopandas as gpd\n",
    "import pandas as pd\n",
    "import numpy as np\n",
    "from shapely.geometry import Polygon\n",
    "import shapely"
   ]
  },
  {
   "cell_type": "code",
   "execution_count": 2,
   "metadata": {},
   "outputs": [],
   "source": [
    "cellrebel = pd.read_csv('Source Data/Bogor_Bekasi_RSRP_Throughput.csv', low_memory=False)\n",
    "# sites = pd.read_csv('2023_Bekasi.csv')\n",
    "grid = gpd.read_file('Grid Folder/grid_bogorbekasi_250x250.geojson')\n",
    "boundary = gpd.read_file('Polygon Kecamatan_Yunan/DESA_83218_EID_kec_comb1.geojson')"
   ]
  },
  {
   "cell_type": "code",
   "execution_count": 3,
   "metadata": {},
   "outputs": [],
   "source": [
    "cellrebel.drop(['dl_throughput', 'ul_throughput', 'latency'], axis=1, inplace=True, errors='ignore')\n",
    "cellrebel = cellrebel[cellrebel['mobile_operator'].str.contains('Indosat Ooredoo|XL Axiata')==True]\n",
    "cellrebel = cellrebel[~cellrebel['reference_signal_received_power'].isnull()]"
   ]
  },
  {
   "cell_type": "code",
   "execution_count": 4,
   "metadata": {},
   "outputs": [],
   "source": [
    "cellrebel_gpd = gpd.GeoDataFrame(cellrebel, geometry=gpd.points_from_xy(cellrebel.longitude, cellrebel.latitude), crs=4326)\n",
    "# sites_gpd = gpd.GeoDataFrame(sites, geometry=gpd.points_from_xy(sites['Long'], sites['Lat']), crs=4326)\n",
    "grid = grid.to_crs(4326)"
   ]
  },
  {
   "cell_type": "code",
   "execution_count": 5,
   "metadata": {},
   "outputs": [],
   "source": [
    "### Create Rectangle Grid 100x100 metre from mininum/maximum long-lat in CRS:3426\n",
    "### These projection are imagined earth as flat object. these are not accurate for higher degree of long-lat\n",
    "### Based on plotting in QGIS, the difference of grid reach 50 meter in latitude and 25 meter in longitude\n",
    "### Try to convert them to EPSG:3857 \n",
    "\n",
    "# xmin, ymin, xmax, ymax = cellrebel_gpd.total_bounds\n",
    "\n",
    "# length =  0.0008985 ### (the distance for 100 metres, so if you want to get 250 metres, need to multiply 2.5)\n",
    "# wide =  0.0008985 ### (the distance for 100 metres, so if you want to get 250 metres, need to multiply 2.5)\n",
    "\n",
    "# cols = list(np.arange(xmin, xmax + wide, wide))\n",
    "# rows = list(np.arange(ymin, ymax + length, length))\n",
    "\n",
    "# polygons = []\n",
    "# for x in cols[:-1]: ### [:-1] these are used stop -1 of position from the end of list \n",
    "#     for y in rows[:-1]:\n",
    "#         polygons.append(Polygon([(x,y), (x+wide, y), (x+wide, y+length), (x, y+length)]))\n",
    "\n",
    "# grid = gpd.GeoDataFrame({'geometry':polygons}, crs=4326)\n",
    "\n",
    "# grid.reset_index(inplace=True)\n",
    "# grid.rename(columns={'index':'id'}, inplace = True)\n"
   ]
  },
  {
   "cell_type": "code",
   "execution_count": 6,
   "metadata": {},
   "outputs": [],
   "source": [
    "grid['geometry1'] = grid['geometry']"
   ]
  },
  {
   "cell_type": "code",
   "execution_count": 7,
   "metadata": {},
   "outputs": [],
   "source": [
    "points_within = gpd.sjoin(left_df= cellrebel_gpd,right_df=grid, how='left', predicate='within')\n",
    "points_within.drop(['index_right'], axis=1, inplace=True)\n",
    "points_within = gpd.sjoin(left_df= points_within, right_df=boundary, how='left', predicate='within')"
   ]
  },
  {
   "cell_type": "code",
   "execution_count": 8,
   "metadata": {},
   "outputs": [],
   "source": [
    "pivot = pd.pivot_table(points_within, index= ['id', 'KAB_KOT', 'KEC'],\n",
    "                        columns=['mobile_operator'], values=['reference_signal_received_power'], aggfunc=np.mean)"
   ]
  },
  {
   "cell_type": "code",
   "execution_count": 9,
   "metadata": {},
   "outputs": [
    {
     "data": {
      "text/html": [
       "<div>\n",
       "<style scoped>\n",
       "    .dataframe tbody tr th:only-of-type {\n",
       "        vertical-align: middle;\n",
       "    }\n",
       "\n",
       "    .dataframe tbody tr th {\n",
       "        vertical-align: top;\n",
       "    }\n",
       "\n",
       "    .dataframe thead tr th {\n",
       "        text-align: left;\n",
       "    }\n",
       "\n",
       "    .dataframe thead tr:last-of-type th {\n",
       "        text-align: right;\n",
       "    }\n",
       "</style>\n",
       "<table border=\"1\" class=\"dataframe\">\n",
       "  <thead>\n",
       "    <tr>\n",
       "      <th></th>\n",
       "      <th></th>\n",
       "      <th></th>\n",
       "      <th colspan=\"2\" halign=\"left\">reference_signal_received_power</th>\n",
       "    </tr>\n",
       "    <tr>\n",
       "      <th></th>\n",
       "      <th></th>\n",
       "      <th>mobile_operator</th>\n",
       "      <th>Indosat Ooredoo</th>\n",
       "      <th>XL Axiata</th>\n",
       "    </tr>\n",
       "    <tr>\n",
       "      <th>id</th>\n",
       "      <th>KAB_KOT</th>\n",
       "      <th>KEC</th>\n",
       "      <th></th>\n",
       "      <th></th>\n",
       "    </tr>\n",
       "  </thead>\n",
       "  <tbody>\n",
       "    <tr>\n",
       "      <th>606.0</th>\n",
       "      <th>BOGOR</th>\n",
       "      <th>JASINGA</th>\n",
       "      <td>-93.733333</td>\n",
       "      <td>NaN</td>\n",
       "    </tr>\n",
       "    <tr>\n",
       "      <th>1353.0</th>\n",
       "      <th>BOGOR</th>\n",
       "      <th>JASINGA</th>\n",
       "      <td>-107.000000</td>\n",
       "      <td>NaN</td>\n",
       "    </tr>\n",
       "    <tr>\n",
       "      <th>1354.0</th>\n",
       "      <th>BOGOR</th>\n",
       "      <th>JASINGA</th>\n",
       "      <td>-106.000000</td>\n",
       "      <td>NaN</td>\n",
       "    </tr>\n",
       "    <tr>\n",
       "      <th>1379.0</th>\n",
       "      <th>BOGOR</th>\n",
       "      <th>JASINGA</th>\n",
       "      <td>-115.500000</td>\n",
       "      <td>NaN</td>\n",
       "    </tr>\n",
       "    <tr>\n",
       "      <th>1383.0</th>\n",
       "      <th>BOGOR</th>\n",
       "      <th>JASINGA</th>\n",
       "      <td>-101.333333</td>\n",
       "      <td>NaN</td>\n",
       "    </tr>\n",
       "    <tr>\n",
       "      <th>...</th>\n",
       "      <th>...</th>\n",
       "      <th>...</th>\n",
       "      <td>...</td>\n",
       "      <td>...</td>\n",
       "    </tr>\n",
       "    <tr>\n",
       "      <th>147828.0</th>\n",
       "      <th>BEKASI</th>\n",
       "      <th>PEBAYURAN</th>\n",
       "      <td>NaN</td>\n",
       "      <td>-108.0</td>\n",
       "    </tr>\n",
       "    <tr>\n",
       "      <th>147829.0</th>\n",
       "      <th>BEKASI</th>\n",
       "      <th>PEBAYURAN</th>\n",
       "      <td>-92.000000</td>\n",
       "      <td>NaN</td>\n",
       "    </tr>\n",
       "    <tr>\n",
       "      <th>147830.0</th>\n",
       "      <th>BEKASI</th>\n",
       "      <th>PEBAYURAN</th>\n",
       "      <td>-94.727273</td>\n",
       "      <td>NaN</td>\n",
       "    </tr>\n",
       "    <tr>\n",
       "      <th>147831.0</th>\n",
       "      <th>BEKASI</th>\n",
       "      <th>PEBAYURAN</th>\n",
       "      <td>-98.333333</td>\n",
       "      <td>NaN</td>\n",
       "    </tr>\n",
       "    <tr>\n",
       "      <th>147832.0</th>\n",
       "      <th>BEKASI</th>\n",
       "      <th>PEBAYURAN</th>\n",
       "      <td>-94.071429</td>\n",
       "      <td>NaN</td>\n",
       "    </tr>\n",
       "  </tbody>\n",
       "</table>\n",
       "<p>23747 rows × 2 columns</p>\n",
       "</div>"
      ],
      "text/plain": [
       "                           reference_signal_received_power          \n",
       "mobile_operator                            Indosat Ooredoo XL Axiata\n",
       "id       KAB_KOT KEC                                                \n",
       "606.0    BOGOR   JASINGA                        -93.733333       NaN\n",
       "1353.0   BOGOR   JASINGA                       -107.000000       NaN\n",
       "1354.0   BOGOR   JASINGA                       -106.000000       NaN\n",
       "1379.0   BOGOR   JASINGA                       -115.500000       NaN\n",
       "1383.0   BOGOR   JASINGA                       -101.333333       NaN\n",
       "...                                                    ...       ...\n",
       "147828.0 BEKASI  PEBAYURAN                             NaN    -108.0\n",
       "147829.0 BEKASI  PEBAYURAN                      -92.000000       NaN\n",
       "147830.0 BEKASI  PEBAYURAN                      -94.727273       NaN\n",
       "147831.0 BEKASI  PEBAYURAN                      -98.333333       NaN\n",
       "147832.0 BEKASI  PEBAYURAN                      -94.071429       NaN\n",
       "\n",
       "[23747 rows x 2 columns]"
      ]
     },
     "execution_count": 9,
     "metadata": {},
     "output_type": "execute_result"
    }
   ],
   "source": [
    "pivot"
   ]
  },
  {
   "cell_type": "code",
   "execution_count": 10,
   "metadata": {},
   "outputs": [],
   "source": [
    "pivot.reset_index(inplace=True, col_level=1, allow_duplicates=False)\n",
    "pivot = pivot.droplevel(level=0, axis=1)"
   ]
  },
  {
   "cell_type": "code",
   "execution_count": 11,
   "metadata": {},
   "outputs": [],
   "source": [
    "# Methods-1 : replacing np.nan in the sample to -120 to increase number of grid covered\n",
    "\n",
    "# pivot['Indosat Ooredoo'] = pivot['Indosat Ooredoo'].replace(np.nan, -120)\n",
    "# pivot['XL Axiata'] = pivot['XL Axiata'].replace(np.nan, -120)"
   ]
  },
  {
   "cell_type": "code",
   "execution_count": 12,
   "metadata": {},
   "outputs": [],
   "source": [
    "# Methods-2 : drop nan in the sample. The impact : qty of compared grid will decrease\n",
    "\n",
    "pivot = pivot[~pivot['Indosat Ooredoo'].isnull() & ~pivot['XL Axiata'].isnull()]\n",
    "pivot = pivot[(pivot['Indosat Ooredoo']) < 0 & (pivot['XL Axiata'] < 0)]"
   ]
  },
  {
   "cell_type": "code",
   "execution_count": 13,
   "metadata": {},
   "outputs": [
    {
     "data": {
      "text/html": [
       "<div>\n",
       "<style scoped>\n",
       "    .dataframe tbody tr th:only-of-type {\n",
       "        vertical-align: middle;\n",
       "    }\n",
       "\n",
       "    .dataframe tbody tr th {\n",
       "        vertical-align: top;\n",
       "    }\n",
       "\n",
       "    .dataframe thead th {\n",
       "        text-align: right;\n",
       "    }\n",
       "</style>\n",
       "<table border=\"1\" class=\"dataframe\">\n",
       "  <thead>\n",
       "    <tr style=\"text-align: right;\">\n",
       "      <th>mobile_operator</th>\n",
       "      <th>id</th>\n",
       "      <th>KAB_KOT</th>\n",
       "      <th>KEC</th>\n",
       "      <th>Indosat Ooredoo</th>\n",
       "      <th>XL Axiata</th>\n",
       "    </tr>\n",
       "  </thead>\n",
       "  <tbody>\n",
       "    <tr>\n",
       "      <th>15</th>\n",
       "      <td>2472.0</td>\n",
       "      <td>BOGOR</td>\n",
       "      <td>JASINGA</td>\n",
       "      <td>-110.121622</td>\n",
       "      <td>-107.000000</td>\n",
       "    </tr>\n",
       "    <tr>\n",
       "      <th>17</th>\n",
       "      <td>2845.0</td>\n",
       "      <td>BOGOR</td>\n",
       "      <td>JASINGA</td>\n",
       "      <td>-107.000000</td>\n",
       "      <td>-107.000000</td>\n",
       "    </tr>\n",
       "    <tr>\n",
       "      <th>44</th>\n",
       "      <td>5406.0</td>\n",
       "      <td>BOGOR</td>\n",
       "      <td>TENJO</td>\n",
       "      <td>-103.866667</td>\n",
       "      <td>-114.000000</td>\n",
       "    </tr>\n",
       "    <tr>\n",
       "      <th>62</th>\n",
       "      <td>5779.0</td>\n",
       "      <td>BOGOR</td>\n",
       "      <td>TENJO</td>\n",
       "      <td>-118.812500</td>\n",
       "      <td>-115.846154</td>\n",
       "    </tr>\n",
       "    <tr>\n",
       "      <th>63</th>\n",
       "      <td>5780.0</td>\n",
       "      <td>BOGOR</td>\n",
       "      <td>TENJO</td>\n",
       "      <td>-113.000000</td>\n",
       "      <td>-117.625000</td>\n",
       "    </tr>\n",
       "    <tr>\n",
       "      <th>...</th>\n",
       "      <td>...</td>\n",
       "      <td>...</td>\n",
       "      <td>...</td>\n",
       "      <td>...</td>\n",
       "      <td>...</td>\n",
       "    </tr>\n",
       "    <tr>\n",
       "      <th>23719</th>\n",
       "      <td>146701.0</td>\n",
       "      <td>BEKASI</td>\n",
       "      <td>PEBAYURAN</td>\n",
       "      <td>-83.857143</td>\n",
       "      <td>-95.714286</td>\n",
       "    </tr>\n",
       "    <tr>\n",
       "      <th>23720</th>\n",
       "      <td>146703.0</td>\n",
       "      <td>BEKASI</td>\n",
       "      <td>PEBAYURAN</td>\n",
       "      <td>-103.000000</td>\n",
       "      <td>-103.384615</td>\n",
       "    </tr>\n",
       "    <tr>\n",
       "      <th>23725</th>\n",
       "      <td>147059.0</td>\n",
       "      <td>BEKASI</td>\n",
       "      <td>PEBAYURAN</td>\n",
       "      <td>-97.636364</td>\n",
       "      <td>-101.000000</td>\n",
       "    </tr>\n",
       "    <tr>\n",
       "      <th>23730</th>\n",
       "      <td>147087.0</td>\n",
       "      <td>BEKASI</td>\n",
       "      <td>PEBAYURAN</td>\n",
       "      <td>-80.500000</td>\n",
       "      <td>-125.000000</td>\n",
       "    </tr>\n",
       "    <tr>\n",
       "      <th>23737</th>\n",
       "      <td>147459.0</td>\n",
       "      <td>BEKASI</td>\n",
       "      <td>PEBAYURAN</td>\n",
       "      <td>-95.233645</td>\n",
       "      <td>-110.000000</td>\n",
       "    </tr>\n",
       "  </tbody>\n",
       "</table>\n",
       "<p>9268 rows × 5 columns</p>\n",
       "</div>"
      ],
      "text/plain": [
       "mobile_operator        id KAB_KOT        KEC  Indosat Ooredoo   XL Axiata\n",
       "15                 2472.0   BOGOR    JASINGA      -110.121622 -107.000000\n",
       "17                 2845.0   BOGOR    JASINGA      -107.000000 -107.000000\n",
       "44                 5406.0   BOGOR      TENJO      -103.866667 -114.000000\n",
       "62                 5779.0   BOGOR      TENJO      -118.812500 -115.846154\n",
       "63                 5780.0   BOGOR      TENJO      -113.000000 -117.625000\n",
       "...                   ...     ...        ...              ...         ...\n",
       "23719            146701.0  BEKASI  PEBAYURAN       -83.857143  -95.714286\n",
       "23720            146703.0  BEKASI  PEBAYURAN      -103.000000 -103.384615\n",
       "23725            147059.0  BEKASI  PEBAYURAN       -97.636364 -101.000000\n",
       "23730            147087.0  BEKASI  PEBAYURAN       -80.500000 -125.000000\n",
       "23737            147459.0  BEKASI  PEBAYURAN       -95.233645 -110.000000\n",
       "\n",
       "[9268 rows x 5 columns]"
      ]
     },
     "execution_count": 13,
     "metadata": {},
     "output_type": "execute_result"
    }
   ],
   "source": [
    "pivot"
   ]
  },
  {
   "cell_type": "code",
   "execution_count": 14,
   "metadata": {},
   "outputs": [],
   "source": [
    "pivot['1-1-IOH-XL'] = 'Yes'\n",
    "points_within = points_within.merge(pivot[['id', '1-1-IOH-XL']], how='left', on='id', suffixes=['_x'])\n",
    "points_within = points_within[points_within['1-1-IOH-XL'] == 'Yes']"
   ]
  },
  {
   "cell_type": "code",
   "execution_count": null,
   "metadata": {},
   "outputs": [],
   "source": [
    "# pivot.loc[pivot['XL Axiata'] > pivot['Indosat Ooredoo'], 'compare'] = 'XL Wins'\n",
    "# pivot.loc[pivot['XL Axiata'] == pivot['Indosat Ooredoo'], 'compare'] = 'Same'\n",
    "# pivot.loc[pivot['XL Axiata'] < pivot['Indosat Ooredoo'], 'compare'] = 'XL Lose'"
   ]
  },
  {
   "cell_type": "code",
   "execution_count": null,
   "metadata": {},
   "outputs": [],
   "source": [
    "pivot['compare'] = pivot['XL Axiata'] - pivot['Indosat Ooredoo']"
   ]
  },
  {
   "cell_type": "code",
   "execution_count": null,
   "metadata": {},
   "outputs": [],
   "source": [
    "pivot = pivot.merge(grid[['id', 'geometry1']], how='left', on='id')"
   ]
  },
  {
   "cell_type": "code",
   "execution_count": null,
   "metadata": {},
   "outputs": [],
   "source": [
    "pivot_gpd = gpd.GeoDataFrame(pivot, geometry=pivot['geometry1'], crs=4326)"
   ]
  },
  {
   "cell_type": "code",
   "execution_count": null,
   "metadata": {},
   "outputs": [],
   "source": [
    "pivot_gpd.drop(['geometry1'], axis=1, inplace=True)"
   ]
  },
  {
   "cell_type": "code",
   "execution_count": null,
   "metadata": {},
   "outputs": [],
   "source": [
    "# grid.to_csv('hasil.csv')\n",
    "pivot.to_csv('result/bogorbekasi_rsrp_250x250_methods2.csv')\n",
    "pivot_gpd.to_file('result/bogorbekasi_rsrp_250x250_methods2.json', driver=\"GeoJSON\", na='drop')\n"
   ]
  },
  {
   "cell_type": "code",
   "execution_count": null,
   "metadata": {},
   "outputs": [],
   "source": [
    "points_within.to_csv('bogorbekasi_rsrp_processed_methods2.csv')"
   ]
  },
  {
   "cell_type": "code",
   "execution_count": null,
   "metadata": {},
   "outputs": [],
   "source": [
    "### Methods to count sample for each grid\n",
    "\n",
    "pivot1 = pd.pivot_table(points_within, index= ['id', 'KAB_KOT', 'KEC'],\n",
    "                        columns=['mobile_operator'], values=['reference_signal_received_power'], aggfunc = len)\n",
    "\n",
    "pivot1.reset_index(inplace=True, col_level=1, allow_duplicates=False)\n",
    "pivot1 = pivot1.droplevel(level=0, axis=1)\n",
    "\n",
    "pivot1 = pivot1[~pivot1['Indosat Ooredoo'].isnull() & ~pivot1['XL Axiata'].isnull()]\n",
    "pivot1 = pivot1[(pivot1['Indosat Ooredoo'] > 0) & (pivot1['XL Axiata'] > 0)]\n",
    "\n",
    "pivot1.loc[\"Indosat Ooredoo\"] = pivot1.sum()"
   ]
  }
 ],
 "metadata": {
  "kernelspec": {
   "display_name": ".env",
   "language": "python",
   "name": "python3"
  },
  "language_info": {
   "codemirror_mode": {
    "name": "ipython",
    "version": 3
   },
   "file_extension": ".py",
   "mimetype": "text/x-python",
   "name": "python",
   "nbconvert_exporter": "python",
   "pygments_lexer": "ipython3",
   "version": "3.10.10"
  },
  "orig_nbformat": 4
 },
 "nbformat": 4,
 "nbformat_minor": 2
}
