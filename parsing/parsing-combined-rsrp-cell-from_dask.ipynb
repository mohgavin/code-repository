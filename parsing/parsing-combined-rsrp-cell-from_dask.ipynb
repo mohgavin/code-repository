{
 "cells": [
  {
   "cell_type": "code",
   "execution_count": 1,
   "metadata": {},
   "outputs": [],
   "source": [
    "import pandas as pd\n",
    "import geopandas as gpd"
   ]
  },
  {
   "cell_type": "code",
   "execution_count": 2,
   "metadata": {},
   "outputs": [],
   "source": [
    "rsrp_pol = pd.read_csv('~/2023-Linux/result/rsrp-combined-alljabo-40x40.csv/0.part')\n",
    "kecamatan = pd.read_csv('~/2023-Linux/csv_polygon/Kecamatan_Jabotabek.csv')"
   ]
  },
  {
   "cell_type": "code",
   "execution_count": 3,
   "metadata": {},
   "outputs": [],
   "source": [
    "rsrp_pol.set_index('geometry_polygon', inplace=True)\n",
    "rsrp_pol.rename(columns={'rsrp-combined':'rsrp-combined-avg'}, inplace=True)"
   ]
  },
  {
   "cell_type": "code",
   "execution_count": 4,
   "metadata": {},
   "outputs": [],
   "source": [
    "rsrp_pop = pd.read_csv('~/2023-Linux/result/rsrp-combined-alljabo-40x40-pop.csv/0.part')"
   ]
  },
  {
   "cell_type": "code",
   "execution_count": 5,
   "metadata": {},
   "outputs": [],
   "source": [
    "rsrp_pop.set_index('geometry_polygon', inplace=True)\n",
    "rsrp_pop.rename(columns={'rsrp-combined':'rsrp-combined-pop'}, inplace=True)"
   ]
  },
  {
   "cell_type": "code",
   "execution_count": 6,
   "metadata": {},
   "outputs": [],
   "source": [
    "rsrp_pol = pd.concat([rsrp_pol, rsrp_pop], axis=1)"
   ]
  },
  {
   "cell_type": "code",
   "execution_count": 7,
   "metadata": {},
   "outputs": [],
   "source": [
    "rsrp_pol.reset_index(inplace=True)"
   ]
  },
  {
   "cell_type": "code",
   "execution_count": 8,
   "metadata": {},
   "outputs": [
    {
     "data": {
      "text/html": [
       "<div>\n",
       "<style scoped>\n",
       "    .dataframe tbody tr th:only-of-type {\n",
       "        vertical-align: middle;\n",
       "    }\n",
       "\n",
       "    .dataframe tbody tr th {\n",
       "        vertical-align: top;\n",
       "    }\n",
       "\n",
       "    .dataframe thead th {\n",
       "        text-align: right;\n",
       "    }\n",
       "</style>\n",
       "<table border=\"1\" class=\"dataframe\">\n",
       "  <thead>\n",
       "    <tr style=\"text-align: right;\">\n",
       "      <th></th>\n",
       "      <th>geometry_polygon</th>\n",
       "      <th>rsrp-combined-avg</th>\n",
       "      <th>rsrp-combined-pop</th>\n",
       "    </tr>\n",
       "  </thead>\n",
       "  <tbody>\n",
       "    <tr>\n",
       "      <th>0</th>\n",
       "      <td>POLYGON ((105.105237 -6.618021, 105.105596 -6....</td>\n",
       "      <td>-93.0</td>\n",
       "      <td>1.0</td>\n",
       "    </tr>\n",
       "    <tr>\n",
       "      <th>1</th>\n",
       "      <td>POLYGON ((105.10955 -6.703918, 105.109909 -6.7...</td>\n",
       "      <td>-110.5</td>\n",
       "      <td>2.0</td>\n",
       "    </tr>\n",
       "    <tr>\n",
       "      <th>2</th>\n",
       "      <td>POLYGON ((105.110987 -6.703918, 105.111347 -6....</td>\n",
       "      <td>-115.0</td>\n",
       "      <td>1.0</td>\n",
       "    </tr>\n",
       "    <tr>\n",
       "      <th>3</th>\n",
       "      <td>POLYGON ((105.112425 -6.116299, 105.112784 -6....</td>\n",
       "      <td>-92.0</td>\n",
       "      <td>1.0</td>\n",
       "    </tr>\n",
       "    <tr>\n",
       "      <th>4</th>\n",
       "      <td>POLYGON ((105.113503 -6.116658, 105.113863 -6....</td>\n",
       "      <td>-92.0</td>\n",
       "      <td>1.0</td>\n",
       "    </tr>\n",
       "    <tr>\n",
       "      <th>...</th>\n",
       "      <td>...</td>\n",
       "      <td>...</td>\n",
       "      <td>...</td>\n",
       "    </tr>\n",
       "    <tr>\n",
       "      <th>5766914</th>\n",
       "      <td>POLYGON ((107.16999 -6.13355, 107.170349 -6.13...</td>\n",
       "      <td>NaN</td>\n",
       "      <td>1.0</td>\n",
       "    </tr>\n",
       "    <tr>\n",
       "      <th>5766915</th>\n",
       "      <td>POLYGON ((107.315188 -6.235619, 107.315547 -6....</td>\n",
       "      <td>NaN</td>\n",
       "      <td>1.0</td>\n",
       "    </tr>\n",
       "    <tr>\n",
       "      <th>5766916</th>\n",
       "      <td>POLYGON ((107.356878 -6.015667, 107.357237 -6....</td>\n",
       "      <td>NaN</td>\n",
       "      <td>1.0</td>\n",
       "    </tr>\n",
       "    <tr>\n",
       "      <th>5766917</th>\n",
       "      <td>POLYGON ((107.483746 -6.248558, 107.484106 -6....</td>\n",
       "      <td>NaN</td>\n",
       "      <td>1.0</td>\n",
       "    </tr>\n",
       "    <tr>\n",
       "      <th>5766918</th>\n",
       "      <td>POLYGON ((107.608099 -6.067061, 107.608458 -6....</td>\n",
       "      <td>NaN</td>\n",
       "      <td>1.0</td>\n",
       "    </tr>\n",
       "  </tbody>\n",
       "</table>\n",
       "<p>5766919 rows × 3 columns</p>\n",
       "</div>"
      ],
      "text/plain": [
       "                                          geometry_polygon  rsrp-combined-avg   \n",
       "0        POLYGON ((105.105237 -6.618021, 105.105596 -6....              -93.0  \\\n",
       "1        POLYGON ((105.10955 -6.703918, 105.109909 -6.7...             -110.5   \n",
       "2        POLYGON ((105.110987 -6.703918, 105.111347 -6....             -115.0   \n",
       "3        POLYGON ((105.112425 -6.116299, 105.112784 -6....              -92.0   \n",
       "4        POLYGON ((105.113503 -6.116658, 105.113863 -6....              -92.0   \n",
       "...                                                    ...                ...   \n",
       "5766914  POLYGON ((107.16999 -6.13355, 107.170349 -6.13...                NaN   \n",
       "5766915  POLYGON ((107.315188 -6.235619, 107.315547 -6....                NaN   \n",
       "5766916  POLYGON ((107.356878 -6.015667, 107.357237 -6....                NaN   \n",
       "5766917  POLYGON ((107.483746 -6.248558, 107.484106 -6....                NaN   \n",
       "5766918  POLYGON ((107.608099 -6.067061, 107.608458 -6....                NaN   \n",
       "\n",
       "         rsrp-combined-pop  \n",
       "0                      1.0  \n",
       "1                      2.0  \n",
       "2                      1.0  \n",
       "3                      1.0  \n",
       "4                      1.0  \n",
       "...                    ...  \n",
       "5766914                1.0  \n",
       "5766915                1.0  \n",
       "5766916                1.0  \n",
       "5766917                1.0  \n",
       "5766918                1.0  \n",
       "\n",
       "[5766919 rows x 3 columns]"
      ]
     },
     "execution_count": 8,
     "metadata": {},
     "output_type": "execute_result"
    }
   ],
   "source": [
    "rsrp_pol"
   ]
  },
  {
   "cell_type": "code",
   "execution_count": null,
   "metadata": {},
   "outputs": [],
   "source": [
    "rsrp_pol  = gpd.GeoDataFrame(rsrp_pol, geometry=gpd.GeoSeries.from_wkt(rsrp_pol['geometry_polygon']), crs=4326)\n",
    "kecamatan = gpd.read_file('~/2023-Linux/polygon/Kecamatan_Jabotabek.TAB')\n",
    "\n",
    "rsrp_pol = rsrp_pol[rsrp_pol['rsrp-combined-pop'] > 100 ]\n",
    "rsrp_pol = gpd.sjoin(left_df= rsrp_pol, right_df=kecamatan, how='inner', predicate='intersects')\n",
    "\n",
    "rsrp_pol = rsrp_pol[rsrp_pol['Kabupaten_Kota'] == 'JAKARTA SELATAN']"
   ]
  },
  {
   "cell_type": "code",
   "execution_count": null,
   "metadata": {},
   "outputs": [],
   "source": [
    "rsrp_pol.drop(columns=['index_right','Luas_Kec_Sq_Km', 'ID_Kecamatan', 'Commercial_XL', 'index_right'], inplace=True)"
   ]
  },
  {
   "cell_type": "code",
   "execution_count": null,
   "metadata": {},
   "outputs": [],
   "source": [
    "# rsrp_pol.to_file('result/coverage_map/rsrp_combined-alljabo-aug23', driver='ESRI Shapefile')\n",
    "rsrp_pol.to_excel('~/2023-Linux/result/rsrp_combined-jaksel.xlsx')"
   ]
  }
 ],
 "metadata": {
  "kernelspec": {
   "display_name": ".python-3.10",
   "language": "python",
   "name": "python3"
  },
  "language_info": {
   "codemirror_mode": {
    "name": "ipython",
    "version": 3
   },
   "file_extension": ".py",
   "mimetype": "text/x-python",
   "name": "python",
   "nbconvert_exporter": "python",
   "pygments_lexer": "ipython3",
   "version": "3.10.11"
  },
  "orig_nbformat": 4
 },
 "nbformat": 4,
 "nbformat_minor": 2
}
