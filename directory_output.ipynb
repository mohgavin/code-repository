{
 "cells": [
  {
   "cell_type": "code",
   "execution_count": null,
   "metadata": {},
   "outputs": [],
   "source": [
    "import pexpect\n",
    "import time\n",
    "import sys\n",
    "import re"
   ]
  },
  {
   "cell_type": "code",
   "execution_count": null,
   "metadata": {},
   "outputs": [],
   "source": [
    "child = pexpect.spawn('ssh -tt -oProxyJump=\"root@150.236.203.198:22,root@127.0.0.1:8007\" eidtriyul@10.23.202.28', timeout=30, encoding='utf-8', logfile=sys.stdout)\n",
    "\n",
    "child.expect(\"root@150.236.203.198's password: \")\n",
    "child.sendline('PMT@2022')\n",
    "child.expect(\"root@127.0.0.1's password: \")\n",
    "child.sendline('PMT@2022')\n",
    "# time.sleep(5)\n",
    "\n",
    "child.expect(\"eidtriyul@10.23.202.28's password: \")\n",
    "child.sendline('Enm#2021')\n",
    "\n",
    "# time.sleep(5)\n",
    "child.expect(\"eidtriyul: You must SSH using username and password to schedule CRON jobs.\")\n",
    "\n",
    "child.sendline('cd /ericsson/pmic1/CELLTRACE/')\n",
    "child.expect(\"\")\n",
    "\n",
    "child.sendline('ls -d * */*')\n",
    "\n",
    "try :\n",
    "    child.expect(pexpect.EOF)\n",
    "\n",
    "except:\n",
    "    child.close()\n",
    "    test1 = str(child.before)"
   ]
  },
  {
   "cell_type": "code",
   "execution_count": null,
   "metadata": {},
   "outputs": [],
   "source": [
    "child = pexpect.spawn('ssh -tt -oProxyJump=\"root@150.236.203.198:22,root@127.0.0.1:8007\" eidtriyul@10.23.202.28', timeout=30, encoding='utf-8', logfile=sys.stdout)\n",
    "\n",
    "child.expect(\"root@150.236.203.198's password: \")\n",
    "child.sendline('PMT@2022')\n",
    "child.expect(\"root@127.0.0.1's password: \")\n",
    "child.sendline('PMT@2022')\n",
    "# time.sleep(5)\n",
    "\n",
    "child.expect(\"eidtriyul@10.23.202.28's password: \")\n",
    "child.sendline('Enm#2021')\n",
    "\n",
    "# time.sleep(5)\n",
    "child.expect(\"eidtriyul: You must SSH using username and password to schedule CRON jobs.\")\n",
    "\n",
    "child.sendline('cd /ericsson/pmic2/CELLTRACE/')\n",
    "child.expect(\"\")\n",
    "\n",
    "child.sendline('ls -d * */*')\n",
    "\n",
    "try :\n",
    "    child.expect(pexpect.EOF)\n",
    "\n",
    "except:\n",
    "    child.close()\n",
    "    test2 = str(child.before)"
   ]
  },
  {
   "cell_type": "code",
   "execution_count": null,
   "metadata": {},
   "outputs": [],
   "source": [
    "test1 = test1.replace('\\x1b[01;31m', '/ericsson/pmic1/CELLTRACE/')\n",
    "test1 = test1.replace('\\x1b[0m\\x1b[K', '')\n",
    "test1 = test1.splitlines()"
   ]
  },
  {
   "cell_type": "code",
   "execution_count": null,
   "metadata": {},
   "outputs": [],
   "source": [
    "test2 = test2.replace('\\x1b[01;31m', '/ericsson/pmic2/CELLTRACE/')\n",
    "test2 = test2.replace('\\x1b[0m\\x1b[K', '')\n",
    "test2 = test2.splitlines()"
   ]
  },
  {
   "cell_type": "code",
   "execution_count": null,
   "metadata": {},
   "outputs": [],
   "source": [
    "test1.extend(test2)"
   ]
  },
  {
   "cell_type": "code",
   "execution_count": null,
   "metadata": {},
   "outputs": [],
   "source": [
    "pattern = re.compile(r'.*08\\d{2}\\+0700.*')\n",
    "result = [item for item in test1 if pattern.match(item)]"
   ]
  },
  {
   "cell_type": "code",
   "execution_count": null,
   "metadata": {},
   "outputs": [],
   "source": [
    "with open(r'sites/location_to_dl.txt', 'w') as fp:\n",
    "    fp.write('\\n'.join(result))"
   ]
  }
 ],
 "metadata": {
  "kernelspec": {
   "display_name": ".python-3.10-1",
   "language": "python",
   "name": "python3"
  },
  "language_info": {
   "codemirror_mode": {
    "name": "ipython",
    "version": 3
   },
   "file_extension": ".py",
   "mimetype": "text/x-python",
   "name": "python",
   "nbconvert_exporter": "python",
   "pygments_lexer": "ipython3",
   "version": "3.10.11"
  },
  "orig_nbformat": 4
 },
 "nbformat": 4,
 "nbformat_minor": 2
}
