{
 "cells": [
  {
   "cell_type": "code",
   "execution_count": null,
   "metadata": {},
   "outputs": [],
   "source": [
    "import geopandas as gpd\n",
    "import pandas as pd\n",
    "import numpy as np"
   ]
  },
  {
   "cell_type": "code",
   "execution_count": null,
   "metadata": {},
   "outputs": [],
   "source": [
    "# sites   = pd.read_excel('sites/Existing Sites.xlsx')\n",
    "# sites_gpd   = gpd.GeoDataFrame(sites, geometry=gpd.points_from_xy(sites['Longitude'], sites['Latitude']), crs=4326)\n",
    "# sites_gpd = sites_gpd.to_crs(4326)\n",
    "\n",
    "# sites   = pd.read_excel('sample-folder/Book1.xlsx')\n",
    "# sites_gpd   = gpd.GeoDataFrame(sites, geometry=gpd.points_from_xy(sites['Long'], sites['Lat']), crs=4326)\n",
    "\n",
    "# polygon   = pd.read_csv('csv_polygon/polygon_xl-eid_LautIncluded.csv')\n",
    "# polygon   = gpd.GeoDataFrame(polygon, geometry=gpd.GeoSeries.from_wkt(polygon['WKT']), crs=4326)\n",
    "# sites_gpd = sites_gpd.to_crs(4326)\n",
    "\n",
    "polygon   = pd.read_csv('result/rsrp-l1800-alljabo-40x40.csv/0.part')\n",
    "polygon   = gpd.GeoDataFrame(polygon, geometry=gpd.GeoSeries.from_wkt(polygon['geometry_polygon']), crs=4326)\n",
    "\n",
    "# grid    = pd.read_parquet('Grid_Folder/100x100_gridjabo.parquet')\n",
    "# grid   = gpd.GeoDataFrame(grid, geometry=gpd.GeoSeries.from_wkt(grid['geometry']), crs=4326)\n",
    "# grid_gpd = grid_gpd.to_crs(4326)\n",
    "\n",
    "grid_gpd = gpd.read_file('Polygon XL - EID Area/Border Toll from and to Cawang Intersection.TAB', crs=4326, driver=\"MapInfo File\")\n",
    "grid_gpd = grid_gpd.to_crs(4326)\n",
    "\n",
    "# grid    = pd.read_csv('Grid Folder/Bad RSRP Performance_grid500.csv')\n",
    "# grid_gpd   = gpd.GeoDataFrame(grid, geometry=gpd.points_from_xy(grid['Long Grid'], grid['Lat Grid']), crs=4326)\n",
    "# grid_gpd = grid_gpd.to_crs(4326)"
   ]
  },
  {
   "cell_type": "code",
   "execution_count": null,
   "metadata": {},
   "outputs": [],
   "source": [
    "# sites_gpd = sites_gpd.sjoin_nearest(grid_gpd, how='inner', max_distance = 0.0008985 * 1, distance_col='distance')\n",
    "sites_gpd = gpd.sjoin(left_df= polygon, right_df=grid_gpd, how='inner', predicate='within')"
   ]
  },
  {
   "cell_type": "code",
   "execution_count": null,
   "metadata": {},
   "outputs": [],
   "source": [
    "# grid.drop(columns=['index_right','WKT', 'polygon_name', 'id_right'], inplace=True)"
   ]
  },
  {
   "cell_type": "code",
   "execution_count": null,
   "metadata": {},
   "outputs": [],
   "source": [
    "# grid.rename(columns={'id_left':'id'}, inplace=True)"
   ]
  },
  {
   "cell_type": "code",
   "execution_count": null,
   "metadata": {},
   "outputs": [],
   "source": [
    "# sites_gpd.to_csv('result/RSRP-UI.csv', index=False)\n",
    "\n",
    "# sites_gpd.to_csv('result/RSRP-UI.csv', index=False)\n",
    "\n",
    "sites_gpd.to_csv('result/l1800result_Cawang_Intersection.csv')"
   ]
  }
 ],
 "metadata": {
  "kernelspec": {
   "display_name": ".env",
   "language": "python",
   "name": "python3"
  },
  "language_info": {
   "codemirror_mode": {
    "name": "ipython",
    "version": 3
   },
   "file_extension": ".py",
   "mimetype": "text/x-python",
   "name": "python",
   "nbconvert_exporter": "python",
   "pygments_lexer": "ipython3",
   "version": "3.10.11"
  },
  "orig_nbformat": 4
 },
 "nbformat": 4,
 "nbformat_minor": 2
}
