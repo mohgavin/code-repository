{
 "cells": [
  {
   "cell_type": "code",
   "execution_count": null,
   "metadata": {},
   "outputs": [],
   "source": [
    "import geopandas as gpd\n",
    "import pandas as pd\n",
    "import numpy as np\n",
    "import dask.dataframe as dask_pd\n",
    "import dask_geopandas as dask_gpd"
   ]
  },
  {
   "cell_type": "code",
   "execution_count": null,
   "metadata": {},
   "outputs": [],
   "source": [
    "poi   = pd.read_csv('result/1300_Pomelotel.csv')\n",
    "poi   = gpd.GeoDataFrame(poi, geometry=gpd.points_from_xy(poi['longitude'], poi['latitude']), crs=4326)\n",
    "poi = poi.to_crs(4326)\n",
    "\n",
    "# sites   = pd.read_excel('sample-folder/Mas Wasis Files Drive Sample/EID Simplify_Capacity_Database_Report_W30-2023.xlsb', header=3)\n",
    "# sites = sites[['Tower ID', 'Site ID', 'Long', 'Lat']]\n",
    "# sites_gpd   = gpd.GeoDataFrame(sites, geometry=gpd.points_from_xy(sites['Long'], sites['Lat']), crs=4326)\n",
    "# sites_gpd = sites_gpd.to_crs(3857)\n",
    "\n",
    "\n",
    "# polygon   = pd.read_csv('csv_polygon/polygon_xl-eid_LautIncluded.csv')\n",
    "# polygon   = gpd.GeoDataFrame(polygon, geometry=gpd.GeoSeries.from_wkt(polygon['WKT']), crs=4326)\n",
    "\n",
    "# polygon   = pd.read_csv('result/cellrebel-cov.csv')\n",
    "# polygon   = gpd.GeoDataFrame(polygon, geometry=gpd.GeoSeries.from_wkt(polygon['geometry_polygon']), crs=4326)\n",
    "\n",
    "grid    = pd.read_csv('csv_polygon/5x5grid_1300_Pomelotel_blank.csv')\n",
    "grid   = gpd.GeoDataFrame(grid, geometry=gpd.GeoSeries.from_wkt(grid['geometry']), crs=4326)\n",
    "grid = grid.to_crs(4326)\n",
    "\n",
    "# boundary = gpd.read_file('Polygon XL - EID Area/Polygon_GBK_Senayan.TAB', crs=4326, driver=\"MapInfo File\")\n",
    "# boundary = boundary.to_crs(4326)\n",
    "\n",
    "# boundary = pd.read_csv('csv_polygon/GBK_Senayan.csv')\n",
    "# boundary = gpd.GeoDataFrame(boundary, geometry=gpd.GeoSeries.from_wkt(grid['geometry']), crs=4326)\n",
    "# boundary = boundary.to_crs(4326)\n",
    "\n",
    "# grid    = pd.read_csv('Grid Folder/Bad RSRP Performance_grid500.csv')\n",
    "# grid_gpd   = gpd.GeoDataFrame(grid, geometry=gpd.points_from_xy(grid['Long Grid'], grid['Lat Grid']), crs=4326)\n",
    "# grid_gpd = grid_gpd.to_crs(4326)"
   ]
  },
  {
   "cell_type": "code",
   "execution_count": null,
   "metadata": {},
   "outputs": [],
   "source": [
    "poi"
   ]
  },
  {
   "cell_type": "code",
   "execution_count": null,
   "metadata": {},
   "outputs": [],
   "source": [
    "grid"
   ]
  },
  {
   "cell_type": "code",
   "execution_count": null,
   "metadata": {},
   "outputs": [],
   "source": [
    "# poi = poi.sjoin_nearest(sites_gpd, how='inner', max_distance = 0.0008985 * 3, distance_col='distance')\n",
    "# poi = poi.sjoin_nearest(sites_gpd, how='inner', max_distance = 1000, distance_col='distance')\n",
    "# poi = gpd.sjoin(left_df= grid, right_df=boundary, how='inner', predicate='intersects')\n",
    "poi = gpd.sjoin(left_df= poi, right_df= grid, how='inner', predicate='intersects')"
   ]
  },
  {
   "cell_type": "code",
   "execution_count": null,
   "metadata": {},
   "outputs": [],
   "source": [
    "poi"
   ]
  },
  {
   "cell_type": "code",
   "execution_count": null,
   "metadata": {},
   "outputs": [],
   "source": [
    "# grid.drop(columns=['index_right','WKT', 'polygon_name', 'id_right'], inplace=True)"
   ]
  },
  {
   "cell_type": "code",
   "execution_count": null,
   "metadata": {},
   "outputs": [],
   "source": [
    "# grid.rename(columns={'id_left':'id'}, inplace=True)"
   ]
  },
  {
   "cell_type": "code",
   "execution_count": null,
   "metadata": {},
   "outputs": [],
   "source": [
    "# sites_gpd.to_csv('result/RSRP-UI.csv', index=False)\n",
    "\n",
    "# sites_gpd.to_csv('result/RSRP-UI.csv', index=False)\n",
    "\n",
    "# poi.to_csv('result/distance.csv')\n",
    "\n",
    "poi.to_file('result/coverage_map/5x5grid_1300_Pomelotel', driver='MapInfo File')"
   ]
  }
 ],
 "metadata": {
  "kernelspec": {
   "display_name": ".env",
   "language": "python",
   "name": "python3"
  },
  "language_info": {
   "codemirror_mode": {
    "name": "ipython",
    "version": 3
   },
   "file_extension": ".py",
   "mimetype": "text/x-python",
   "name": "python",
   "nbconvert_exporter": "python",
   "pygments_lexer": "ipython3",
   "version": "3.10.11"
  },
  "orig_nbformat": 4
 },
 "nbformat": 4,
 "nbformat_minor": 2
}
