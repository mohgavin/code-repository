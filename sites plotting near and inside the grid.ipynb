{
 "cells": [
  {
   "cell_type": "code",
   "execution_count": 1,
   "metadata": {},
   "outputs": [],
   "source": [
    "import geopandas as gpd\n",
    "import pandas as pd\n",
    "import numpy as np"
   ]
  },
  {
   "cell_type": "code",
   "execution_count": 2,
   "metadata": {},
   "outputs": [],
   "source": [
    "# sites   = pd.read_excel('sites/Existing Sites.xlsx')\n",
    "# sites_gpd   = gpd.GeoDataFrame(sites, geometry=gpd.points_from_xy(sites['Longitude'], sites['Latitude']), crs=4326)\n",
    "# sites_gpd = sites_gpd.to_crs(4326)\n",
    "\n",
    "sites   = pd.read_excel('sites/rsrp-train_basedonhour.xlsx')\n",
    "sites_gpd   = gpd.GeoDataFrame(sites, geometry=gpd.points_from_xy(sites['Long'], sites['Lat']), crs=4326)\n",
    "sites_gpd = sites_gpd.to_crs(4326)\n",
    "\n",
    "grid    = pd.read_csv('csv_polygon/KRL_TanahAbang-Parung.csv')\n",
    "grid_gpd   = gpd.GeoDataFrame(grid, geometry=gpd.GeoSeries.from_wkt(grid['WKT']), crs=4326)\n",
    "grid_gpd = grid_gpd.to_crs(4326)\n",
    "\n",
    "# grid_gpd = gpd.read_file('Grid Train/KRL CommuterLine/KRL CommuterLine_Polygon/Manggarai-Bogor.TAB', crs=4326, driver=\"MapInfo File\")\n",
    "# grid_gpd = grid_gpd.to_crs(4326)\n",
    "\n",
    "# grid    = pd.read_csv('Grid Folder/Bad RSRP Performance_grid500.csv')\n",
    "# grid_gpd   = gpd.GeoDataFrame(grid, geometry=gpd.points_from_xy(grid['Long Grid'], grid['Lat Grid']), crs=4326)\n",
    "# grid_gpd = grid_gpd.to_crs(4326)"
   ]
  },
  {
   "cell_type": "code",
   "execution_count": 3,
   "metadata": {},
   "outputs": [
    {
     "name": "stderr",
     "output_type": "stream",
     "text": [
      "/home/nivag/2023-Linux/.python-3.10/lib/python3.10/site-packages/geopandas/array.py:364: UserWarning: Geometry is in a geographic CRS. Results from 'sjoin_nearest' are likely incorrect. Use 'GeoSeries.to_crs()' to re-project geometries to a projected CRS before this operation.\n",
      "\n",
      "  warnings.warn(\n"
     ]
    }
   ],
   "source": [
    "sites_gpd = sites_gpd.sjoin_nearest(grid_gpd, how='inner', max_distance = 0.0008985 * 3)"
   ]
  },
  {
   "cell_type": "code",
   "execution_count": 4,
   "metadata": {},
   "outputs": [],
   "source": [
    "sites_gpd.to_csv('result/KRL_TanahAbang-Parung.csv', index=False)"
   ]
  }
 ],
 "metadata": {
  "kernelspec": {
   "display_name": ".env",
   "language": "python",
   "name": "python3"
  },
  "language_info": {
   "codemirror_mode": {
    "name": "ipython",
    "version": 3
   },
   "file_extension": ".py",
   "mimetype": "text/x-python",
   "name": "python",
   "nbconvert_exporter": "python",
   "pygments_lexer": "ipython3",
   "version": "3.10.11"
  },
  "orig_nbformat": 4
 },
 "nbformat": 4,
 "nbformat_minor": 2
}
