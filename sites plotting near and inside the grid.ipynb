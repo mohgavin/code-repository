{
 "cells": [
  {
   "cell_type": "code",
   "execution_count": 4,
   "metadata": {},
   "outputs": [],
   "source": [
    "import geopandas as gpd\n",
    "import pandas as pd\n",
    "import numpy as np\n",
    "import dask.dataframe as dask_pd\n",
    "import dask_geopandas as dask_gpd"
   ]
  },
  {
   "cell_type": "code",
   "execution_count": 5,
   "metadata": {},
   "outputs": [],
   "source": [
    "# sites   = pd.read_csv('result/cellrebel-video.csv')\n",
    "# sites_gpd   = gpd.GeoDataFrame(sites, geometry=gpd.points_from_xy(sites['longitude'], sites['latitude']), crs=4326)\n",
    "# sites_gpd = sites_gpd.to_crs(4326)\n",
    "\n",
    "# polygon   = pd.read_csv('csv_polygon/polygon_xl-eid_LautIncluded.csv')\n",
    "# polygon   = gpd.GeoDataFrame(polygon, geometry=gpd.GeoSeries.from_wkt(polygon['WKT']), crs=4326)\n",
    "\n",
    "# polygon   = pd.read_csv('result/cellrebel-cov.csv')\n",
    "# polygon   = gpd.GeoDataFrame(polygon, geometry=gpd.GeoSeries.from_wkt(polygon['geometry_polygon']), crs=4326)\n",
    "\n",
    "grid    = pd.read_parquet('csv_polygon/5x5grid_GBK.parquet')\n",
    "# grid   = gpd.GeoDataFrame(grid, geometry=gpd.GeoSeries.from_wkt(grid['geometry']), crs=4326)\n",
    "# grid = grid.to_crs(4326)\n",
    "\n",
    "# boundary = gpd.read_file('Polygon XL - EID Area/Polygon_GBK_Senayan.TAB', crs=4326, driver=\"MapInfo File\")\n",
    "# boundary = boundary.to_crs(4326)\n",
    "\n",
    "# boundary = pd.read_csv('csv_polygon/GBK_Senayan.csv')\n",
    "# boundary = gpd.GeoDataFrame(boundary, geometry=gpd.GeoSeries.from_wkt(grid['geometry']), crs=4326)\n",
    "# boundary = boundary.to_crs(4326)\n",
    "\n",
    "# grid    = pd.read_csv('Grid Folder/Bad RSRP Performance_grid500.csv')\n",
    "# grid_gpd   = gpd.GeoDataFrame(grid, geometry=gpd.points_from_xy(grid['Long Grid'], grid['Lat Grid']), crs=4326)\n",
    "# grid_gpd = grid_gpd.to_crs(4326)"
   ]
  },
  {
   "cell_type": "code",
   "execution_count": 6,
   "metadata": {},
   "outputs": [
    {
     "data": {
      "text/html": [
       "<div>\n",
       "<style scoped>\n",
       "    .dataframe tbody tr th:only-of-type {\n",
       "        vertical-align: middle;\n",
       "    }\n",
       "\n",
       "    .dataframe tbody tr th {\n",
       "        vertical-align: top;\n",
       "    }\n",
       "\n",
       "    .dataframe thead th {\n",
       "        text-align: right;\n",
       "    }\n",
       "</style>\n",
       "<table border=\"1\" class=\"dataframe\">\n",
       "  <thead>\n",
       "    <tr style=\"text-align: right;\">\n",
       "      <th></th>\n",
       "      <th>WKT</th>\n",
       "      <th>Polygon_GBK_Senayan</th>\n",
       "      <th>partition_column</th>\n",
       "    </tr>\n",
       "  </thead>\n",
       "  <tbody>\n",
       "    <tr>\n",
       "      <th>0</th>\n",
       "      <td>POLYGON ((106.798059 -6.216523, 106.798104 -6....</td>\n",
       "      <td>NaN</td>\n",
       "      <td>0</td>\n",
       "    </tr>\n",
       "    <tr>\n",
       "      <th>1</th>\n",
       "      <td>POLYGON ((106.798059 -6.216478, 106.798104 -6....</td>\n",
       "      <td>NaN</td>\n",
       "      <td>1</td>\n",
       "    </tr>\n",
       "    <tr>\n",
       "      <th>2</th>\n",
       "      <td>POLYGON ((106.798059 -6.216434, 106.798104 -6....</td>\n",
       "      <td>NaN</td>\n",
       "      <td>2</td>\n",
       "    </tr>\n",
       "    <tr>\n",
       "      <th>3</th>\n",
       "      <td>POLYGON ((106.798059 -6.216389, 106.798104 -6....</td>\n",
       "      <td>NaN</td>\n",
       "      <td>3</td>\n",
       "    </tr>\n",
       "    <tr>\n",
       "      <th>4</th>\n",
       "      <td>POLYGON ((106.798059 -6.216344, 106.798104 -6....</td>\n",
       "      <td>NaN</td>\n",
       "      <td>4</td>\n",
       "    </tr>\n",
       "    <tr>\n",
       "      <th>...</th>\n",
       "      <td>...</td>\n",
       "      <td>...</td>\n",
       "      <td>...</td>\n",
       "    </tr>\n",
       "    <tr>\n",
       "      <th>75127</th>\n",
       "      <td>POLYGON ((106.812301 -6.219399, 106.812346 -6....</td>\n",
       "      <td>NaN</td>\n",
       "      <td>7</td>\n",
       "    </tr>\n",
       "    <tr>\n",
       "      <th>75128</th>\n",
       "      <td>POLYGON ((106.812301 -6.219354, 106.812346 -6....</td>\n",
       "      <td>NaN</td>\n",
       "      <td>8</td>\n",
       "    </tr>\n",
       "    <tr>\n",
       "      <th>75129</th>\n",
       "      <td>POLYGON ((106.812346 -6.219488, 106.812391 -6....</td>\n",
       "      <td>NaN</td>\n",
       "      <td>9</td>\n",
       "    </tr>\n",
       "    <tr>\n",
       "      <th>75130</th>\n",
       "      <td>POLYGON ((106.812346 -6.219443, 106.812391 -6....</td>\n",
       "      <td>NaN</td>\n",
       "      <td>10</td>\n",
       "    </tr>\n",
       "    <tr>\n",
       "      <th>75131</th>\n",
       "      <td>POLYGON ((106.812346 -6.219399, 106.812391 -6....</td>\n",
       "      <td>NaN</td>\n",
       "      <td>11</td>\n",
       "    </tr>\n",
       "  </tbody>\n",
       "</table>\n",
       "<p>75132 rows × 3 columns</p>\n",
       "</div>"
      ],
      "text/plain": [
       "                                                     WKT  Polygon_GBK_Senayan   \n",
       "0      POLYGON ((106.798059 -6.216523, 106.798104 -6....                  NaN  \\\n",
       "1      POLYGON ((106.798059 -6.216478, 106.798104 -6....                  NaN   \n",
       "2      POLYGON ((106.798059 -6.216434, 106.798104 -6....                  NaN   \n",
       "3      POLYGON ((106.798059 -6.216389, 106.798104 -6....                  NaN   \n",
       "4      POLYGON ((106.798059 -6.216344, 106.798104 -6....                  NaN   \n",
       "...                                                  ...                  ...   \n",
       "75127  POLYGON ((106.812301 -6.219399, 106.812346 -6....                  NaN   \n",
       "75128  POLYGON ((106.812301 -6.219354, 106.812346 -6....                  NaN   \n",
       "75129  POLYGON ((106.812346 -6.219488, 106.812391 -6....                  NaN   \n",
       "75130  POLYGON ((106.812346 -6.219443, 106.812391 -6....                  NaN   \n",
       "75131  POLYGON ((106.812346 -6.219399, 106.812391 -6....                  NaN   \n",
       "\n",
       "       partition_column  \n",
       "0                     0  \n",
       "1                     1  \n",
       "2                     2  \n",
       "3                     3  \n",
       "4                     4  \n",
       "...                 ...  \n",
       "75127                 7  \n",
       "75128                 8  \n",
       "75129                 9  \n",
       "75130                10  \n",
       "75131                11  \n",
       "\n",
       "[75132 rows x 3 columns]"
      ]
     },
     "execution_count": 6,
     "metadata": {},
     "output_type": "execute_result"
    }
   ],
   "source": [
    "grid"
   ]
  },
  {
   "cell_type": "code",
   "execution_count": null,
   "metadata": {},
   "outputs": [],
   "source": [
    "# sites_gpd = sites_gpd.sjoin_nearest(grid_gpd, how='inner', max_distance = 0.0008985 * 1, distance_col='distance')\n",
    "sites_gpd = gpd.sjoin(left_df= grid, right_df=boundary, how='inner', predicate='intersects')"
   ]
  },
  {
   "cell_type": "code",
   "execution_count": null,
   "metadata": {},
   "outputs": [],
   "source": [
    "# grid.drop(columns=['index_right','WKT', 'polygon_name', 'id_right'], inplace=True)"
   ]
  },
  {
   "cell_type": "code",
   "execution_count": null,
   "metadata": {},
   "outputs": [],
   "source": [
    "# grid.rename(columns={'id_left':'id'}, inplace=True)"
   ]
  },
  {
   "cell_type": "code",
   "execution_count": null,
   "metadata": {},
   "outputs": [],
   "source": [
    "# sites_gpd.to_csv('result/RSRP-UI.csv', index=False)\n",
    "\n",
    "# sites_gpd.to_csv('result/RSRP-UI.csv', index=False)\n",
    "\n",
    "sites_gpd.to_csv('result/grid_inside_GBK.csv')"
   ]
  }
 ],
 "metadata": {
  "kernelspec": {
   "display_name": ".env",
   "language": "python",
   "name": "python3"
  },
  "language_info": {
   "codemirror_mode": {
    "name": "ipython",
    "version": 3
   },
   "file_extension": ".py",
   "mimetype": "text/x-python",
   "name": "python",
   "nbconvert_exporter": "python",
   "pygments_lexer": "ipython3",
   "version": "3.10.11"
  },
  "orig_nbformat": 4
 },
 "nbformat": 4,
 "nbformat_minor": 2
}
