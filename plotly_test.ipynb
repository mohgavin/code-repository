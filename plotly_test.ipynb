{
 "cells": [
  {
   "cell_type": "code",
   "execution_count": null,
   "metadata": {},
   "outputs": [],
   "source": [
    "import geopandas as gpd\n",
    "import pandas as pd\n",
    "import plotly.express as px\n",
    "import ujson"
   ]
  },
  {
   "cell_type": "code",
   "execution_count": null,
   "metadata": {},
   "outputs": [],
   "source": [
    "point = (106.8272, -6.1753)\n",
    "gdf = gpd.read_file('bogorbekasi_rsrp_250x250_methods2.json')\n",
    "\n",
    "gdf_bad = gdf[(gdf['compare'] < -5)]\n",
    "gdf_good = gdf[(gdf['compare'] > 5)]\n",
    "gdf_same = gdf[(gdf['compare'] >= -5) & (gdf['compare'] <= 5)]\n",
    "\n",
    "gdf1 = gpd.read_file('DESA_83218_EID_kec_comb1.geojson')"
   ]
  },
  {
   "cell_type": "code",
   "execution_count": null,
   "metadata": {},
   "outputs": [],
   "source": [
    "px.scatter_mapbox(lat=[point[1]], lon=[point[0]], width=1200, height=670).update_layout(\n",
    "    mapbox={\n",
    "        # \"style\": 'open-street-map',\n",
    "        \"style\": 'white-bg',\n",
    "        \"zoom\": 9,\n",
    "        \"layers\": [\n",
    "            {\n",
    "                \"below\": \"traces\",\n",
    "                \"sourcetype\": \"raster\",\n",
    "                \"sourceattribution\": \"Google Earth Maps\",\n",
    "                \"source\": [\"http://mt0.google.com/vt/lyrs=s&hl=en&x={x}&y={y}&z={z}\"]\n",
    "            },\n",
    "            {\n",
    "                \"source\": ujson.loads(gdf_bad.geometry.to_json()),\n",
    "                \"below\": \"traces\",\n",
    "                \"type\": \"line\",\n",
    "                \"color\": \"red\",\n",
    "                \"line\": {\"width\": 1.5},\n",
    "            },\n",
    "            {\n",
    "                \"source\": ujson.loads(gdf_good.geometry.to_json()),\n",
    "                \"below\": \"traces\",\n",
    "                \"type\": \"fill\",\n",
    "                \"color\": \"green\"\n",
    "            },\n",
    "            {\n",
    "                \"source\": ujson.loads(gdf_same.geometry.to_json()),\n",
    "                \"below\": \"traces\",\n",
    "                \"type\": \"line\",\n",
    "                \"color\": \"yellow\",\n",
    "                \"line\": {\"width\": 1.5},\n",
    "            }, \n",
    "            {\n",
    "                \"source\": ujson.loads(gdf1.geometry.to_json()),\n",
    "                \"below\": \"traces\",\n",
    "                \"type\": \"line\",\n",
    "                \"color\": \"white\",\n",
    "                \"line\": {\"width\": 1.5},\n",
    "            }\n",
    "        ],\n",
    "    },\n",
    "    margin={\"l\": 0, \"r\": 0, \"t\": 0, \"b\": 0},\n",
    ")"
   ]
  },
  {
   "cell_type": "code",
   "execution_count": null,
   "metadata": {},
   "outputs": [],
   "source": [
    "gdf_same"
   ]
  }
 ],
 "metadata": {
  "kernelspec": {
   "display_name": ".env",
   "language": "python",
   "name": "python3"
  },
  "language_info": {
   "codemirror_mode": {
    "name": "ipython",
    "version": 3
   },
   "file_extension": ".py",
   "mimetype": "text/x-python",
   "name": "python",
   "nbconvert_exporter": "python",
   "pygments_lexer": "ipython3",
   "version": "3.10.10"
  },
  "orig_nbformat": 4
 },
 "nbformat": 4,
 "nbformat_minor": 2
}
