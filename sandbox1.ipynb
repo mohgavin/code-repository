{
 "cells": [
  {
   "cell_type": "code",
   "execution_count": 1,
   "metadata": {},
   "outputs": [],
   "source": [
    "import dask.dataframe as dask_pd\n",
    "import dask_geopandas as dask_gpd\n",
    "import geopandas as gpd"
   ]
  },
  {
   "cell_type": "code",
   "execution_count": 2,
   "metadata": {},
   "outputs": [],
   "source": [
    "# dask_df_mdt =  dask_pd.read_csv('Compile-Files/mdt*.csv')\n",
    "dask_df_mdt =  dask_pd.read_csv('Compile-Files/mdt*.csv', usecols=[2,3,4,6,7,8,9])"
   ]
  },
  {
   "cell_type": "code",
   "execution_count": 4,
   "metadata": {},
   "outputs": [
    {
     "data": {
      "text/html": [
       "<div>\n",
       "<style scoped>\n",
       "    .dataframe tbody tr th:only-of-type {\n",
       "        vertical-align: middle;\n",
       "    }\n",
       "\n",
       "    .dataframe tbody tr th {\n",
       "        vertical-align: top;\n",
       "    }\n",
       "\n",
       "    .dataframe thead th {\n",
       "        text-align: right;\n",
       "    }\n",
       "</style>\n",
       "<table border=\"1\" class=\"dataframe\">\n",
       "  <thead>\n",
       "    <tr style=\"text-align: right;\">\n",
       "      <th></th>\n",
       "      <th>site</th>\n",
       "      <th>enodebid</th>\n",
       "      <th>ci</th>\n",
       "      <th>longitude</th>\n",
       "      <th>latitude</th>\n",
       "      <th>altitude</th>\n",
       "      <th>rsrp_serving</th>\n",
       "    </tr>\n",
       "  </thead>\n",
       "  <tbody>\n",
       "    <tr>\n",
       "      <th>549917</th>\n",
       "      <td>4465184E_CO</td>\n",
       "      <td>462121</td>\n",
       "      <td>4</td>\n",
       "      <td>106.973310</td>\n",
       "      <td>-6.868558</td>\n",
       "      <td>0</td>\n",
       "      <td>-83</td>\n",
       "    </tr>\n",
       "    <tr>\n",
       "      <th>549918</th>\n",
       "      <td>4465184E_CO</td>\n",
       "      <td>462121</td>\n",
       "      <td>4</td>\n",
       "      <td>106.973310</td>\n",
       "      <td>-6.868558</td>\n",
       "      <td>0</td>\n",
       "      <td>-86</td>\n",
       "    </tr>\n",
       "    <tr>\n",
       "      <th>549919</th>\n",
       "      <td>4465184E_CO</td>\n",
       "      <td>462121</td>\n",
       "      <td>4</td>\n",
       "      <td>106.973310</td>\n",
       "      <td>-6.868558</td>\n",
       "      <td>0</td>\n",
       "      <td>-79</td>\n",
       "    </tr>\n",
       "    <tr>\n",
       "      <th>549920</th>\n",
       "      <td>4465184E_CO</td>\n",
       "      <td>462121</td>\n",
       "      <td>2</td>\n",
       "      <td>106.972023</td>\n",
       "      <td>-6.875006</td>\n",
       "      <td>0</td>\n",
       "      <td>-78</td>\n",
       "    </tr>\n",
       "    <tr>\n",
       "      <th>549921</th>\n",
       "      <td>4465184E_CO</td>\n",
       "      <td>462121</td>\n",
       "      <td>2</td>\n",
       "      <td>106.972044</td>\n",
       "      <td>-6.874995</td>\n",
       "      <td>0</td>\n",
       "      <td>-79</td>\n",
       "    </tr>\n",
       "  </tbody>\n",
       "</table>\n",
       "</div>"
      ],
      "text/plain": [
       "               site  enodebid  ci   longitude  latitude  altitude   \n",
       "549917  4465184E_CO    462121   4  106.973310 -6.868558         0  \\\n",
       "549918  4465184E_CO    462121   4  106.973310 -6.868558         0   \n",
       "549919  4465184E_CO    462121   4  106.973310 -6.868558         0   \n",
       "549920  4465184E_CO    462121   2  106.972023 -6.875006         0   \n",
       "549921  4465184E_CO    462121   2  106.972044 -6.874995         0   \n",
       "\n",
       "        rsrp_serving  \n",
       "549917           -83  \n",
       "549918           -86  \n",
       "549919           -79  \n",
       "549920           -78  \n",
       "549921           -79  "
      ]
     },
     "execution_count": 4,
     "metadata": {},
     "output_type": "execute_result"
    }
   ],
   "source": [
    "dask_df_mdt.tail(5)"
   ]
  },
  {
   "cell_type": "code",
   "execution_count": null,
   "metadata": {},
   "outputs": [],
   "source": [
    "dask_gdf_mdt = dask_gpd.from_dask_dataframe(dask_df_mdt, geometry=dask_gpd.points_from_xy(dask_df_mdt['longitude'], dask_df_mdt['latitude']))\n",
    "\n",
    "dask_gdf_mdt = dask_gdf_mdt.set_crs(4326)\n",
    "\n",
    "grid = gpd.read_file('Grid Folder/Busy Intersection - Jorr - Jakarta Selatan Area.tab')\n",
    "\n",
    "grid = grid.to_crs(4326)"
   ]
  },
  {
   "cell_type": "code",
   "execution_count": null,
   "metadata": {},
   "outputs": [],
   "source": [
    "dask_gdf_mdt = dask_gdf_mdt.reset_index().reset_index()"
   ]
  },
  {
   "cell_type": "code",
   "execution_count": null,
   "metadata": {},
   "outputs": [],
   "source": [
    "dask_gdf_mdt = dask_gdf_mdt.set_index('level_0')"
   ]
  },
  {
   "cell_type": "code",
   "execution_count": null,
   "metadata": {},
   "outputs": [],
   "source": [
    "dask_gdf_mdt.head(5)"
   ]
  },
  {
   "cell_type": "code",
   "execution_count": null,
   "metadata": {},
   "outputs": [],
   "source": [
    "dask_gpd_mdt = dask_gpd.sjoin(dask_gpd_mdt, grid, how='inner', predicate='intersects')"
   ]
  },
  {
   "cell_type": "code",
   "execution_count": null,
   "metadata": {},
   "outputs": [],
   "source": [
    "dask_gpd_mdt[~dask_gpd_mdt['poly_name'].isnull()].to_feather('test.feather')"
   ]
  }
 ],
 "metadata": {
  "kernelspec": {
   "display_name": ".env",
   "language": "python",
   "name": "python3"
  },
  "language_info": {
   "codemirror_mode": {
    "name": "ipython",
    "version": 3
   },
   "file_extension": ".py",
   "mimetype": "text/x-python",
   "name": "python",
   "nbconvert_exporter": "python",
   "pygments_lexer": "ipython3",
   "version": "3.10.11"
  },
  "orig_nbformat": 4
 },
 "nbformat": 4,
 "nbformat_minor": 2
}
