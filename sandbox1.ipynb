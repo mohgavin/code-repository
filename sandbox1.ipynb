{
 "cells": [
  {
   "cell_type": "code",
   "execution_count": 1,
   "metadata": {},
   "outputs": [],
   "source": [
    "import geopandas as gpd\n",
    "import pandas as pd"
   ]
  },
  {
   "cell_type": "code",
   "execution_count": 2,
   "metadata": {},
   "outputs": [],
   "source": [
    "explore = pd.read_csv(\"result/consolidate_file.csv\", nrows=100000)"
   ]
  },
  {
   "cell_type": "code",
   "execution_count": 3,
   "metadata": {},
   "outputs": [
    {
     "data": {
      "text/plain": [
       "36879    2023-05-01 00:00:00.197000+00:00\n",
       "26559    2023-05-01 00:02:00.182000+00:00\n",
       "37291    2023-05-01 00:04:00.092000+00:00\n",
       "93804    2023-05-01 00:04:00.096000+00:00\n",
       "79049    2023-05-01 00:06:00.081000+00:00\n",
       "                       ...               \n",
       "3884     2023-05-28 15:26:00.206000+00:00\n",
       "9260     2023-05-28 15:26:00.251000+00:00\n",
       "6565     2023-05-28 15:28:00.203000+00:00\n",
       "56320    2023-05-28 15:30:00.136000+00:00\n",
       "31800    2023-05-28 15:32:00.440000+00:00\n",
       "Name: created_date, Length: 100000, dtype: object"
      ]
     },
     "execution_count": 3,
     "metadata": {},
     "output_type": "execute_result"
    }
   ],
   "source": [
    "explore['created_date'].sort_values()"
   ]
  }
 ],
 "metadata": {
  "kernelspec": {
   "display_name": ".python-3.10",
   "language": "python",
   "name": "python3"
  },
  "language_info": {
   "codemirror_mode": {
    "name": "ipython",
    "version": 3
   },
   "file_extension": ".py",
   "mimetype": "text/x-python",
   "name": "python",
   "nbconvert_exporter": "python",
   "pygments_lexer": "ipython3",
   "version": "3.10.11"
  },
  "orig_nbformat": 4
 },
 "nbformat": 4,
 "nbformat_minor": 2
}
