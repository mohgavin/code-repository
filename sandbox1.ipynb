{
 "cells": [
  {
   "cell_type": "code",
   "execution_count": 1,
   "metadata": {},
   "outputs": [],
   "source": [
    "import dask.dataframe as dask_pd\n",
    "import dask_geopandas as dask_gpd\n",
    "import geopandas as gpd\n",
    "from dask.distributed import Client"
   ]
  },
  {
   "cell_type": "code",
   "execution_count": 2,
   "metadata": {},
   "outputs": [],
   "source": [
    "# explore = dask_pd.read_csv(\"sample-folder/ue_traffic.csv\", usecols=[0,1,2,3,4,10,12,13], assume_missing=True)\n",
    "explore = dask_pd.read_csv(\"sample-folder/mdt_result.csv\", assume_missing=True)\n",
    "boundary = dask_pd.read_csv(\"csv_polygon/polygon_xl-eid_LautIncluded.csv\", assume_missing=True)\n",
    "grid = dask_pd.read_csv('Grid_Folder/40x40grid_alljabo.csv', assume_missing=True)\n",
    "# grid = dask_pd.read_parquet('Grid_Folder/100x100_gridjabo.parquet', assume_missing=True)"
   ]
  },
  {
   "cell_type": "code",
   "execution_count": 3,
   "metadata": {},
   "outputs": [],
   "source": [
    "explore = explore.reset_index()"
   ]
  },
  {
   "cell_type": "code",
   "execution_count": 4,
   "metadata": {},
   "outputs": [],
   "source": [
    "explore['pointer'] = \"POINT (\" + explore['longitude'].astype(str) + \" \" + explore['latitude'].astype(str) + \")\"\n",
    "\n",
    "dask_gdf_mdt = dask_gpd.from_dask_dataframe(explore, geometry=explore[\"pointer\"].map_partitions(gpd.GeoSeries.from_wkt, meta=gpd.GeoSeries([])),)\n",
    "#dask_gdf_mdt = dask_gdf_mdt.set_crs(4326)"
   ]
  },
  {
   "cell_type": "code",
   "execution_count": 5,
   "metadata": {},
   "outputs": [],
   "source": [
    "dask_gdf_boundary = dask_gpd.from_dask_dataframe(boundary, geometry=boundary['WKT'].map_partitions(gpd.GeoSeries.from_wkt, meta=gpd.GeoSeries([])),)"
   ]
  },
  {
   "cell_type": "code",
   "execution_count": 6,
   "metadata": {},
   "outputs": [],
   "source": [
    "dask_gdf_grid = dask_gpd.from_dask_dataframe(grid, geometry=grid['geometry'].map_partitions(gpd.GeoSeries.from_wkt, meta=gpd.GeoSeries([])),)"
   ]
  },
  {
   "cell_type": "code",
   "execution_count": 7,
   "metadata": {},
   "outputs": [],
   "source": [
    "dask_gdf_grid = dask_gdf_grid.reset_index()\n",
    "dask_gdf_grid = dask_gdf_grid.set_index(dask_gdf_grid['index'])"
   ]
  },
  {
   "cell_type": "code",
   "execution_count": null,
   "metadata": {},
   "outputs": [],
   "source": [
    "dask_gdf_mdt = dask_gdf_mdt.reset_index()\n",
    "dask_gdf_mdt = dask_gdf_mdt.set_index(dask_gdf_mdt['index'])"
   ]
  },
  {
   "cell_type": "code",
   "execution_count": null,
   "metadata": {},
   "outputs": [],
   "source": [
    "boolvalue = dask_gdf_mdt.within(dask_gdf_grid)\n",
    "\n",
    "# dask_gdf_mdt = dask_gdf_mdt.sjoin(dask_gdf_boundary, how='inner', predicate='within')\n",
    "# dask_gdf_mdt = dask_gdf_mdt.sjoin(dask_gdf_boundary, how='inner', predicate='within')"
   ]
  },
  {
   "cell_type": "code",
   "execution_count": null,
   "metadata": {},
   "outputs": [],
   "source": [
    "dask_gdf_mdt.multi"
   ]
  },
  {
   "cell_type": "code",
   "execution_count": null,
   "metadata": {},
   "outputs": [],
   "source": [
    "dask_gdf_mdt = dask_gdf_mdt.drop(columns=['index_right', 'id'])"
   ]
  },
  {
   "cell_type": "code",
   "execution_count": null,
   "metadata": {},
   "outputs": [],
   "source": [
    "dask_gdf_mdt = dask_gdf_mdt.sjoin(dask_gdf_grid, how='inner', predicate='within')"
   ]
  }
 ],
 "metadata": {
  "kernelspec": {
   "display_name": ".python-3.10",
   "language": "python",
   "name": "python3"
  },
  "language_info": {
   "codemirror_mode": {
    "name": "ipython",
    "version": 3
   },
   "file_extension": ".py",
   "mimetype": "text/x-python",
   "name": "python",
   "nbconvert_exporter": "python",
   "pygments_lexer": "ipython3",
   "version": "3.10.11"
  },
  "orig_nbformat": 4
 },
 "nbformat": 4,
 "nbformat_minor": 2
}
