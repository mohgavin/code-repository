{
 "cells": [
  {
   "cell_type": "code",
   "execution_count": 1,
   "metadata": {},
   "outputs": [],
   "source": [
    "import geopandas as gpd\n",
    "import pandas as pd\n",
    "import numpy as np"
   ]
  },
  {
   "cell_type": "code",
   "execution_count": 2,
   "metadata": {},
   "outputs": [
    {
     "ename": "TypeError",
     "evalue": "Expected bytes or string, got float",
     "output_type": "error",
     "traceback": [
      "\u001b[0;31m---------------------------------------------------------------------------\u001b[0m",
      "\u001b[0;31mTypeError\u001b[0m                                 Traceback (most recent call last)",
      "Cell \u001b[0;32mIn[2], line 17\u001b[0m\n\u001b[1;32m     14\u001b[0m data2\u001b[39m.\u001b[39mrename(columns\u001b[39m=\u001b[39m{\u001b[39m'\u001b[39m\u001b[39mgeometry_polygon\u001b[39m\u001b[39m'\u001b[39m:\u001b[39m'\u001b[39m\u001b[39mgeometry_polygon_pop\u001b[39m\u001b[39m'\u001b[39m}, inplace\u001b[39m=\u001b[39m\u001b[39mTrue\u001b[39;00m)\n\u001b[1;32m     16\u001b[0m data1   \u001b[39m=\u001b[39m pd\u001b[39m.\u001b[39mconcat([data1, data2], axis\u001b[39m=\u001b[39m\u001b[39m1\u001b[39m)\n\u001b[0;32m---> 17\u001b[0m data1   \u001b[39m=\u001b[39m gpd\u001b[39m.\u001b[39mGeoDataFrame(data1, geometry\u001b[39m=\u001b[39mgpd\u001b[39m.\u001b[39;49mGeoSeries\u001b[39m.\u001b[39;49mfrom_wkt(data1[\u001b[39m'\u001b[39;49m\u001b[39mgeometry_polygon\u001b[39;49m\u001b[39m'\u001b[39;49m]), crs\u001b[39m=\u001b[39m\u001b[39m4326\u001b[39m)\n\u001b[1;32m     19\u001b[0m \u001b[39m# grid    = pd.read_parquet('Grid_Folder/100x100_gridjabo.parquet')\u001b[39;00m\n\u001b[1;32m     20\u001b[0m \u001b[39m# grid   = gpd.GeoDataFrame(grid, geometry=gpd.GeoSeries.from_wkt(grid['geometry']), crs=4326)\u001b[39;00m\n\u001b[1;32m     21\u001b[0m \u001b[39m# grid_gpd = grid_gpd.to_crs(4326)\u001b[39;00m\n\u001b[1;32m     23\u001b[0m grid_gpd \u001b[39m=\u001b[39m gpd\u001b[39m.\u001b[39mread_file(\u001b[39m'\u001b[39m\u001b[39mPolygon XL - EID Area/Border Toll from and to Cawang Intersection.TAB\u001b[39m\u001b[39m'\u001b[39m, crs\u001b[39m=\u001b[39m\u001b[39m4326\u001b[39m, driver\u001b[39m=\u001b[39m\u001b[39m\"\u001b[39m\u001b[39mMapInfo File\u001b[39m\u001b[39m\"\u001b[39m)\n",
      "File \u001b[0;32m~/2023-Linux/.python-3.10/lib/python3.10/site-packages/geopandas/geoseries.py:444\u001b[0m, in \u001b[0;36mGeoSeries.from_wkt\u001b[0;34m(cls, data, index, crs, **kwargs)\u001b[0m\n\u001b[1;32m    400\u001b[0m \u001b[39m@classmethod\u001b[39m\n\u001b[1;32m    401\u001b[0m \u001b[39mdef\u001b[39;00m \u001b[39mfrom_wkt\u001b[39m(\u001b[39mcls\u001b[39m, data, index\u001b[39m=\u001b[39m\u001b[39mNone\u001b[39;00m, crs\u001b[39m=\u001b[39m\u001b[39mNone\u001b[39;00m, \u001b[39m*\u001b[39m\u001b[39m*\u001b[39mkwargs):\n\u001b[1;32m    402\u001b[0m \u001b[39m    \u001b[39m\u001b[39m\"\"\"\u001b[39;00m\n\u001b[1;32m    403\u001b[0m \u001b[39m    Alternate constructor to create a ``GeoSeries``\u001b[39;00m\n\u001b[1;32m    404\u001b[0m \u001b[39m    from a list or array of WKT objects\u001b[39;00m\n\u001b[0;32m   (...)\u001b[0m\n\u001b[1;32m    442\u001b[0m \u001b[39m    dtype: geometry\u001b[39;00m\n\u001b[1;32m    443\u001b[0m \u001b[39m    \"\"\"\u001b[39;00m\n\u001b[0;32m--> 444\u001b[0m     \u001b[39mreturn\u001b[39;00m \u001b[39mcls\u001b[39;49m\u001b[39m.\u001b[39;49m_from_wkb_or_wkb(from_wkt, data, index\u001b[39m=\u001b[39;49mindex, crs\u001b[39m=\u001b[39;49mcrs, \u001b[39m*\u001b[39;49m\u001b[39m*\u001b[39;49mkwargs)\n",
      "File \u001b[0;32m~/2023-Linux/.python-3.10/lib/python3.10/site-packages/geopandas/geoseries.py:512\u001b[0m, in \u001b[0;36mGeoSeries._from_wkb_or_wkb\u001b[0;34m(cls, from_wkb_or_wkt_function, data, index, crs, **kwargs)\u001b[0m\n\u001b[1;32m    510\u001b[0m         index \u001b[39m=\u001b[39m data\u001b[39m.\u001b[39mindex\n\u001b[1;32m    511\u001b[0m     data \u001b[39m=\u001b[39m data\u001b[39m.\u001b[39mvalues\n\u001b[0;32m--> 512\u001b[0m \u001b[39mreturn\u001b[39;00m \u001b[39mcls\u001b[39m(from_wkb_or_wkt_function(data, crs\u001b[39m=\u001b[39;49mcrs), index\u001b[39m=\u001b[39mindex, \u001b[39m*\u001b[39m\u001b[39m*\u001b[39mkwargs)\n",
      "File \u001b[0;32m~/2023-Linux/.python-3.10/lib/python3.10/site-packages/geopandas/array.py:210\u001b[0m, in \u001b[0;36mfrom_wkt\u001b[0;34m(data, crs)\u001b[0m\n\u001b[1;32m    196\u001b[0m \u001b[39mdef\u001b[39;00m \u001b[39mfrom_wkt\u001b[39m(data, crs\u001b[39m=\u001b[39m\u001b[39mNone\u001b[39;00m):\n\u001b[1;32m    197\u001b[0m \u001b[39m    \u001b[39m\u001b[39m\"\"\"\u001b[39;00m\n\u001b[1;32m    198\u001b[0m \u001b[39m    Convert a list or array of WKT objects to a GeometryArray.\u001b[39;00m\n\u001b[1;32m    199\u001b[0m \n\u001b[0;32m   (...)\u001b[0m\n\u001b[1;32m    208\u001b[0m \n\u001b[1;32m    209\u001b[0m \u001b[39m    \"\"\"\u001b[39;00m\n\u001b[0;32m--> 210\u001b[0m     \u001b[39mreturn\u001b[39;00m GeometryArray(vectorized\u001b[39m.\u001b[39;49mfrom_wkt(data), crs\u001b[39m=\u001b[39mcrs)\n",
      "File \u001b[0;32m~/2023-Linux/.python-3.10/lib/python3.10/site-packages/geopandas/_vectorized.py:213\u001b[0m, in \u001b[0;36mfrom_wkt\u001b[0;34m(data)\u001b[0m\n\u001b[1;32m    209\u001b[0m \u001b[39m\u001b[39m\u001b[39m\"\"\"\u001b[39;00m\n\u001b[1;32m    210\u001b[0m \u001b[39mConvert a list or array of WKT objects to a np.ndarray[geoms].\u001b[39;00m\n\u001b[1;32m    211\u001b[0m \u001b[39m\"\"\"\u001b[39;00m\n\u001b[1;32m    212\u001b[0m \u001b[39mif\u001b[39;00m compat\u001b[39m.\u001b[39mUSE_SHAPELY_20:\n\u001b[0;32m--> 213\u001b[0m     \u001b[39mreturn\u001b[39;00m shapely\u001b[39m.\u001b[39;49mfrom_wkt(data)\n\u001b[1;32m    214\u001b[0m \u001b[39mif\u001b[39;00m compat\u001b[39m.\u001b[39mUSE_PYGEOS:\n\u001b[1;32m    215\u001b[0m     \u001b[39mreturn\u001b[39;00m pygeos\u001b[39m.\u001b[39mfrom_wkt(data)\n",
      "File \u001b[0;32m~/2023-Linux/.python-3.10/lib/python3.10/site-packages/shapely/io.py:286\u001b[0m, in \u001b[0;36mfrom_wkt\u001b[0;34m(geometry, on_invalid, **kwargs)\u001b[0m\n\u001b[1;32m    282\u001b[0m     \u001b[39mraise\u001b[39;00m \u001b[39mTypeError\u001b[39;00m(\u001b[39m\"\u001b[39m\u001b[39mon_invalid only accepts scalar values\u001b[39m\u001b[39m\"\u001b[39m)\n\u001b[1;32m    284\u001b[0m invalid_handler \u001b[39m=\u001b[39m np\u001b[39m.\u001b[39muint8(DecodingErrorOptions\u001b[39m.\u001b[39mget_value(on_invalid))\n\u001b[0;32m--> 286\u001b[0m \u001b[39mreturn\u001b[39;00m lib\u001b[39m.\u001b[39;49mfrom_wkt(geometry, invalid_handler, \u001b[39m*\u001b[39;49m\u001b[39m*\u001b[39;49mkwargs)\n",
      "\u001b[0;31mTypeError\u001b[0m: Expected bytes or string, got float"
     ]
    }
   ],
   "source": [
    "# sites   = pd.read_excel('sites/Existing Sites.xlsx')\n",
    "# sites_gpd   = gpd.GeoDataFrame(sites, geometry=gpd.points_from_xy(sites['Longitude'], sites['Latitude']), crs=4326)\n",
    "# sites_gpd = sites_gpd.to_crs(4326)\n",
    "\n",
    "# sites   = pd.read_excel('sample-folder/Book1.xlsx')\n",
    "# sites_gpd   = gpd.GeoDataFrame(sites, geometry=gpd.points_from_xy(sites['Long'], sites['Lat']), crs=4326)\n",
    "\n",
    "# polygon   = pd.read_csv('csv_polygon/polygon_xl-eid_LautIncluded.csv')\n",
    "# polygon   = gpd.GeoDataFrame(polygon, geometry=gpd.GeoSeries.from_wkt(polygon['WKT']), crs=4326)\n",
    "# sites_gpd = sites_gpd.to_crs(4326)\n",
    "\n",
    "data1   = pd.read_csv('result/rsrp-l900-alljabo-40x40.csv/0.part')\n",
    "data2   = pd.read_csv('result/rsrp-l900-alljabo-40x40-pop.csv/0.part')\n",
    "\n",
    "data2.rename(columns={'geometry_polygon':'geometry_polygon_pop'}, inplace=True)\n",
    "\n",
    "data1   = pd.concat([data1, data2], axis=1)\n",
    "data1   = gpd.GeoDataFrame(data1, geometry=gpd.GeoSeries.from_wkt(data1['geometry_polygon']), crs=4326)\n",
    "\n",
    "# grid    = pd.read_parquet('Grid_Folder/100x100_gridjabo.parquet')\n",
    "# grid   = gpd.GeoDataFrame(grid, geometry=gpd.GeoSeries.from_wkt(grid['geometry']), crs=4326)\n",
    "# grid_gpd = grid_gpd.to_crs(4326)\n",
    "\n",
    "grid_gpd = gpd.read_file('Polygon XL - EID Area/Border Toll from and to Cawang Intersection.TAB', crs=4326, driver=\"MapInfo File\")\n",
    "grid_gpd = grid_gpd.to_crs(4326)\n",
    "\n",
    "# grid    = pd.read_csv('Grid Folder/Bad RSRP Performance_grid500.csv')\n",
    "# grid_gpd   = gpd.GeoDataFrame(grid, geometry=gpd.points_from_xy(grid['Long Grid'], grid['Lat Grid']), crs=4326)\n",
    "# grid_gpd = grid_gpd.to_crs(4326)"
   ]
  },
  {
   "cell_type": "code",
   "execution_count": 3,
   "metadata": {},
   "outputs": [
    {
     "data": {
      "text/html": [
       "<div>\n",
       "<style scoped>\n",
       "    .dataframe tbody tr th:only-of-type {\n",
       "        vertical-align: middle;\n",
       "    }\n",
       "\n",
       "    .dataframe tbody tr th {\n",
       "        vertical-align: top;\n",
       "    }\n",
       "\n",
       "    .dataframe thead th {\n",
       "        text-align: right;\n",
       "    }\n",
       "</style>\n",
       "<table border=\"1\" class=\"dataframe\">\n",
       "  <thead>\n",
       "    <tr style=\"text-align: right;\">\n",
       "      <th></th>\n",
       "      <th>geometry_polygon</th>\n",
       "      <th>rsrp</th>\n",
       "      <th>geometry_polygon_pop</th>\n",
       "      <th>rsrp-l900</th>\n",
       "    </tr>\n",
       "  </thead>\n",
       "  <tbody>\n",
       "    <tr>\n",
       "      <th>0</th>\n",
       "      <td>POLYGON ((105.279546 -6.633835, 105.279905 -6....</td>\n",
       "      <td>-118.0</td>\n",
       "      <td>POLYGON ((105.279546 -6.633835, 105.279905 -6....</td>\n",
       "      <td>1.0</td>\n",
       "    </tr>\n",
       "    <tr>\n",
       "      <th>1</th>\n",
       "      <td>POLYGON ((105.279905 -6.633475, 105.280265 -6....</td>\n",
       "      <td>-118.0</td>\n",
       "      <td>POLYGON ((105.279905 -6.633475, 105.280265 -6....</td>\n",
       "      <td>1.0</td>\n",
       "    </tr>\n",
       "    <tr>\n",
       "      <th>2</th>\n",
       "      <td>POLYGON ((105.280265 -6.633116, 105.280624 -6....</td>\n",
       "      <td>-116.5</td>\n",
       "      <td>POLYGON ((105.280265 -6.633116, 105.280624 -6....</td>\n",
       "      <td>2.0</td>\n",
       "    </tr>\n",
       "    <tr>\n",
       "      <th>3</th>\n",
       "      <td>POLYGON ((105.318002 -6.550813, 105.318361 -6....</td>\n",
       "      <td>-117.0</td>\n",
       "      <td>POLYGON ((105.318002 -6.550813, 105.318361 -6....</td>\n",
       "      <td>1.0</td>\n",
       "    </tr>\n",
       "    <tr>\n",
       "      <th>4</th>\n",
       "      <td>POLYGON ((105.318002 -6.551173, 105.318361 -6....</td>\n",
       "      <td>-116.5</td>\n",
       "      <td>POLYGON ((105.318002 -6.551173, 105.318361 -6....</td>\n",
       "      <td>2.0</td>\n",
       "    </tr>\n",
       "    <tr>\n",
       "      <th>...</th>\n",
       "      <td>...</td>\n",
       "      <td>...</td>\n",
       "      <td>...</td>\n",
       "      <td>...</td>\n",
       "    </tr>\n",
       "    <tr>\n",
       "      <th>1911798</th>\n",
       "      <td>NaN</td>\n",
       "      <td>NaN</td>\n",
       "      <td>POLYGON ((107.642601 -6.164458, 107.64296 -6.1...</td>\n",
       "      <td>1.0</td>\n",
       "    </tr>\n",
       "    <tr>\n",
       "      <th>1911799</th>\n",
       "      <td>NaN</td>\n",
       "      <td>NaN</td>\n",
       "      <td>POLYGON ((107.64296 -6.164818, 107.64332 -6.16...</td>\n",
       "      <td>2.0</td>\n",
       "    </tr>\n",
       "    <tr>\n",
       "      <th>1911800</th>\n",
       "      <td>NaN</td>\n",
       "      <td>NaN</td>\n",
       "      <td>POLYGON ((107.64296 -6.165177, 107.64332 -6.16...</td>\n",
       "      <td>1.0</td>\n",
       "    </tr>\n",
       "    <tr>\n",
       "      <th>1911801</th>\n",
       "      <td>NaN</td>\n",
       "      <td>NaN</td>\n",
       "      <td>POLYGON ((107.64332 -6.165896, 107.643679 -6.1...</td>\n",
       "      <td>1.0</td>\n",
       "    </tr>\n",
       "    <tr>\n",
       "      <th>1911802</th>\n",
       "      <td>NaN</td>\n",
       "      <td>NaN</td>\n",
       "      <td>POLYGON ((107.64332 -6.166615, 107.643679 -6.1...</td>\n",
       "      <td>1.0</td>\n",
       "    </tr>\n",
       "  </tbody>\n",
       "</table>\n",
       "<p>1911803 rows × 4 columns</p>\n",
       "</div>"
      ],
      "text/plain": [
       "                                          geometry_polygon   rsrp   \n",
       "0        POLYGON ((105.279546 -6.633835, 105.279905 -6.... -118.0  \\\n",
       "1        POLYGON ((105.279905 -6.633475, 105.280265 -6.... -118.0   \n",
       "2        POLYGON ((105.280265 -6.633116, 105.280624 -6.... -116.5   \n",
       "3        POLYGON ((105.318002 -6.550813, 105.318361 -6.... -117.0   \n",
       "4        POLYGON ((105.318002 -6.551173, 105.318361 -6.... -116.5   \n",
       "...                                                    ...    ...   \n",
       "1911798                                                NaN    NaN   \n",
       "1911799                                                NaN    NaN   \n",
       "1911800                                                NaN    NaN   \n",
       "1911801                                                NaN    NaN   \n",
       "1911802                                                NaN    NaN   \n",
       "\n",
       "                                      geometry_polygon_pop  rsrp-l900  \n",
       "0        POLYGON ((105.279546 -6.633835, 105.279905 -6....        1.0  \n",
       "1        POLYGON ((105.279905 -6.633475, 105.280265 -6....        1.0  \n",
       "2        POLYGON ((105.280265 -6.633116, 105.280624 -6....        2.0  \n",
       "3        POLYGON ((105.318002 -6.550813, 105.318361 -6....        1.0  \n",
       "4        POLYGON ((105.318002 -6.551173, 105.318361 -6....        2.0  \n",
       "...                                                    ...        ...  \n",
       "1911798  POLYGON ((107.642601 -6.164458, 107.64296 -6.1...        1.0  \n",
       "1911799  POLYGON ((107.64296 -6.164818, 107.64332 -6.16...        2.0  \n",
       "1911800  POLYGON ((107.64296 -6.165177, 107.64332 -6.16...        1.0  \n",
       "1911801  POLYGON ((107.64332 -6.165896, 107.643679 -6.1...        1.0  \n",
       "1911802  POLYGON ((107.64332 -6.166615, 107.643679 -6.1...        1.0  \n",
       "\n",
       "[1911803 rows x 4 columns]"
      ]
     },
     "execution_count": 3,
     "metadata": {},
     "output_type": "execute_result"
    }
   ],
   "source": [
    "data1"
   ]
  },
  {
   "cell_type": "code",
   "execution_count": null,
   "metadata": {},
   "outputs": [],
   "source": [
    "# sites_gpd = sites_gpd.sjoin_nearest(grid_gpd, how='inner', max_distance = 0.0008985 * 1, distance_col='distance')\n",
    "sites_gpd = gpd.sjoin(left_df= data1, right_df=grid_gpd, how='inner', predicate='within')"
   ]
  },
  {
   "cell_type": "code",
   "execution_count": null,
   "metadata": {},
   "outputs": [],
   "source": [
    "# grid.drop(columns=['index_right','WKT', 'polygon_name', 'id_right'], inplace=True)"
   ]
  },
  {
   "cell_type": "code",
   "execution_count": null,
   "metadata": {},
   "outputs": [],
   "source": [
    "# grid.rename(columns={'id_left':'id'}, inplace=True)"
   ]
  },
  {
   "cell_type": "code",
   "execution_count": null,
   "metadata": {},
   "outputs": [],
   "source": [
    "# sites_gpd.to_csv('result/RSRP-UI.csv', index=False)\n",
    "\n",
    "# sites_gpd.to_csv('result/RSRP-UI.csv', index=False)\n",
    "\n",
    "sites_gpd.drop(columns=['index_right'], inplace=True)\n",
    "sites_gpd.to_csv('result/l900result_Cawang_Intersection.csv', index=False)"
   ]
  }
 ],
 "metadata": {
  "kernelspec": {
   "display_name": ".env",
   "language": "python",
   "name": "python3"
  },
  "language_info": {
   "codemirror_mode": {
    "name": "ipython",
    "version": 3
   },
   "file_extension": ".py",
   "mimetype": "text/x-python",
   "name": "python",
   "nbconvert_exporter": "python",
   "pygments_lexer": "ipython3",
   "version": "3.10.11"
  },
  "orig_nbformat": 4
 },
 "nbformat": 4,
 "nbformat_minor": 2
}
