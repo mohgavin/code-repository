{
 "cells": [
  {
   "cell_type": "code",
   "execution_count": null,
   "metadata": {},
   "outputs": [],
   "source": [
    "import pexpect\n",
    "import time\n",
    "import sys\n",
    "import re\n",
    "import datetime"
   ]
  },
  {
   "cell_type": "code",
   "execution_count": null,
   "metadata": {},
   "outputs": [],
   "source": [
    "#ENM3 -> 10.23.202.28 PW : \"Enm#2021\"\n",
    "#ENM5 -> 10.167.30.28 PW : \"Enm#2021\"\n",
    "\n",
    "child = pexpect.spawn('ssh -L 20001:localhost:8007 -J root@ip.number root@127.0.0.1 -p 8007', timeout=30, encoding='utf-8', logfile=sys.stdout)\n",
    "\n",
    "child.maxread = 300000 \n",
    "\n",
    "child.expect(\"root@ipnumber's password: \")\n",
    "child.sendline('') #Enter Password\n",
    "child.expect(\"root@127.0.0.1's password: \")\n",
    "child.sendline('') #Enter Password\n",
    "\n",
    "time.sleep(3)\n",
    "\n",
    "# Shell command to take after the dates in modification dates\n",
    "# child.sendline('find /var/opt/common5/mdt/ -type f -newermt 2023-04-28 -exec ls -l {} \\;')\n",
    "\n",
    "# Shell command to take only the folder\n",
    "# child.sendline('find /var/opt/common5/mdt/20230205 -type f -exec ls -l {} \\;')\n",
    "\n",
    "# Shell command to take certain range dates in modification dates\n",
    "child.sendline('find /var/opt/common5/mdt -type f -newermt 2023-08-01 ! -newermt 2023-09-01 -exec ls -l {} \\;')\n",
    "\n",
    "try:\n",
    "    child.expect(pexpect.EOF, timeout=300)\n",
    "\n",
    "except pexpect.TIMEOUT:\n",
    "    child.close()\n",
    "    raw = str(child.before)"
   ]
  },
  {
   "cell_type": "code",
   "execution_count": null,
   "metadata": {},
   "outputs": [],
   "source": [
    "test1 = re.split(r'\\s+|\\n', raw)"
   ]
  },
  {
   "cell_type": "code",
   "execution_count": null,
   "metadata": {},
   "outputs": [],
   "source": [
    "# Create list comprehension to filter list of zip files only\n",
    "\n",
    "# result = [file for file in test1 if file.endswith('.zip')]\n",
    "\n",
    "# Create list comprehension to filter only mdt_result.zip only \n",
    "# Option are ue_traffic or mdt_result\n",
    "\n",
    "pattern = r'.*/(?!filter_)[^/]+/ue_traffic\\.zip$'\n",
    "result = [path for path in test1 if re.match(pattern, path)]"
   ]
  },
  {
   "cell_type": "code",
   "execution_count": null,
   "metadata": {},
   "outputs": [],
   "source": [
    "# Create list comprehension to generate weekend dates in June\n",
    "\n",
    "weekend_dates = [date.strftime(\"%Y%m%d\") for date in (datetime.date(2023, 8, day) for day in range(1, 32)) \n",
    "                 if date.weekday() >= 5]\n",
    "\n",
    "# Create list comprehension to generate continous dates in June (from 25 June until 30 June)\n",
    "# continous_dates = re.compile(r'/var/opt/common5/mdt/202306(2[5-9]|30)/\\d{2}/ue_traffic\\.zip')"
   ]
  },
  {
   "cell_type": "code",
   "execution_count": null,
   "metadata": {},
   "outputs": [],
   "source": [
    "# Create list comprehension to filter June Month only\n",
    "result = [path for path in result if '202308' in path]\n",
    "\n",
    "# Create list comprehension to filter Out Some Date\n",
    "result = [path for path in result if '20230817' not in path]  \n",
    "\n",
    "# Create list comprehension to filter out continous dates\n",
    "# result = [path for path in result if not continous_dates.search(path)]\n",
    "\n",
    "# Create list comprehension to filter Out Weekend Date\n",
    "result = [path for path in result if path.split('/')[5] not in weekend_dates]\n",
    "\n",
    "# Create list comprehension to filter Busy Hour only\n",
    "result = [path for path in result if '/18/' in path or '/19/' in path or '/20/' in path or '/21/' in path or '/22/' in path]\n",
    "\n",
    "# Create list comprehension to filter Busy Hour only\n",
    "# result = [path for path in result if '/11/' in path or '/12/' in path or '/13/' in path]\n",
    "\n",
    "# result = [path for path in result if '/07/' in path or '/08/' in path or '/09/']\n",
    "\n",
    "result.sort()"
   ]
  },
  {
   "cell_type": "code",
   "execution_count": null,
   "metadata": {},
   "outputs": [],
   "source": [
    "with open(r'/home/nivag/location_to_dl_8007-throughput.txt', 'w') as fp:\n",
    "    fp.write('\\n'.join(result))"
   ]
  }
 ],
 "metadata": {
  "kernelspec": {
   "display_name": ".python-3.10-1",
   "language": "python",
   "name": "python3"
  },
  "language_info": {
   "codemirror_mode": {
    "name": "ipython",
    "version": 3
   },
   "file_extension": ".py",
   "mimetype": "text/x-python",
   "name": "python",
   "nbconvert_exporter": "python",
   "pygments_lexer": "ipython3",
   "version": "3.10.11"
  },
  "orig_nbformat": 4
 },
 "nbformat": 4,
 "nbformat_minor": 2
}
